{
  "cells": [
    {
      "cell_type": "markdown",
      "metadata": {
        "id": "Xi-_0qA6N5hZ"
      },
      "source": [
        "# ML Session 8주차 : Ensemble, Voting, Stacking"
      ]
    },
    {
      "cell_type": "code",
      "execution_count": 1,
      "metadata": {
        "id": "pvB6NTILa9Z9"
      },
      "outputs": [],
      "source": [
        "import pandas as pd\n",
        "import numpy as np\n",
        "\n",
        "import seaborn as sns\n",
        "import matplotlib.pylab as plt\n",
        "%matplotlib inline\n",
        "\n",
        "import warnings\n",
        "warnings.filterwarnings(\"ignore\")"
      ]
    },
    {
      "cell_type": "code",
      "execution_count": 2,
      "metadata": {
        "colab": {
          "base_uri": "https://localhost:8080/"
        },
        "id": "eo-LLbvna9Z-",
        "outputId": "b493404d-7b18-4f6a-f05b-6b4cd2293bf2"
      },
      "outputs": [
        {
          "output_type": "execute_result",
          "data": {
            "text/plain": [
              "((569, 30),\n",
              " array(['mean radius', 'mean texture', 'mean perimeter', 'mean area',\n",
              "        'mean smoothness', 'mean compactness', 'mean concavity',\n",
              "        'mean concave points', 'mean symmetry', 'mean fractal dimension',\n",
              "        'radius error', 'texture error', 'perimeter error', 'area error',\n",
              "        'smoothness error', 'compactness error', 'concavity error',\n",
              "        'concave points error', 'symmetry error',\n",
              "        'fractal dimension error', 'worst radius', 'worst texture',\n",
              "        'worst perimeter', 'worst area', 'worst smoothness',\n",
              "        'worst compactness', 'worst concavity', 'worst concave points',\n",
              "        'worst symmetry', 'worst fractal dimension'], dtype='<U23'))"
            ]
          },
          "metadata": {},
          "execution_count": 2
        }
      ],
      "source": [
        "# 유방암 데이터 불러오기\n",
        "from sklearn.datasets import load_breast_cancer\n",
        "cancer = load_breast_cancer()\n",
        "cancer.data.shape, cancer.feature_names"
      ]
    },
    {
      "cell_type": "markdown",
      "source": [
        "**[유방암 진단 데이터]**\n",
        "- target : 유방암 진단 여부 (0, 1)\n",
        "- feature : 30개 ('mean radius', 'mean texture', 'mean perimeter', 'mean area', 'mean smoothness' 등)"
      ],
      "metadata": {
        "id": "sDx0efBndRnP"
      }
    },
    {
      "cell_type": "code",
      "execution_count": 3,
      "metadata": {
        "id": "nSpRiHrHa9Z_"
      },
      "outputs": [],
      "source": [
        "# Split Data\n",
        "from sklearn.model_selection import train_test_split\n",
        "X_train, X_test, y_train, y_test = train_test_split(cancer.data, cancer.target, random_state=0)"
      ]
    },
    {
      "cell_type": "markdown",
      "metadata": {
        "id": "vFoKzzwZa9Z_"
      },
      "source": [
        "## 기본 모델"
      ]
    },
    {
      "cell_type": "code",
      "execution_count": 4,
      "metadata": {
        "id": "dZAyV4Kya9aA"
      },
      "outputs": [],
      "source": [
        "from sklearn.linear_model import LogisticRegression\n",
        "from sklearn.neighbors import KNeighborsClassifier\n",
        "from sklearn.tree import DecisionTreeClassifier\n",
        "from sklearn.neural_network import MLPClassifier\n",
        "from sklearn.svm import SVC\n",
        "from sklearn.ensemble import RandomForestClassifier, GradientBoostingClassifier\n",
        "\n",
        "from sklearn.model_selection import cross_val_score\n",
        "from sklearn.metrics import accuracy_score\n",
        "from sklearn.metrics import roc_auc_score"
      ]
    },
    {
      "cell_type": "code",
      "execution_count": 21,
      "metadata": {
        "id": "msAaHsrya9aA"
      },
      "outputs": [],
      "source": [
        "# 기본 모델 저장\n",
        "clfs = []\n",
        "LR=LogisticRegression(random_state=34); clfs.append(LR)\n",
        "DT=DecisionTreeClassifier(random_state=34); clfs.append(DT)\n",
        "MLP=MLPClassifier(random_state=34); clfs.append(MLP)\n",
        "KNN=KNeighborsClassifier(); clfs.append(KNN)\n",
        "RF=RandomForestClassifier(random_state=34); clfs.append(RF)\n",
        "GBM=GradientBoostingClassifier(random_state=34); clfs.append(GBM)"
      ]
    },
    {
      "cell_type": "code",
      "execution_count": 22,
      "metadata": {
        "colab": {
          "base_uri": "https://localhost:8080/"
        },
        "id": "gtzr9pZca9aB",
        "outputId": "2ce0297a-ace8-4906-fb87-4270a805e42a"
      },
      "outputs": [
        {
          "output_type": "stream",
          "name": "stdout",
          "text": [
            "LogisticRegression             0.958041958041958\n",
            "DecisionTreeClassifier         0.9090909090909091\n",
            "MLPClassifier                  0.9300699300699301\n",
            "KNeighborsClassifier           0.9370629370629371\n",
            "RandomForestClassifier         0.958041958041958\n",
            "GradientBoostingClassifier     0.972027972027972\n"
          ]
        }
      ],
      "source": [
        "# 각 모델별 prediction 저장 및 성능(Accuracy) 확인\n",
        "pred_results = []\n",
        "for clf in clfs :\n",
        "    pred = clf.fit(X_train, y_train).predict(X_test)\n",
        "    name = type(clf).__name__\n",
        "    pred_results.append(pd.Series(pred, name=name))\n",
        "    print(\"{:30s} {}\".format(name, accuracy_score(y_test, pred)))"
      ]
    },
    {
      "cell_type": "markdown",
      "metadata": {
        "id": "U2F37ET-N5iP"
      },
      "source": [
        "## Voting"
      ]
    },
    {
      "cell_type": "code",
      "source": [
        "# 각 모델의 prediction 상관관계 확인\n",
        "# 상관관계를 확인해야하는 이유?\n",
        "# 높은 상관관계를 가지고 있다면, 같은(유사한) 값을 가졌다는 것 = Voting의 의미가 없음!\n",
        "\n",
        "ensemble_results = pd.concat(pred_results, axis=1)\n",
        "plt.figure(figsize = (8,6))\n",
        "g = sns.heatmap(ensemble_results.corr(),annot=True, cmap='Blues')\n",
        "g.set_title(\"Correlation\")\n",
        "plt.show()"
      ],
      "metadata": {
        "id": "h-qkqsyMlptM",
        "colab": {
          "base_uri": "https://localhost:8080/",
          "height": 513
        },
        "outputId": "12fceb00-4d5a-4793-f9e7-9bc1db135d99"
      },
      "execution_count": 23,
      "outputs": [
        {
          "output_type": "display_data",
          "data": {
            "text/plain": [
              "<Figure size 576x432 with 2 Axes>"
            ],
            "image/png": "[encoded data removed]"
          },
          "metadata": {
            "needs_background": "light"
          }
        }
      ]
    },
    {
      "cell_type": "code",
      "execution_count": 8,
      "metadata": {
        "colab": {
          "base_uri": "https://localhost:8080/"
        },
        "id": "HZBvjec8a9aC",
        "outputId": "99ff386f-44ac-421b-dc79-848ac7430a2f"
      },
      "outputs": [
        {
          "output_type": "execute_result",
          "data": {
            "text/plain": [
              "0.958041958041958"
            ]
          },
          "metadata": {},
          "execution_count": 8
        }
      ],
      "source": [
        "from sklearn.ensemble import VotingClassifier\n",
        "\n",
        "# 위에서 평가한 모든 모델을 앙상블할 경우\n",
        "voting = VotingClassifier(estimators = [(type(clf).__name__, clf) for clf in clfs], voting='hard')\n",
        "voting.fit(X_train, y_train).score(X_test, y_test)"
      ]
    },
    {
      "cell_type": "code",
      "execution_count": 9,
      "metadata": {
        "colab": {
          "base_uri": "https://localhost:8080/"
        },
        "id": "_h7mpWxFa9aC",
        "outputId": "1a3bc10b-2b7a-4fb7-a5d4-0f23bfd15597"
      },
      "outputs": [
        {
          "output_type": "execute_result",
          "data": {
            "text/plain": [
              "0.958041958041958"
            ]
          },
          "metadata": {},
          "execution_count": 9
        }
      ],
      "source": [
        "# 가장 성능이 높은 GBM과 낮은 상관관계가 있는 모델끼리만 앙상블할 경우\n",
        "voting = VotingClassifier(estimators = [('gbm', GBM), ('mlp', MLP), ('dt', DT)], voting='hard')\n",
        "voting.fit(X_train, y_train).score(X_test, y_test)"
      ]
    },
    {
      "cell_type": "code",
      "execution_count": 10,
      "metadata": {
        "colab": {
          "base_uri": "https://localhost:8080/"
        },
        "id": "pQqos_uaN5iQ",
        "outputId": "cc9d5c1d-3323-4410-b7e7-bee4423ea8ba"
      },
      "outputs": [
        {
          "output_type": "execute_result",
          "data": {
            "text/plain": [
              "0.965034965034965"
            ]
          },
          "metadata": {},
          "execution_count": 10
        }
      ],
      "source": [
        "# GBM과 성능이 비슷한 LR과 낮은 상관관계가 있는 모델끼리만 앙상블할 경우\n",
        "from sklearn.ensemble import VotingClassifier\n",
        "\n",
        "voting = VotingClassifier(\n",
        "    estimators = [('lr', LR), ('dt', DT), ('knn', KNN)], voting='hard')\n",
        "voting.fit(X_train, y_train).score(X_test, y_test)"
      ]
    },
    {
      "cell_type": "markdown",
      "metadata": {
        "id": "NI0nfQJUN5iY"
      },
      "source": [
        "## Stacking"
      ]
    },
    {
      "cell_type": "code",
      "source": [
        "# vecstack 설치 필요\n",
        "!pip install vecstack"
      ],
      "metadata": {
        "colab": {
          "base_uri": "https://localhost:8080/"
        },
        "id": "pYlhQrQYbcrQ",
        "outputId": "a1f98118-c564-4b8a-dafa-76231e9c7f4c"
      },
      "execution_count": 11,
      "outputs": [
        {
          "output_type": "stream",
          "name": "stdout",
          "text": [
            "Looking in indexes: https://pypi.org/simple, https://us-python.pkg.dev/colab-wheels/public/simple/\n",
            "Requirement already satisfied: vecstack in /usr/local/lib/python3.7/dist-packages (0.4.0)\n",
            "Requirement already satisfied: scikit-learn>=0.18 in /usr/local/lib/python3.7/dist-packages (from vecstack) (1.0.2)\n",
            "Requirement already satisfied: numpy in /usr/local/lib/python3.7/dist-packages (from vecstack) (1.21.6)\n",
            "Requirement already satisfied: scipy in /usr/local/lib/python3.7/dist-packages (from vecstack) (1.7.3)\n",
            "Requirement already satisfied: joblib>=0.11 in /usr/local/lib/python3.7/dist-packages (from scikit-learn>=0.18->vecstack) (1.2.0)\n",
            "Requirement already satisfied: threadpoolctl>=2.0.0 in /usr/local/lib/python3.7/dist-packages (from scikit-learn>=0.18->vecstack) (3.1.0)\n"
          ]
        }
      ]
    },
    {
      "cell_type": "markdown",
      "metadata": {
        "id": "sYSezRX9a9aG"
      },
      "source": [
        "### 2-layer Stacking"
      ]
    },
    {
      "cell_type": "code",
      "execution_count": 25,
      "metadata": {
        "colab": {
          "base_uri": "https://localhost:8080/"
        },
        "id": "lIy4ThBsN5ib",
        "outputId": "0ddbf67e-32c2-41c8-d898-e791a2098ac2"
      },
      "outputs": [
        {
          "output_type": "stream",
          "name": "stdout",
          "text": [
            "task:         [classification]\n",
            "n_classes:    [2]\n",
            "metric:       [accuracy_score]\n",
            "mode:         [oof_pred_bag]\n",
            "n_models:     [6]\n",
            "\n",
            "model  0:     [LogisticRegression]\n",
            "    fold  0:  [0.91860465]\n",
            "    fold  1:  [0.95294118]\n",
            "    fold  2:  [0.96470588]\n",
            "    fold  3:  [0.96470588]\n",
            "    fold  4:  [0.92941176]\n",
            "    ----\n",
            "    MEAN:     [0.94607387] + [0.01883426]\n",
            "    FULL:     [0.94600939]\n",
            "\n",
            "model  1:     [DecisionTreeClassifier]\n",
            "    fold  0:  [0.91860465]\n",
            "    fold  1:  [0.90588235]\n",
            "    fold  2:  [0.96470588]\n",
            "    fold  3:  [0.90588235]\n",
            "    fold  4:  [0.95294118]\n",
            "    ----\n",
            "    MEAN:     [0.92960328] + [0.02458937]\n",
            "    FULL:     [0.92957746]\n",
            "\n",
            "model  2:     [MLPClassifier]\n",
            "    fold  0:  [0.91860465]\n",
            "    fold  1:  [0.94117647]\n",
            "    fold  2:  [0.96470588]\n",
            "    fold  3:  [0.91764706]\n",
            "    fold  4:  [0.90588235]\n",
            "    ----\n",
            "    MEAN:     [0.92960328] + [0.02094151]\n",
            "    FULL:     [0.92957746]\n",
            "\n",
            "model  3:     [KNeighborsClassifier]\n",
            "    fold  0:  [0.90697674]\n",
            "    fold  1:  [0.94117647]\n",
            "    fold  2:  [0.94117647]\n",
            "    fold  3:  [0.94117647]\n",
            "    fold  4:  [0.91764706]\n",
            "    ----\n",
            "    MEAN:     [0.92963064] + [0.01453770]\n",
            "    FULL:     [0.92957746]\n",
            "\n",
            "model  4:     [RandomForestClassifier]\n",
            "    fold  0:  [0.94186047]\n",
            "    fold  1:  [0.94117647]\n",
            "    fold  2:  [0.96470588]\n",
            "    fold  3:  [0.94117647]\n",
            "    fold  4:  [0.97647059]\n",
            "    ----\n",
            "    MEAN:     [0.95307798] + [0.01477530]\n",
            "    FULL:     [0.95305164]\n",
            "\n",
            "model  5:     [GradientBoostingClassifier]\n",
            "    fold  0:  [0.94186047]\n",
            "    fold  1:  [0.92941176]\n",
            "    fold  2:  [0.95294118]\n",
            "    fold  3:  [0.92941176]\n",
            "    fold  4:  [0.97647059]\n",
            "    ----\n",
            "    MEAN:     [0.94601915] + [0.01757333]\n",
            "    FULL:     [0.94600939]\n",
            "\n"
          ]
        },
        {
          "output_type": "execute_result",
          "data": {
            "text/plain": [
              "0.958041958041958"
            ]
          },
          "metadata": {},
          "execution_count": 25
        }
      ],
      "source": [
        "from vecstack import stacking\n",
        "\n",
        "models = clfs\n",
        "S_train, S_test = stacking(models,                     # 모델 리스트\n",
        "                           X_train, y_train, X_test,   # 데이터\n",
        "                           regression=False,           # 분류 모델일 경우 False, 회귀 모델일 경우 True\n",
        "                           needs_proba=False,          # 정답클래스로 예측할 경우 False, 확률로 예측할 경우 True\n",
        "                           metric=accuracy_score,      # 평가지표\n",
        "                           n_folds=5,                  # fold 개수 설정\n",
        "                           random_state=34,\n",
        "                           stratified=True,            # stratifiedKfold\n",
        "                           shuffle = True,\n",
        "                           verbose=2)                  # 결과 출력하기\n",
        "meta_model = GBM.fit(S_train, y_train)\n",
        "accuracy_score(y_test, meta_model.predict(S_test))"
      ]
    },
    {
      "cell_type": "code",
      "execution_count": 13,
      "metadata": {
        "colab": {
          "base_uri": "https://localhost:8080/"
        },
        "id": "MbRAMZS9a9aG",
        "outputId": "dfe88357-e171-4d35-c6fb-d176414950fb"
      },
      "outputs": [
        {
          "output_type": "execute_result",
          "data": {
            "text/plain": [
              "((426, 30), (426, 6), (143, 30), (143, 6))"
            ]
          },
          "metadata": {},
          "execution_count": 13
        }
      ],
      "source": [
        "X_train.shape, S_train.shape, X_test.shape, S_test.shape"
      ]
    },
    {
      "cell_type": "markdown",
      "metadata": {
        "id": "1zUfmi9ba9aG"
      },
      "source": [
        "### 3-layer Stacking"
      ]
    },
    {
      "cell_type": "code",
      "execution_count": 14,
      "metadata": {
        "id": "U6fVr9mba9aG"
      },
      "outputs": [],
      "source": [
        "# level-1: LR, DT, MLP, KNN, RF, GBM\n",
        "\n",
        "models = clfs\n",
        "S_train, S_test = stacking(models,                     # 모델 리스트\n",
        "                           X_train, y_train, X_test,   # 모델 리스트\n",
        "                           regression=False,           # 분류 모델일 경우 False, 회귀 모델일 경우 True\n",
        "                           needs_proba=True,           # 정답클래스로 예측할 경우 False, 확률로 예측할 경우 True\n",
        "                           metric=accuracy_score,      # 평가지표\n",
        "                           n_folds=3,                  # fold 개수 설정\n",
        "                           random_state=34, \n",
        "                           stratified=True,            # stratifiedKfold 진행\n",
        "                           shuffle=True,       \n",
        "                           verbose=0)                  # 결과 출력하기"
      ]
    },
    {
      "cell_type": "code",
      "execution_count": 15,
      "metadata": {
        "colab": {
          "base_uri": "https://localhost:8080/"
        },
        "id": "omX55S1_a9aG",
        "outputId": "c09d85a0-7fdb-4b0f-e04c-5b10609b1957"
      },
      "outputs": [
        {
          "output_type": "execute_result",
          "data": {
            "text/plain": [
              "0.986013986013986"
            ]
          },
          "metadata": {},
          "execution_count": 15
        }
      ],
      "source": [
        "# level-2: LR, DT, KNN\n",
        "# Level-3: Voting\n",
        "\n",
        "voting = VotingClassifier(estimators = [('lr', LR), ('dt', DT), ('knn', KNN)], voting='hard')\n",
        "voting.fit(S_train, y_train).score(S_test, y_test)"
      ]
    },
    {
      "cell_type": "markdown",
      "metadata": {
        "id": "UlV3TB11a9aH"
      },
      "source": [
        "### `sklearn` 사용하기"
      ]
    },
    {
      "cell_type": "code",
      "execution_count": 16,
      "metadata": {
        "colab": {
          "base_uri": "https://localhost:8080/"
        },
        "id": "ZcW8G8Z5a9aH",
        "outputId": "7ac3f1e4-15d2-45d1-ef0e-8b91799c41df"
      },
      "outputs": [
        {
          "output_type": "execute_result",
          "data": {
            "text/plain": [
              "0.965034965034965"
            ]
          },
          "metadata": {},
          "execution_count": 16
        }
      ],
      "source": [
        "from sklearn.ensemble import StackingClassifier\n",
        "\n",
        "# 2-layer stacking\n",
        "\n",
        "estimators = [(type(clf).__name__, clf) for clf in clfs]\n",
        "stk_clf = StackingClassifier(\n",
        "    estimators=estimators, final_estimator=GBM, cv=5)\n",
        "\n",
        "stk_clf.fit(X_train, y_train).score(X_test, y_test)"
      ]
    },
    {
      "cell_type": "code",
      "execution_count": 17,
      "metadata": {
        "colab": {
          "base_uri": "https://localhost:8080/"
        },
        "id": "9nMeKQcVa9aH",
        "outputId": "60443978-25af-42eb-d000-44c1720b87e6"
      },
      "outputs": [
        {
          "output_type": "execute_result",
          "data": {
            "text/plain": [
              "0.972027972027972"
            ]
          },
          "metadata": {},
          "execution_count": 17
        }
      ],
      "source": [
        "# 3-layer stacking (Level-3: Voting)\n",
        "\n",
        "layer_one_estimators = [(type(clf).__name__, clf) for clf in clfs]\n",
        "voting = VotingClassifier(estimators = [('lr', LR), ('dt', DT), ('knn', KNN)], voting='hard')\n",
        "stk_clf = StackingClassifier(estimators=layer_one_estimators, final_estimator=voting, cv=5)\n",
        "\n",
        "stk_clf.fit(X_train, y_train).score(X_test, y_test)"
      ]
    },
    {
      "cell_type": "code",
      "execution_count": 18,
      "metadata": {
        "colab": {
          "base_uri": "https://localhost:8080/"
        },
        "id": "f0PtDcc7a9aH",
        "outputId": "d4cbca96-27d8-476e-cb50-cd623161f245"
      },
      "outputs": [
        {
          "output_type": "execute_result",
          "data": {
            "text/plain": [
              "0.965034965034965"
            ]
          },
          "metadata": {},
          "execution_count": 18
        }
      ],
      "source": [
        "# 3-layer stacking (Level-3: LR)\n",
        "\n",
        "layer_one_estimators = [(type(clf).__name__, clf) for clf in clfs]\n",
        "layer_two_estimators = [('lr', LR), ('dt', DT), ('knn', KNN)]\n",
        "\n",
        "layer_two = StackingClassifier(estimators=layer_two_estimators, final_estimator=LR)\n",
        "stk_clf = StackingClassifier(estimators=layer_one_estimators, final_estimator=layer_two, cv=5)\n",
        "\n",
        "stk_clf.fit(X_train, y_train).score(X_test, y_test)"
      ]
    },
    {
      "cell_type": "markdown",
      "metadata": {
        "id": "p5BZCjnIN5iT"
      },
      "source": [
        "## Averaging\n",
        "- 평가지표가 roc-auc, logloss 등일 경우 사용\n",
        "\n",
        "<img align='left' src=\"https://t1.daumcdn.net/cfile/tistory/2454233C57FA242D11\">"
      ]
    },
    {
      "cell_type": "code",
      "execution_count": 19,
      "metadata": {
        "colab": {
          "base_uri": "https://localhost:8080/"
        },
        "id": "5laHXOjxN5iT",
        "outputId": "1f730b4a-cff1-4d25-f0aa-a1b68fce7773"
      },
      "outputs": [
        {
          "output_type": "stream",
          "name": "stdout",
          "text": [
            "AUC = 0.989098532494759\n"
          ]
        }
      ],
      "source": [
        "averaging = VotingClassifier(estimators = [('lr', LR), ('dt', DT), ('knn', KNN)], voting='soft')\n",
        "averaging.fit(X_train, y_train)\n",
        "\n",
        "print('AUC =', roc_auc_score(y_test, averaging.predict_proba(X_test)[:,1])) # 산술평균 (soft voting -> 확률평균 사용하는 보팅 방식)"
      ]
    },
    {
      "cell_type": "code",
      "execution_count": 20,
      "metadata": {
        "colab": {
          "base_uri": "https://localhost:8080/"
        },
        "id": "kMB_cZKca9aE",
        "outputId": "4a4a2054-963c-4c8a-96a2-b97058e07b35"
      },
      "outputs": [
        {
          "output_type": "stream",
          "name": "stdout",
          "text": [
            "AUC =  0.9157232704402516\n"
          ]
        }
      ],
      "source": [
        "from scipy.stats.mstats import gmean\n",
        "\n",
        "pred_logreg = LR.fit(X_train, y_train).predict_proba(X_test)[:,1]\n",
        "pred_tree = DT.fit(X_train, y_train).predict_proba(X_test)[:,1]\n",
        "pred_knn = KNN.fit(X_train, y_train).predict_proba(X_test)[:,1]\n",
        "\n",
        "print('AUC = ', roc_auc_score(y_test, gmean([pred_logreg, pred_tree, pred_knn], axis=0))) # 기하평균"
      ]
    }
  ],
  "metadata": {
    "colab": {
      "provenance": [],
      "collapsed_sections": []
    },
    "kernelspec": {
      "display_name": "Python 3",
      "language": "python",
      "name": "python3"
    },
    "language_info": {
      "codemirror_mode": {
        "name": "ipython",
        "version": 3
      },
      "file_extension": ".py",
      "mimetype": "text/x-python",
      "name": "python",
      "nbconvert_exporter": "python",
      "pygments_lexer": "ipython3",
      "version": "3.7.6"
    }
  },
  "nbformat": 4,
  "nbformat_minor": 0
}