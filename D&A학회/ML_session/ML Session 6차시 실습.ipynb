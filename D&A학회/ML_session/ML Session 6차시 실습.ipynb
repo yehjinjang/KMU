{
 "cells": [
  {
   "cell_type": "markdown",
   "id": "e25f0e84",
   "metadata": {},
   "source": [
    "# ML Session 6차시 실습"
   ]
  },
  {
   "cell_type": "markdown",
   "id": "9c64ae6c",
   "metadata": {},
   "source": [
    "## 앙상블(ensemble)\n",
    "- 여러 개의 단순한 모델을 결합하여 보다 정확한 모델을 만드는 방법\n",
    "\n",
    "## Bagging(Bootstrap Aggregating)\n",
    "- 각 모델별로 기존 데이터 셋에서 중복을 허용하여 무작위로 N개의 feature를 선택한 후, 선택한 feature를 통해 만들어진 각 모델의 결과를 취합하는 앙상블 기법"
   ]
  },
  {
   "cell_type": "code",
   "execution_count": 1,
   "id": "0a5a9380",
   "metadata": {},
   "outputs": [
    {
     "data": {
      "text/html": [
       "<div>\n",
       "<style scoped>\n",
       "    .dataframe tbody tr th:only-of-type {\n",
       "        vertical-align: middle;\n",
       "    }\n",
       "\n",
       "    .dataframe tbody tr th {\n",
       "        vertical-align: top;\n",
       "    }\n",
       "\n",
       "    .dataframe thead th {\n",
       "        text-align: right;\n",
       "    }\n",
       "</style>\n",
       "<table border=\"1\" class=\"dataframe\">\n",
       "  <thead>\n",
       "    <tr style=\"text-align: right;\">\n",
       "      <th></th>\n",
       "      <th>mean radius</th>\n",
       "      <th>mean texture</th>\n",
       "      <th>mean perimeter</th>\n",
       "      <th>mean area</th>\n",
       "      <th>mean smoothness</th>\n",
       "      <th>mean compactness</th>\n",
       "      <th>mean concavity</th>\n",
       "      <th>mean concave points</th>\n",
       "      <th>mean symmetry</th>\n",
       "      <th>mean fractal dimension</th>\n",
       "      <th>...</th>\n",
       "      <th>worst radius</th>\n",
       "      <th>worst texture</th>\n",
       "      <th>worst perimeter</th>\n",
       "      <th>worst area</th>\n",
       "      <th>worst smoothness</th>\n",
       "      <th>worst compactness</th>\n",
       "      <th>worst concavity</th>\n",
       "      <th>worst concave points</th>\n",
       "      <th>worst symmetry</th>\n",
       "      <th>worst fractal dimension</th>\n",
       "    </tr>\n",
       "  </thead>\n",
       "  <tbody>\n",
       "    <tr>\n",
       "      <th>0</th>\n",
       "      <td>17.99</td>\n",
       "      <td>10.38</td>\n",
       "      <td>122.8</td>\n",
       "      <td>1001.0</td>\n",
       "      <td>0.11840</td>\n",
       "      <td>0.27760</td>\n",
       "      <td>0.3001</td>\n",
       "      <td>0.14710</td>\n",
       "      <td>0.2419</td>\n",
       "      <td>0.07871</td>\n",
       "      <td>...</td>\n",
       "      <td>25.38</td>\n",
       "      <td>17.33</td>\n",
       "      <td>184.6</td>\n",
       "      <td>2019.0</td>\n",
       "      <td>0.1622</td>\n",
       "      <td>0.6656</td>\n",
       "      <td>0.7119</td>\n",
       "      <td>0.2654</td>\n",
       "      <td>0.4601</td>\n",
       "      <td>0.11890</td>\n",
       "    </tr>\n",
       "    <tr>\n",
       "      <th>1</th>\n",
       "      <td>20.57</td>\n",
       "      <td>17.77</td>\n",
       "      <td>132.9</td>\n",
       "      <td>1326.0</td>\n",
       "      <td>0.08474</td>\n",
       "      <td>0.07864</td>\n",
       "      <td>0.0869</td>\n",
       "      <td>0.07017</td>\n",
       "      <td>0.1812</td>\n",
       "      <td>0.05667</td>\n",
       "      <td>...</td>\n",
       "      <td>24.99</td>\n",
       "      <td>23.41</td>\n",
       "      <td>158.8</td>\n",
       "      <td>1956.0</td>\n",
       "      <td>0.1238</td>\n",
       "      <td>0.1866</td>\n",
       "      <td>0.2416</td>\n",
       "      <td>0.1860</td>\n",
       "      <td>0.2750</td>\n",
       "      <td>0.08902</td>\n",
       "    </tr>\n",
       "    <tr>\n",
       "      <th>2</th>\n",
       "      <td>19.69</td>\n",
       "      <td>21.25</td>\n",
       "      <td>130.0</td>\n",
       "      <td>1203.0</td>\n",
       "      <td>0.10960</td>\n",
       "      <td>0.15990</td>\n",
       "      <td>0.1974</td>\n",
       "      <td>0.12790</td>\n",
       "      <td>0.2069</td>\n",
       "      <td>0.05999</td>\n",
       "      <td>...</td>\n",
       "      <td>23.57</td>\n",
       "      <td>25.53</td>\n",
       "      <td>152.5</td>\n",
       "      <td>1709.0</td>\n",
       "      <td>0.1444</td>\n",
       "      <td>0.4245</td>\n",
       "      <td>0.4504</td>\n",
       "      <td>0.2430</td>\n",
       "      <td>0.3613</td>\n",
       "      <td>0.08758</td>\n",
       "    </tr>\n",
       "  </tbody>\n",
       "</table>\n",
       "<p>3 rows × 30 columns</p>\n",
       "</div>"
      ],
      "text/plain": [
       "   mean radius  mean texture  mean perimeter  mean area  mean smoothness  \\\n",
       "0        17.99         10.38           122.8     1001.0          0.11840   \n",
       "1        20.57         17.77           132.9     1326.0          0.08474   \n",
       "2        19.69         21.25           130.0     1203.0          0.10960   \n",
       "\n",
       "   mean compactness  mean concavity  mean concave points  mean symmetry  \\\n",
       "0           0.27760          0.3001              0.14710         0.2419   \n",
       "1           0.07864          0.0869              0.07017         0.1812   \n",
       "2           0.15990          0.1974              0.12790         0.2069   \n",
       "\n",
       "   mean fractal dimension  ...  worst radius  worst texture  worst perimeter  \\\n",
       "0                 0.07871  ...         25.38          17.33            184.6   \n",
       "1                 0.05667  ...         24.99          23.41            158.8   \n",
       "2                 0.05999  ...         23.57          25.53            152.5   \n",
       "\n",
       "   worst area  worst smoothness  worst compactness  worst concavity  \\\n",
       "0      2019.0            0.1622             0.6656           0.7119   \n",
       "1      1956.0            0.1238             0.1866           0.2416   \n",
       "2      1709.0            0.1444             0.4245           0.4504   \n",
       "\n",
       "   worst concave points  worst symmetry  worst fractal dimension  \n",
       "0                0.2654          0.4601                  0.11890  \n",
       "1                0.1860          0.2750                  0.08902  \n",
       "2                0.2430          0.3613                  0.08758  \n",
       "\n",
       "[3 rows x 30 columns]"
      ]
     },
     "execution_count": 1,
     "metadata": {},
     "output_type": "execute_result"
    }
   ],
   "source": [
    "import pandas as pd\n",
    "import time\n",
    "\n",
    "from sklearn.ensemble import BaggingClassifier\n",
    "from sklearn.svm import LinearSVC\n",
    "from sklearn.tree import DecisionTreeClassifier\n",
    "from sklearn.ensemble import RandomForestClassifier\n",
    "from sklearn.ensemble import ExtraTreesClassifier\n",
    "\n",
    "from sklearn.datasets import load_breast_cancer\n",
    "from sklearn.model_selection import train_test_split\n",
    "from sklearn.metrics import accuracy_score\n",
    "\n",
    "import warnings\n",
    "warnings.filterwarnings(action='ignore')\n",
    "\n",
    "# 유방암 진단 데이터 불러오기\n",
    "data = load_breast_cancer()\n",
    "\n",
    "df = pd.DataFrame(data.data, columns=data.feature_names)\n",
    "df.head(3)"
   ]
  },
  {
   "cell_type": "code",
   "execution_count": 2,
   "id": "5abdc194",
   "metadata": {},
   "outputs": [],
   "source": [
    "# 데이터 분할\n",
    "x_train, x_test, y_train, y_test = train_test_split(data.data, data.target, \n",
    "                                                    test_size=0.2 , random_state= 1004)"
   ]
  },
  {
   "cell_type": "markdown",
   "id": "2284635d",
   "metadata": {},
   "source": [
    "# <span style=\"color:gray\">분류</span>"
   ]
  },
  {
   "cell_type": "markdown",
   "id": "29acfb88",
   "metadata": {},
   "source": [
    "## BaggingClassifier\n",
    "sklearn에서 지원하는 Bagging 분류모델\n",
    "- base_estimator : bagging에 사용될 예측기(default = DecisionTreeClassifier)\n",
    "- n_estimator : base_estimator의 갯수(default = 10)\n",
    "- bootstrap : bootstrap 여부(default = True)\n",
    "- oob_score : 모델 평가에 oob 샘플의 사용 여부(default = False)"
   ]
  },
  {
   "cell_type": "code",
   "execution_count": null,
   "id": "c0f78a17",
   "metadata": {},
   "outputs": [],
   "source": [
    "#위에는 대표적인 parameter "
   ]
  },
  {
   "cell_type": "code",
   "execution_count": 3,
   "id": "e9128f2d",
   "metadata": {},
   "outputs": [
    {
     "name": "stdout",
     "output_type": "stream",
     "text": [
      "BaggingClassifier_LR : 0.8859649122807017\n"
     ]
    }
   ],
   "source": [
    "ba_clf = BaggingClassifier(base_estimator = LinearSVC())\n",
    "ba_clf.fit(x_train, y_train)\n",
    "ba_pred = ba_clf.predict(x_test)\n",
    "print(\"BaggingClassifier_LR :\", accuracy_score(y_test, ba_pred))"
   ]
  },
  {
   "cell_type": "code",
   "execution_count": 4,
   "id": "88b9f466",
   "metadata": {},
   "outputs": [
    {
     "name": "stdout",
     "output_type": "stream",
     "text": [
      "BaggingClassifier_DT : 0.9122807017543859\n"
     ]
    }
   ],
   "source": [
    "ba_clf = BaggingClassifier(base_estimator = DecisionTreeClassifier())\n",
    "ba_clf.fit(x_train, y_train)\n",
    "ba_pred = ba_clf.predict(x_test)\n",
    "print(\"BaggingClassifier_DT :\", accuracy_score(y_test, ba_pred))"
   ]
  },
  {
   "cell_type": "markdown",
   "id": "ab3fbce1",
   "metadata": {},
   "source": [
    "## RandomForestClassifier\n",
    "수많은 Decision Tree가 합쳐져 만들어진 <span style=\"color:red\">Bagging</span> 분류 모델\n",
    "- Bootstrap 방식으로 feature 선택\n",
    "- <span style=\"color:gray\">(version 1.1 이전)</span> DecisionTree와 같이 모든 feature의 information gain을 고려하여 노드를 분할\n",
    "- <span style=\"color:gray\">(version 1.1 이후)</span> 선택된 N개의 feature를 랜덤으로 $\\sqrt(N)$개로 나눈 후 그 중 informatin gain을 고려하여 노드를 분할\n",
    "- 각 Decision Tree의 결과를 voting(투표)하여 RandomForest의 결과를 도출한다.\n",
    "\n",
    "## ExtraTreesClassifier\n",
    "수많은 Decision Tree가 합쳐져 만들어진 <span style=\"color:red\">앙상블</span> 분류 모델\n",
    "- 비복원 추출로 feature 선택\n",
    "- 선택된 N개의 feature를 랜덤으로 $\\sqrt(N)$개로 나눈 후 그 중 informatin gain을 고려하여 노드를 분할\n",
    "- 각 Decision Tree의 결과를 voting(투표)하여 ExtraTrees의 결과를 도출한다."
   ]
  },
  {
   "cell_type": "code",
   "execution_count": 5,
   "id": "0c4fbe20",
   "metadata": {},
   "outputs": [
    {
     "data": {
      "text/html": [
       "<div>\n",
       "<style scoped>\n",
       "    .dataframe tbody tr th:only-of-type {\n",
       "        vertical-align: middle;\n",
       "    }\n",
       "\n",
       "    .dataframe tbody tr th {\n",
       "        vertical-align: top;\n",
       "    }\n",
       "\n",
       "    .dataframe thead th {\n",
       "        text-align: right;\n",
       "    }\n",
       "</style>\n",
       "<table border=\"1\" class=\"dataframe\">\n",
       "  <thead>\n",
       "    <tr style=\"text-align: right;\">\n",
       "      <th></th>\n",
       "      <th>Accuracy</th>\n",
       "      <th>time</th>\n",
       "      <th>n_estimators</th>\n",
       "    </tr>\n",
       "  </thead>\n",
       "  <tbody>\n",
       "    <tr>\n",
       "      <th>BaggingClassifier10</th>\n",
       "      <td>0.938596</td>\n",
       "      <td>0.028996</td>\n",
       "      <td>10.0</td>\n",
       "    </tr>\n",
       "    <tr>\n",
       "      <th>DecisionTreeClassifier</th>\n",
       "      <td>0.903509</td>\n",
       "      <td>0.002997</td>\n",
       "      <td>NaN</td>\n",
       "    </tr>\n",
       "    <tr>\n",
       "      <th>ExtraTreesClassifier100</th>\n",
       "      <td>0.938596</td>\n",
       "      <td>0.065001</td>\n",
       "      <td>100.0</td>\n",
       "    </tr>\n",
       "    <tr>\n",
       "      <th>RandomForestClassifier10</th>\n",
       "      <td>0.903509</td>\n",
       "      <td>0.012001</td>\n",
       "      <td>10.0</td>\n",
       "    </tr>\n",
       "    <tr>\n",
       "      <th>RandomForestClassifier50</th>\n",
       "      <td>0.929825</td>\n",
       "      <td>0.052999</td>\n",
       "      <td>50.0</td>\n",
       "    </tr>\n",
       "    <tr>\n",
       "      <th>RandomForestClassifier100</th>\n",
       "      <td>0.921053</td>\n",
       "      <td>0.104999</td>\n",
       "      <td>100.0</td>\n",
       "    </tr>\n",
       "  </tbody>\n",
       "</table>\n",
       "</div>"
      ],
      "text/plain": [
       "                           Accuracy      time  n_estimators\n",
       "BaggingClassifier10        0.938596  0.028996          10.0\n",
       "DecisionTreeClassifier     0.903509  0.002997           NaN\n",
       "ExtraTreesClassifier100    0.938596  0.065001         100.0\n",
       "RandomForestClassifier10   0.903509  0.012001          10.0\n",
       "RandomForestClassifier50   0.929825  0.052999          50.0\n",
       "RandomForestClassifier100  0.921053  0.104999         100.0"
      ]
     },
     "execution_count": 5,
     "metadata": {},
     "output_type": "execute_result"
    }
   ],
   "source": [
    "ba = BaggingClassifier()\n",
    "dt = DecisionTreeClassifier()\n",
    "et = ExtraTreesClassifier()\n",
    "rf10 = RandomForestClassifier(n_estimators=10)\n",
    "rf50 = RandomForestClassifier(n_estimators=50) #변수를 다르게 변경 \n",
    "rf = RandomForestClassifier()\n",
    "\n",
    "models = [ba, dt, et, rf10, rf50, rf]\n",
    "benchmark = pd.DataFrame()\n",
    "for model in models:\n",
    "    start = time.time()\n",
    "    model.fit(x_train, y_train)\n",
    "    pred = model.predict(x_test)\n",
    "    tm = time.time() - start\n",
    "    acc = accuracy_score(y_test, pred)\n",
    "    if model in [ba, et, rf10, rf50, rf]:\n",
    "        n_est = model.get_params()[\"n_estimators\"]\n",
    "        benchmark[str(model.__class__.__name__) + str(n_est)] = [acc, tm, n_est]\n",
    "    else:\n",
    "        n_est = None\n",
    "        benchmark[str(model.__class__.__name__)] = [acc, tm, n_est]\n",
    "        \n",
    "    \n",
    "\n",
    "benchmark.index = ([\"Accuracy\", \"time\", \"n_estimators\"])\n",
    "benchmark.T"
   ]
  },
  {
   "cell_type": "markdown",
   "id": "00ddafe3",
   "metadata": {},
   "source": [
    "### RandomForest 하이퍼파라미터 튜닝"
   ]
  },
  {
   "cell_type": "code",
   "execution_count": 6,
   "id": "8d05733f",
   "metadata": {},
   "outputs": [
    {
     "name": "stdout",
     "output_type": "stream",
     "text": [
      "최적 하이퍼 파라미터:\n",
      " {'max_depth': 6, 'min_samples_leaf': 8, 'min_samples_split': 8, 'n_estimators': 200}\n",
      "최고 예측 정확도: 0.9539\n"
     ]
    }
   ],
   "source": [
    "from sklearn.model_selection import GridSearchCV\n",
    "#dt의 파라미터를 가짐 \n",
    "\n",
    "params = {\n",
    "    'n_estimators':[100, 200],\n",
    "    'max_depth' : [6, 8, 10, 12], \n",
    "    'min_samples_leaf' : [8, 12, 18 ],\n",
    "    'min_samples_split' : [8, 16, 20]\n",
    "}\n",
    "\n",
    "# RandomForestClassifier 객체 생성 후 GridSearchCV 수행\n",
    "rf_clf = RandomForestClassifier(random_state=0, n_jobs=-1) # n_jobs = -1 : 컴퓨터의 모든 코어 사용\n",
    "grid_cv = GridSearchCV(rf_clf , param_grid=params , cv=2, n_jobs=-1)\n",
    "grid_cv.fit(x_train , y_train)\n",
    "\n",
    "print('최적 하이퍼 파라미터:\\n', grid_cv.best_params_)\n",
    "print('최고 예측 정확도: {0:.4f}'.format(grid_cv.best_score_))"
   ]
  },
  {
   "cell_type": "code",
   "execution_count": 7,
   "id": "ef6af0be",
   "metadata": {
    "scrolled": true
   },
   "outputs": [
    {
     "name": "stdout",
     "output_type": "stream",
     "text": [
      "예측 정확도: 0.9298245614035088\n"
     ]
    }
   ],
   "source": [
    "rf_grid = RandomForestClassifier(**grid_cv.best_params_)\n",
    "rf_grid.fit(x_train , y_train)\n",
    "pred = rf_grid.predict(x_test)\n",
    "print('예측 정확도: {}'.format(accuracy_score(y_test , pred)))"
   ]
  },
  {
   "cell_type": "markdown",
   "id": "e91e7343",
   "metadata": {},
   "source": [
    "### ExtraTrees 하이퍼파라미터 튜닝"
   ]
  },
  {
   "cell_type": "code",
   "execution_count": 8,
   "id": "fe2f14ba",
   "metadata": {},
   "outputs": [
    {
     "name": "stdout",
     "output_type": "stream",
     "text": [
      "최적 하이퍼 파라미터:\n",
      " {'max_depth': 6, 'min_samples_leaf': 8, 'min_samples_split': 20, 'n_estimators': 100}\n",
      "최고 예측 정확도: 0.9561\n"
     ]
    }
   ],
   "source": [
    "# ExtraTreesClassifier 객체 생성 후 GridSearchCV 수행\n",
    "et_clf = ExtraTreesClassifier(random_state=0, n_jobs=-1)\n",
    "grid_cv = GridSearchCV(et_clf , param_grid=params , cv=2, n_jobs=-1)\n",
    "grid_cv.fit(x_train , y_train)\n",
    "\n",
    "print('최적 하이퍼 파라미터:\\n', grid_cv.best_params_)\n",
    "print('최고 예측 정확도: {0:.4f}'.format(grid_cv.best_score_))"
   ]
  },
  {
   "cell_type": "code",
   "execution_count": 9,
   "id": "f57c1f68",
   "metadata": {},
   "outputs": [
    {
     "name": "stdout",
     "output_type": "stream",
     "text": [
      "예측 정확도: 0.8947368421052632\n"
     ]
    }
   ],
   "source": [
    "et_grid = ExtraTreesClassifier(**grid_cv.best_params_)\n",
    "et_grid.fit(x_train , y_train)\n",
    "pred = et_grid.predict(x_test)\n",
    "print('예측 정확도: {}'.format(accuracy_score(y_test , pred)))"
   ]
  },
  {
   "cell_type": "code",
   "execution_count": 10,
   "id": "bfebfa21",
   "metadata": {},
   "outputs": [
    {
     "data": {
      "text/plain": [
       "(569, 30)"
      ]
     },
     "execution_count": 10,
     "metadata": {},
     "output_type": "execute_result"
    }
   ],
   "source": [
    "# 데이터가 너무 작아 성능 개선이 잘 되지 않음\n",
    "df.shape"
   ]
  },
  {
   "cell_type": "markdown",
   "id": "4f34ddb3",
   "metadata": {},
   "source": [
    "# <span style=\"color:gray\">회귀</span>"
   ]
  },
  {
   "cell_type": "code",
   "execution_count": 11,
   "id": "9f0c4944",
   "metadata": {},
   "outputs": [],
   "source": [
    "from sklearn.ensemble import BaggingRegressor\n",
    "from sklearn.tree import DecisionTreeRegressor\n",
    "from sklearn.linear_model import Ridge\n",
    "from sklearn.ensemble import ExtraTreesRegressor\n",
    "from sklearn.ensemble import RandomForestRegressor\n",
    "\n",
    "from sklearn.metrics import mean_squared_error\n",
    "\n",
    "from sklearn.datasets import load_diabetes"
   ]
  },
  {
   "cell_type": "code",
   "execution_count": 12,
   "id": "925f90e9",
   "metadata": {},
   "outputs": [
    {
     "data": {
      "text/html": [
       "<div>\n",
       "<style scoped>\n",
       "    .dataframe tbody tr th:only-of-type {\n",
       "        vertical-align: middle;\n",
       "    }\n",
       "\n",
       "    .dataframe tbody tr th {\n",
       "        vertical-align: top;\n",
       "    }\n",
       "\n",
       "    .dataframe thead th {\n",
       "        text-align: right;\n",
       "    }\n",
       "</style>\n",
       "<table border=\"1\" class=\"dataframe\">\n",
       "  <thead>\n",
       "    <tr style=\"text-align: right;\">\n",
       "      <th></th>\n",
       "      <th>age</th>\n",
       "      <th>sex</th>\n",
       "      <th>bmi</th>\n",
       "      <th>bp</th>\n",
       "      <th>s1</th>\n",
       "      <th>s2</th>\n",
       "      <th>s3</th>\n",
       "      <th>s4</th>\n",
       "      <th>s5</th>\n",
       "      <th>s6</th>\n",
       "    </tr>\n",
       "  </thead>\n",
       "  <tbody>\n",
       "    <tr>\n",
       "      <th>0</th>\n",
       "      <td>0.038076</td>\n",
       "      <td>0.050680</td>\n",
       "      <td>0.061696</td>\n",
       "      <td>0.021872</td>\n",
       "      <td>-0.044223</td>\n",
       "      <td>-0.034821</td>\n",
       "      <td>-0.043401</td>\n",
       "      <td>-0.002592</td>\n",
       "      <td>0.019908</td>\n",
       "      <td>-0.017646</td>\n",
       "    </tr>\n",
       "    <tr>\n",
       "      <th>1</th>\n",
       "      <td>-0.001882</td>\n",
       "      <td>-0.044642</td>\n",
       "      <td>-0.051474</td>\n",
       "      <td>-0.026328</td>\n",
       "      <td>-0.008449</td>\n",
       "      <td>-0.019163</td>\n",
       "      <td>0.074412</td>\n",
       "      <td>-0.039493</td>\n",
       "      <td>-0.068330</td>\n",
       "      <td>-0.092204</td>\n",
       "    </tr>\n",
       "    <tr>\n",
       "      <th>2</th>\n",
       "      <td>0.085299</td>\n",
       "      <td>0.050680</td>\n",
       "      <td>0.044451</td>\n",
       "      <td>-0.005671</td>\n",
       "      <td>-0.045599</td>\n",
       "      <td>-0.034194</td>\n",
       "      <td>-0.032356</td>\n",
       "      <td>-0.002592</td>\n",
       "      <td>0.002864</td>\n",
       "      <td>-0.025930</td>\n",
       "    </tr>\n",
       "  </tbody>\n",
       "</table>\n",
       "</div>"
      ],
      "text/plain": [
       "        age       sex       bmi        bp        s1        s2        s3  \\\n",
       "0  0.038076  0.050680  0.061696  0.021872 -0.044223 -0.034821 -0.043401   \n",
       "1 -0.001882 -0.044642 -0.051474 -0.026328 -0.008449 -0.019163  0.074412   \n",
       "2  0.085299  0.050680  0.044451 -0.005671 -0.045599 -0.034194 -0.032356   \n",
       "\n",
       "         s4        s5        s6  \n",
       "0 -0.002592  0.019908 -0.017646  \n",
       "1 -0.039493 -0.068330 -0.092204  \n",
       "2 -0.002592  0.002864 -0.025930  "
      ]
     },
     "execution_count": 12,
     "metadata": {},
     "output_type": "execute_result"
    }
   ],
   "source": [
    "# 당뇨병 환자 데이터 불러오기\n",
    "data = load_diabetes()\n",
    "\n",
    "df = pd.DataFrame(data.data, columns=data.feature_names)\n",
    "df.head(3)"
   ]
  },
  {
   "cell_type": "code",
   "execution_count": 13,
   "id": "c071ec66",
   "metadata": {},
   "outputs": [],
   "source": [
    "# 데이터 분할\n",
    "x_train, x_test, y_train, y_test = train_test_split(data.data, data.target, \n",
    "                                                    test_size=0.2 , random_state= 1004)"
   ]
  },
  {
   "cell_type": "markdown",
   "id": "64d7231f",
   "metadata": {},
   "source": [
    "## BaggingRegressor\n",
    "sklearn에서 지원하는 Bagging 회귀모델\n",
    "- base_estimator : bagging에 사용될 예측기(default = DecisionTreeRegressor)\n",
    "- n_estimator : base_estimator의 갯수(default = 10)\n",
    "- bootstrap : bootstrap 여부(default = True)\n",
    "- oob_score : 모델 평가에 oob 샘플의 사용 여부(default = False)"
   ]
  },
  {
   "cell_type": "code",
   "execution_count": 14,
   "id": "d31fb048",
   "metadata": {},
   "outputs": [
    {
     "name": "stdout",
     "output_type": "stream",
     "text": [
      "BaggingRegressor_Ridge : 3558.4153186928957\n"
     ]
    }
   ],
   "source": [
    "ba_clf = BaggingRegressor(base_estimator = Ridge())\n",
    "ba_clf.fit(x_train, y_train)\n",
    "ba_pred = ba_clf.predict(x_test)\n",
    "print(\"BaggingRegressor_Ridge :\", mean_squared_error(y_test, ba_pred))"
   ]
  },
  {
   "cell_type": "code",
   "execution_count": 15,
   "id": "b34f3854",
   "metadata": {},
   "outputs": [
    {
     "name": "stdout",
     "output_type": "stream",
     "text": [
      "BaggingRegressor_DT : 3316.190674157303\n"
     ]
    }
   ],
   "source": [
    "ba_clf = BaggingRegressor(base_estimator = DecisionTreeRegressor())\n",
    "ba_clf.fit(x_train, y_train)\n",
    "ba_pred = ba_clf.predict(x_test)\n",
    "print(\"BaggingRegressor_DT :\", mean_squared_error(y_test, ba_pred))"
   ]
  },
  {
   "cell_type": "markdown",
   "id": "83d560e8",
   "metadata": {},
   "source": [
    "## RandomForestRegressor\n",
    "수많은 Decision Tree가 합쳐져 만들어진 <span style=\"color:red\">Bagging</span> 회귀 모델\n",
    "- Bootstrap 방식으로 feature 선택\n",
    "- <span style=\"color:gray\">(version 1.1 이전)</span> DecisionTree와 같이 모든 feature의 information gain을 고려하여 노드를 분할\n",
    "- <span style=\"color:gray\">(version 1.1 이후)</span> 선택된 N개의 feature를 랜덤으로 $\\sqrt(N)$개로 나눈 후 그 중 informatin gain을 고려하여 노드를 분할\n",
    "- 각 Decision Tree의 결과를 평균하여 RandomForest의 결과를 도출한다.\n",
    "\n",
    "## ExtraTreesRegressor\n",
    "수많은 Decision Tree가 합쳐져 만들어진 <span style=\"color:red\">앙상블</span> 회귀 모델\n",
    "- 비복원 추출로 feature 선택\n",
    "- 선택된 N개의 feature를 랜덤으로 $\\sqrt(N)$개로 나눈 후 그 중 informatin gain을 고려하여 노드를 분할\n",
    "- 각 Decision Tree의 결과를 평균하여 ExtraTrees의 결과를 도출한다."
   ]
  },
  {
   "cell_type": "code",
   "execution_count": 16,
   "id": "e001dc00",
   "metadata": {},
   "outputs": [
    {
     "data": {
      "text/html": [
       "<div>\n",
       "<style scoped>\n",
       "    .dataframe tbody tr th:only-of-type {\n",
       "        vertical-align: middle;\n",
       "    }\n",
       "\n",
       "    .dataframe tbody tr th {\n",
       "        vertical-align: top;\n",
       "    }\n",
       "\n",
       "    .dataframe thead th {\n",
       "        text-align: right;\n",
       "    }\n",
       "</style>\n",
       "<table border=\"1\" class=\"dataframe\">\n",
       "  <thead>\n",
       "    <tr style=\"text-align: right;\">\n",
       "      <th></th>\n",
       "      <th>MSE</th>\n",
       "      <th>time</th>\n",
       "      <th>n_estimators</th>\n",
       "    </tr>\n",
       "  </thead>\n",
       "  <tbody>\n",
       "    <tr>\n",
       "      <th>BaggingRegressor10</th>\n",
       "      <td>3645.815955</td>\n",
       "      <td>0.015995</td>\n",
       "      <td>10.0</td>\n",
       "    </tr>\n",
       "    <tr>\n",
       "      <th>DecisionTreeRegressor</th>\n",
       "      <td>6154.853933</td>\n",
       "      <td>0.001000</td>\n",
       "      <td>NaN</td>\n",
       "    </tr>\n",
       "    <tr>\n",
       "      <th>ExtraTreesRegressor100</th>\n",
       "      <td>3128.137724</td>\n",
       "      <td>0.092000</td>\n",
       "      <td>100.0</td>\n",
       "    </tr>\n",
       "    <tr>\n",
       "      <th>RandomForestRegressor10</th>\n",
       "      <td>3660.700674</td>\n",
       "      <td>0.014000</td>\n",
       "      <td>10.0</td>\n",
       "    </tr>\n",
       "    <tr>\n",
       "      <th>RandomForestRegressor50</th>\n",
       "      <td>3332.581092</td>\n",
       "      <td>0.096003</td>\n",
       "      <td>50.0</td>\n",
       "    </tr>\n",
       "    <tr>\n",
       "      <th>RandomForestRegressor100</th>\n",
       "      <td>3306.896356</td>\n",
       "      <td>0.138996</td>\n",
       "      <td>100.0</td>\n",
       "    </tr>\n",
       "  </tbody>\n",
       "</table>\n",
       "</div>"
      ],
      "text/plain": [
       "                                  MSE      time  n_estimators\n",
       "BaggingRegressor10        3645.815955  0.015995          10.0\n",
       "DecisionTreeRegressor     6154.853933  0.001000           NaN\n",
       "ExtraTreesRegressor100    3128.137724  0.092000         100.0\n",
       "RandomForestRegressor10   3660.700674  0.014000          10.0\n",
       "RandomForestRegressor50   3332.581092  0.096003          50.0\n",
       "RandomForestRegressor100  3306.896356  0.138996         100.0"
      ]
     },
     "execution_count": 16,
     "metadata": {},
     "output_type": "execute_result"
    }
   ],
   "source": [
    "ba = BaggingRegressor()\n",
    "dt = DecisionTreeRegressor()\n",
    "et = ExtraTreesRegressor()\n",
    "rf10 = RandomForestRegressor(n_estimators=10)\n",
    "rf50 = RandomForestRegressor(n_estimators=50)\n",
    "rf = RandomForestRegressor()\n",
    "\n",
    "\n",
    "models = [ba, dt,  et, rf10, rf50, rf]\n",
    "benchmark = pd.DataFrame()\n",
    "for model in models:\n",
    "    start = time.time()\n",
    "    model.fit(x_train, y_train)\n",
    "    pred = model.predict(x_test)\n",
    "    tm = time.time() - start\n",
    "    mse = mean_squared_error(y_test, pred)\n",
    "    if model in [ba, et, rf10, rf50, rf]:\n",
    "        n_est = model.get_params()[\"n_estimators\"]\n",
    "        benchmark[str(model.__class__.__name__) + str(n_est)] = [mse, tm, n_est]\n",
    "    else:\n",
    "        n_est = None\n",
    "        benchmark[str(model.__class__.__name__)] = [mse, tm, n_est]\n",
    "        \n",
    "    \n",
    "\n",
    "benchmark.index = ([\"MSE\", \"time\", \"n_estimators\"])\n",
    "benchmark.T"
   ]
  },
  {
   "cell_type": "markdown",
   "id": "fda27ec4",
   "metadata": {},
   "source": [
    "### RandomForest 하이퍼파라미터 튜닝"
   ]
  },
  {
   "cell_type": "code",
   "execution_count": 17,
   "id": "8de99a56",
   "metadata": {},
   "outputs": [
    {
     "name": "stdout",
     "output_type": "stream",
     "text": [
      "최적 하이퍼 파라미터:\n",
      " {'max_depth': 6, 'min_samples_leaf': 8, 'min_samples_split': 20, 'n_estimators': 100}\n",
      "최고 예측 정확도: 0.4166\n"
     ]
    }
   ],
   "source": [
    "params = {\n",
    "    'n_estimators':[100, 200],\n",
    "    'max_depth' : [6, 8, 10, 12], \n",
    "    'min_samples_leaf' : [8, 12, 18 ],\n",
    "    'min_samples_split' : [8, 16, 20]\n",
    "}\n",
    "\n",
    "# RandomForestRegressor 객체 생성 후 GridSearchCV 수행\n",
    "rf_clf = RandomForestRegressor(random_state=0, n_jobs=-1)\n",
    "grid_cv = GridSearchCV(rf_clf , param_grid=params , cv=2, n_jobs=-1)\n",
    "grid_cv.fit(x_train , y_train)\n",
    "\n",
    "print('최적 하이퍼 파라미터:\\n', grid_cv.best_params_)\n",
    "print('최고 예측 정확도: {0:.4f}'.format(grid_cv.best_score_))"
   ]
  },
  {
   "cell_type": "code",
   "execution_count": 18,
   "id": "d1680d4c",
   "metadata": {},
   "outputs": [
    {
     "name": "stdout",
     "output_type": "stream",
     "text": [
      "예측 정확도: 3001.138948855262\n"
     ]
    }
   ],
   "source": [
    "rf_grid = RandomForestRegressor(**grid_cv.best_params_)\n",
    "rf_grid.fit(x_train , y_train)\n",
    "pred = rf_grid.predict(x_test)\n",
    "print('예측 정확도: {}'.format(mean_squared_error(y_test , pred)))"
   ]
  },
  {
   "cell_type": "markdown",
   "id": "d44af04b",
   "metadata": {},
   "source": [
    "### ExtraTrees 하이퍼파라미터 튜닝"
   ]
  },
  {
   "cell_type": "code",
   "execution_count": 19,
   "id": "d50e3929",
   "metadata": {},
   "outputs": [
    {
     "name": "stdout",
     "output_type": "stream",
     "text": [
      "최적 하이퍼 파라미터:\n",
      " {'max_depth': 6, 'min_samples_leaf': 8, 'min_samples_split': 8, 'n_estimators': 100}\n",
      "최고 예측 정확도: 0.4403\n"
     ]
    }
   ],
   "source": [
    "# ExtraTreesRegressor 객체 생성 후 GridSearchCV 수행\n",
    "et_clf = ExtraTreesRegressor(random_state=0, n_jobs=-1)\n",
    "grid_cv = GridSearchCV(et_clf , param_grid=params , cv=2, n_jobs=-1)\n",
    "grid_cv.fit(x_train , y_train)\n",
    "\n",
    "print('최적 하이퍼 파라미터:\\n', grid_cv.best_params_)\n",
    "print('최고 예측 정확도: {0:.4f}'.format(grid_cv.best_score_)) "
   ]
  },
  {
   "cell_type": "code",
   "execution_count": 20,
   "id": "619f52ab",
   "metadata": {},
   "outputs": [
    {
     "name": "stdout",
     "output_type": "stream",
     "text": [
      "예측 정확도: 3129.5528695300513\n"
     ]
    }
   ],
   "source": [
    "et_grid = ExtraTreesRegressor(**grid_cv.best_params_)\n",
    "et_grid.fit(x_train , y_train)\n",
    "pred = et_grid.predict(x_test)\n",
    "print('예측 정확도: {}'.format(mean_squared_error(y_test , pred)))"
   ]
  }
 ],
 "metadata": {
  "kernelspec": {
   "display_name": "Python 3 (ipykernel)",
   "language": "python",
   "name": "python3"
  },
  "language_info": {
   "codemirror_mode": {
    "name": "ipython",
    "version": 3
   },
   "file_extension": ".py",
   "mimetype": "text/x-python",
   "name": "python",
   "nbconvert_exporter": "python",
   "pygments_lexer": "ipython3",
   "version": "3.9.12"
  }
 },
 "nbformat": 4,
 "nbformat_minor": 5
}
