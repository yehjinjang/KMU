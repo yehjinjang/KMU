{
 "cells": [
  {
   "cell_type": "code",
   "execution_count": 1,
   "id": "a05e6dbc",
   "metadata": {},
   "outputs": [],
   "source": [
    "import warnings\n",
    "warnings.filterwarnings(action='ignore')\n",
    "\n",
    "import pandas as pd\n",
    "import numpy as np\n",
    "\n",
    "from sklearn.datasets import fetch_openml\n",
    "from sklearn.model_selection import train_test_split\n",
    "\n",
    "from sklearn.metrics import f1_score"
   ]
  },
  {
   "cell_type": "markdown",
   "id": "1b07e497",
   "metadata": {},
   "source": [
    "### Load Data"
   ]
  },
  {
   "cell_type": "code",
   "execution_count": 2,
   "id": "a679ff81",
   "metadata": {},
   "outputs": [],
   "source": [
    "data = fetch_openml('titanic', version=1)\n",
    "\n",
    "X = data.data.drop(columns=['boat', 'body'])\n",
    "y = data.target"
   ]
  },
  {
   "cell_type": "code",
   "execution_count": 3,
   "id": "f3c0f901",
   "metadata": {},
   "outputs": [],
   "source": [
    "X = X.drop(columns=['name'])\n",
    "y = y.astype('int')"
   ]
  },
  {
   "cell_type": "code",
   "execution_count": 4,
   "id": "3eed479c",
   "metadata": {},
   "outputs": [],
   "source": [
    "X_train, X_test, y_train, y_test = train_test_split(X, y, test_size=.3, random_state=0)"
   ]
  },
  {
   "cell_type": "markdown",
   "id": "37f52b24",
   "metadata": {},
   "source": [
    "### Data Preprocessing"
   ]
  },
  {
   "cell_type": "code",
   "execution_count": 5,
   "id": "73820ca8",
   "metadata": {},
   "outputs": [],
   "source": [
    "# 결측치 처리\n",
    "X_train['age'] = X_train.age.fillna(X_train.age.mean())\n",
    "X_train['cabin'] = X_train.cabin.fillna(X_train.cabin.mode()[0])\n",
    "X_train['embarked'] = X_train.embarked.fillna(X_train.embarked.mode()[0])\n",
    "X_train['home.dest'] = X_train['home.dest'].fillna('결측치')\n",
    "\n",
    "X_test['age'] = X_test.age.fillna(X_train.age.mean())\n",
    "X_test['fare'] = X_test.fare.fillna(X_train.fare.mean())\n",
    "X_test['cabin'] = X_test.cabin.fillna(X_train.cabin.mode()[0])\n",
    "X_test['embarked'] = X_test.embarked.fillna(X_train.embarked.mode()[0])\n",
    "X_test['home.dest'] = X_test['home.dest'].fillna('결측치')"
   ]
  },
  {
   "cell_type": "code",
   "execution_count": 6,
   "id": "de992db1",
   "metadata": {},
   "outputs": [],
   "source": [
    "# 범주형 변수 처리\n",
    "X_train.sex = X_train.sex.replace(['male', 'female'], [0, 1])\n",
    "X_test.sex = X_test.sex.replace(['male', 'female'], [0, 1])\n",
    "\n",
    "value2idx = {x:i for i, x in enumerate(X_train.ticket.unique())}\n",
    "X_train['ticket'] = X_train.ticket.map(lambda x: value2idx[x])\n",
    "X_test['ticket'] = X_test.ticket.map(lambda x: value2idx.get(x,-1))\n",
    "\n",
    "value2idx = {x:i for i, x in enumerate(X_train.cabin.unique())}\n",
    "X_train['cabin'] = X_train.cabin.map(lambda x: value2idx[x])\n",
    "X_test['cabin'] = X_test.cabin.map(lambda x: value2idx.get(x, -1))\n",
    "\n",
    "value2idx = {x:i for i, x in enumerate(X_train.embarked.cat.categories)}\n",
    "X_train['embarked'] = X_train.embarked.map(lambda x: value2idx[x])\n",
    "X_test['embarked'] = X_test.embarked.map(lambda x: value2idx.get(x, -1))\n",
    "\n",
    "value2idx = {x:i for i, x in enumerate(X_train['home.dest'].unique())}\n",
    "X_train['home.dest'] = X_train['home.dest'].map(lambda x: value2idx[x])\n",
    "X_test['home.dest'] = X_test['home.dest'].map(lambda x: value2idx.get(x, -1))\n",
    "\n",
    "X_train[['sex', 'embarked']] = X_train[['sex', 'embarked']].astype('float')\n",
    "X_test[['sex', 'embarked']] = X_test[['sex', 'embarked']].astype('float')"
   ]
  },
  {
   "cell_type": "markdown",
   "id": "67dfbd07",
   "metadata": {},
   "source": [
    "### Modeling"
   ]
  },
  {
   "cell_type": "markdown",
   "id": "01913605",
   "metadata": {},
   "source": [
    "#### AdaBoost\n",
    "- `base_estimators`: 부스팅에 사용할 기본 모델 (default: DecisionTreeClassifier)\n",
    "- `n_estimators`: 사용할 예측기 수 (default: 50)\n",
    "- `learning_rate`: 부스팅에 사용할 학습률 (default: 1.0)\n",
    "- `random_state`: 시드값 고정에 사용 (default: None)"
   ]
  },
  {
   "cell_type": "code",
   "execution_count": 7,
   "id": "d79d02cb",
   "metadata": {},
   "outputs": [],
   "source": [
    "from sklearn.ensemble import AdaBoostClassifier\n",
    "from sklearn.linear_model import LogisticRegression\n",
    "from sklearn.tree import DecisionTreeClassifier"
   ]
  },
  {
   "cell_type": "code",
   "execution_count": 8,
   "id": "05ccdcea",
   "metadata": {},
   "outputs": [],
   "source": [
    "ada_clf1 = AdaBoostClassifier(base_estimator=LogisticRegression(), random_state=0)\n",
    "ada_clf2 = AdaBoostClassifier(random_state=0)\n",
    "ada_clf3 = AdaBoostClassifier(base_estimator=DecisionTreeClassifier(max_depth=5), random_state=0)"
   ]
  },
  {
   "cell_type": "code",
   "execution_count": 9,
   "id": "2d16d247",
   "metadata": {},
   "outputs": [
    {
     "data": {
      "text/html": [
       "<style>#sk-container-id-1 {color: black;background-color: white;}#sk-container-id-1 pre{padding: 0;}#sk-container-id-1 div.sk-toggleable {background-color: white;}#sk-container-id-1 label.sk-toggleable__label {cursor: pointer;display: block;width: 100%;margin-bottom: 0;padding: 0.3em;box-sizing: border-box;text-align: center;}#sk-container-id-1 label.sk-toggleable__label-arrow:before {content: \"▸\";float: left;margin-right: 0.25em;color: #696969;}#sk-container-id-1 label.sk-toggleable__label-arrow:hover:before {color: black;}#sk-container-id-1 div.sk-estimator:hover label.sk-toggleable__label-arrow:before {color: black;}#sk-container-id-1 div.sk-toggleable__content {max-height: 0;max-width: 0;overflow: hidden;text-align: left;background-color: #f0f8ff;}#sk-container-id-1 div.sk-toggleable__content pre {margin: 0.2em;color: black;border-radius: 0.25em;background-color: #f0f8ff;}#sk-container-id-1 input.sk-toggleable__control:checked~div.sk-toggleable__content {max-height: 200px;max-width: 100%;overflow: auto;}#sk-container-id-1 input.sk-toggleable__control:checked~label.sk-toggleable__label-arrow:before {content: \"▾\";}#sk-container-id-1 div.sk-estimator input.sk-toggleable__control:checked~label.sk-toggleable__label {background-color: #d4ebff;}#sk-container-id-1 div.sk-label input.sk-toggleable__control:checked~label.sk-toggleable__label {background-color: #d4ebff;}#sk-container-id-1 input.sk-hidden--visually {border: 0;clip: rect(1px 1px 1px 1px);clip: rect(1px, 1px, 1px, 1px);height: 1px;margin: -1px;overflow: hidden;padding: 0;position: absolute;width: 1px;}#sk-container-id-1 div.sk-estimator {font-family: monospace;background-color: #f0f8ff;border: 1px dotted black;border-radius: 0.25em;box-sizing: border-box;margin-bottom: 0.5em;}#sk-container-id-1 div.sk-estimator:hover {background-color: #d4ebff;}#sk-container-id-1 div.sk-parallel-item::after {content: \"\";width: 100%;border-bottom: 1px solid gray;flex-grow: 1;}#sk-container-id-1 div.sk-label:hover label.sk-toggleable__label {background-color: #d4ebff;}#sk-container-id-1 div.sk-serial::before {content: \"\";position: absolute;border-left: 1px solid gray;box-sizing: border-box;top: 0;bottom: 0;left: 50%;z-index: 0;}#sk-container-id-1 div.sk-serial {display: flex;flex-direction: column;align-items: center;background-color: white;padding-right: 0.2em;padding-left: 0.2em;position: relative;}#sk-container-id-1 div.sk-item {position: relative;z-index: 1;}#sk-container-id-1 div.sk-parallel {display: flex;align-items: stretch;justify-content: center;background-color: white;position: relative;}#sk-container-id-1 div.sk-item::before, #sk-container-id-1 div.sk-parallel-item::before {content: \"\";position: absolute;border-left: 1px solid gray;box-sizing: border-box;top: 0;bottom: 0;left: 50%;z-index: -1;}#sk-container-id-1 div.sk-parallel-item {display: flex;flex-direction: column;z-index: 1;position: relative;background-color: white;}#sk-container-id-1 div.sk-parallel-item:first-child::after {align-self: flex-end;width: 50%;}#sk-container-id-1 div.sk-parallel-item:last-child::after {align-self: flex-start;width: 50%;}#sk-container-id-1 div.sk-parallel-item:only-child::after {width: 0;}#sk-container-id-1 div.sk-dashed-wrapped {border: 1px dashed gray;margin: 0 0.4em 0.5em 0.4em;box-sizing: border-box;padding-bottom: 0.4em;background-color: white;}#sk-container-id-1 div.sk-label label {font-family: monospace;font-weight: bold;display: inline-block;line-height: 1.2em;}#sk-container-id-1 div.sk-label-container {text-align: center;}#sk-container-id-1 div.sk-container {/* jupyter's `normalize.less` sets `[hidden] { display: none; }` but bootstrap.min.css set `[hidden] { display: none !important; }` so we also need the `!important` here to be able to override the default hidden behavior on the sphinx rendered scikit-learn.org. See: https://github.com/scikit-learn/scikit-learn/issues/21755 */display: inline-block !important;position: relative;}#sk-container-id-1 div.sk-text-repr-fallback {display: none;}</style><div id=\"sk-container-id-1\" class=\"sk-top-container\"><div class=\"sk-text-repr-fallback\"><pre>AdaBoostClassifier(base_estimator=DecisionTreeClassifier(max_depth=5),\n",
       "                   random_state=0)</pre><b>In a Jupyter environment, please rerun this cell to show the HTML representation or trust the notebook. <br />On GitHub, the HTML representation is unable to render, please try loading this page with nbviewer.org.</b></div><div class=\"sk-container\" hidden><div class=\"sk-item sk-dashed-wrapped\"><div class=\"sk-label-container\"><div class=\"sk-label sk-toggleable\"><input class=\"sk-toggleable__control sk-hidden--visually\" id=\"sk-estimator-id-1\" type=\"checkbox\" ><label for=\"sk-estimator-id-1\" class=\"sk-toggleable__label sk-toggleable__label-arrow\">AdaBoostClassifier</label><div class=\"sk-toggleable__content\"><pre>AdaBoostClassifier(base_estimator=DecisionTreeClassifier(max_depth=5),\n",
       "                   random_state=0)</pre></div></div></div><div class=\"sk-parallel\"><div class=\"sk-parallel-item\"><div class=\"sk-item\"><div class=\"sk-label-container\"><div class=\"sk-label sk-toggleable\"><input class=\"sk-toggleable__control sk-hidden--visually\" id=\"sk-estimator-id-2\" type=\"checkbox\" ><label for=\"sk-estimator-id-2\" class=\"sk-toggleable__label sk-toggleable__label-arrow\">base_estimator: DecisionTreeClassifier</label><div class=\"sk-toggleable__content\"><pre>DecisionTreeClassifier(max_depth=5)</pre></div></div></div><div class=\"sk-serial\"><div class=\"sk-item\"><div class=\"sk-estimator sk-toggleable\"><input class=\"sk-toggleable__control sk-hidden--visually\" id=\"sk-estimator-id-3\" type=\"checkbox\" ><label for=\"sk-estimator-id-3\" class=\"sk-toggleable__label sk-toggleable__label-arrow\">DecisionTreeClassifier</label><div class=\"sk-toggleable__content\"><pre>DecisionTreeClassifier(max_depth=5)</pre></div></div></div></div></div></div></div></div></div></div>"
      ],
      "text/plain": [
       "AdaBoostClassifier(base_estimator=DecisionTreeClassifier(max_depth=5),\n",
       "                   random_state=0)"
      ]
     },
     "execution_count": 9,
     "metadata": {},
     "output_type": "execute_result"
    }
   ],
   "source": [
    "ada_clf1.fit(X_train, y_train)\n",
    "ada_clf2.fit(X_train, y_train)\n",
    "ada_clf3.fit(X_train, y_train)"
   ]
  },
  {
   "cell_type": "code",
   "execution_count": 10,
   "id": "50f6d489",
   "metadata": {},
   "outputs": [
    {
     "name": "stdout",
     "output_type": "stream",
     "text": [
      "AdaBoost(Logistic Regression) 0.7054545454545454\n",
      "AdaBoost(DecisionTree) 0.6449864498644987\n",
      "AdaBoost(DecisionTree with Parameter) 0.6912751677852349\n"
     ]
    }
   ],
   "source": [
    "pred1 = ada_clf1.predict(X_test)\n",
    "pred2 = ada_clf2.predict(X_test)\n",
    "pred3 = ada_clf3.predict(X_test)\n",
    "print('AdaBoost(Logistic Regression)', f1_score(y_test, pred1))\n",
    "print('AdaBoost(DecisionTree)', f1_score(y_test, pred2))\n",
    "print('AdaBoost(DecisionTree with Parameter)', f1_score(y_test, pred3))"
   ]
  },
  {
   "cell_type": "markdown",
   "id": "d5dbb858",
   "metadata": {},
   "source": [
    "#### GBM\n",
    "- `loss`: 학습에 사용할 loss (default: log_loss)\n",
    "- `learning_rate`: 부스팅에 사용할 학습률 (default: 0.1)\n",
    "- `n_estimators`: 사용할 예측기 수 (default: 100)\n",
    "- `subsample`: 각 base learner에 사용될 sample의 비율 (default: 1.0)\n",
    "- `random_state`: 시드값 고정에 사용 (default: None)\n",
    "- `verbose`: 학습 과정 print 여부 (default: 0)\n",
    "- DecisionTree 관련 파라미터\n",
    "  - `criterion`\n",
    "  - `min_samples_split`\n",
    "  - `min_samples_leaf`\n",
    "  - `min_weight_fraction_leaf`\n",
    "  - `max_depth`\n",
    "  - `min_impurity_decrease`\n",
    "  - `init`\n",
    "  - `max_features`\n",
    "  - `max_leaf_nodes`\n",
    "- 조기 종료 관련 파라미터\n",
    "  - `validation_fraction`: 조기 종료 알고리즘에서 사용할 검증 데이터셋 비율\n",
    "  - `n_iter_no_change`: 조기 종료 알고리즘 사용 여부 (default: None); int\n",
    "  - `tol`: 조기 종료를 위한 tolerance(최소한 tolerance만큼 증가하지 않으면 학습 종료)"
   ]
  },
  {
   "cell_type": "code",
   "execution_count": 11,
   "id": "0559409f",
   "metadata": {},
   "outputs": [],
   "source": [
    "from sklearn.ensemble import GradientBoostingClassifier"
   ]
  },
  {
   "cell_type": "code",
   "execution_count": 12,
   "id": "b93f5140",
   "metadata": {},
   "outputs": [],
   "source": [
    "gbm_clf1 = GradientBoostingClassifier(random_state=0)\n",
    "gbm_clf2 = GradientBoostingClassifier(learning_rate=0.5, n_estimators=150,\n",
    "                                      random_state=0)"
   ]
  },
  {
   "cell_type": "code",
   "execution_count": 13,
   "id": "051d8d86",
   "metadata": {},
   "outputs": [
    {
     "data": {
      "text/html": [
       "<style>#sk-container-id-2 {color: black;background-color: white;}#sk-container-id-2 pre{padding: 0;}#sk-container-id-2 div.sk-toggleable {background-color: white;}#sk-container-id-2 label.sk-toggleable__label {cursor: pointer;display: block;width: 100%;margin-bottom: 0;padding: 0.3em;box-sizing: border-box;text-align: center;}#sk-container-id-2 label.sk-toggleable__label-arrow:before {content: \"▸\";float: left;margin-right: 0.25em;color: #696969;}#sk-container-id-2 label.sk-toggleable__label-arrow:hover:before {color: black;}#sk-container-id-2 div.sk-estimator:hover label.sk-toggleable__label-arrow:before {color: black;}#sk-container-id-2 div.sk-toggleable__content {max-height: 0;max-width: 0;overflow: hidden;text-align: left;background-color: #f0f8ff;}#sk-container-id-2 div.sk-toggleable__content pre {margin: 0.2em;color: black;border-radius: 0.25em;background-color: #f0f8ff;}#sk-container-id-2 input.sk-toggleable__control:checked~div.sk-toggleable__content {max-height: 200px;max-width: 100%;overflow: auto;}#sk-container-id-2 input.sk-toggleable__control:checked~label.sk-toggleable__label-arrow:before {content: \"▾\";}#sk-container-id-2 div.sk-estimator input.sk-toggleable__control:checked~label.sk-toggleable__label {background-color: #d4ebff;}#sk-container-id-2 div.sk-label input.sk-toggleable__control:checked~label.sk-toggleable__label {background-color: #d4ebff;}#sk-container-id-2 input.sk-hidden--visually {border: 0;clip: rect(1px 1px 1px 1px);clip: rect(1px, 1px, 1px, 1px);height: 1px;margin: -1px;overflow: hidden;padding: 0;position: absolute;width: 1px;}#sk-container-id-2 div.sk-estimator {font-family: monospace;background-color: #f0f8ff;border: 1px dotted black;border-radius: 0.25em;box-sizing: border-box;margin-bottom: 0.5em;}#sk-container-id-2 div.sk-estimator:hover {background-color: #d4ebff;}#sk-container-id-2 div.sk-parallel-item::after {content: \"\";width: 100%;border-bottom: 1px solid gray;flex-grow: 1;}#sk-container-id-2 div.sk-label:hover label.sk-toggleable__label {background-color: #d4ebff;}#sk-container-id-2 div.sk-serial::before {content: \"\";position: absolute;border-left: 1px solid gray;box-sizing: border-box;top: 0;bottom: 0;left: 50%;z-index: 0;}#sk-container-id-2 div.sk-serial {display: flex;flex-direction: column;align-items: center;background-color: white;padding-right: 0.2em;padding-left: 0.2em;position: relative;}#sk-container-id-2 div.sk-item {position: relative;z-index: 1;}#sk-container-id-2 div.sk-parallel {display: flex;align-items: stretch;justify-content: center;background-color: white;position: relative;}#sk-container-id-2 div.sk-item::before, #sk-container-id-2 div.sk-parallel-item::before {content: \"\";position: absolute;border-left: 1px solid gray;box-sizing: border-box;top: 0;bottom: 0;left: 50%;z-index: -1;}#sk-container-id-2 div.sk-parallel-item {display: flex;flex-direction: column;z-index: 1;position: relative;background-color: white;}#sk-container-id-2 div.sk-parallel-item:first-child::after {align-self: flex-end;width: 50%;}#sk-container-id-2 div.sk-parallel-item:last-child::after {align-self: flex-start;width: 50%;}#sk-container-id-2 div.sk-parallel-item:only-child::after {width: 0;}#sk-container-id-2 div.sk-dashed-wrapped {border: 1px dashed gray;margin: 0 0.4em 0.5em 0.4em;box-sizing: border-box;padding-bottom: 0.4em;background-color: white;}#sk-container-id-2 div.sk-label label {font-family: monospace;font-weight: bold;display: inline-block;line-height: 1.2em;}#sk-container-id-2 div.sk-label-container {text-align: center;}#sk-container-id-2 div.sk-container {/* jupyter's `normalize.less` sets `[hidden] { display: none; }` but bootstrap.min.css set `[hidden] { display: none !important; }` so we also need the `!important` here to be able to override the default hidden behavior on the sphinx rendered scikit-learn.org. See: https://github.com/scikit-learn/scikit-learn/issues/21755 */display: inline-block !important;position: relative;}#sk-container-id-2 div.sk-text-repr-fallback {display: none;}</style><div id=\"sk-container-id-2\" class=\"sk-top-container\"><div class=\"sk-text-repr-fallback\"><pre>GradientBoostingClassifier(learning_rate=0.5, n_estimators=150, random_state=0)</pre><b>In a Jupyter environment, please rerun this cell to show the HTML representation or trust the notebook. <br />On GitHub, the HTML representation is unable to render, please try loading this page with nbviewer.org.</b></div><div class=\"sk-container\" hidden><div class=\"sk-item\"><div class=\"sk-estimator sk-toggleable\"><input class=\"sk-toggleable__control sk-hidden--visually\" id=\"sk-estimator-id-4\" type=\"checkbox\" checked><label for=\"sk-estimator-id-4\" class=\"sk-toggleable__label sk-toggleable__label-arrow\">GradientBoostingClassifier</label><div class=\"sk-toggleable__content\"><pre>GradientBoostingClassifier(learning_rate=0.5, n_estimators=150, random_state=0)</pre></div></div></div></div></div>"
      ],
      "text/plain": [
       "GradientBoostingClassifier(learning_rate=0.5, n_estimators=150, random_state=0)"
      ]
     },
     "execution_count": 13,
     "metadata": {},
     "output_type": "execute_result"
    }
   ],
   "source": [
    "gbm_clf1.fit(X_train, y_train)\n",
    "gbm_clf2.fit(X_train, y_train)"
   ]
  },
  {
   "cell_type": "code",
   "execution_count": 14,
   "id": "170bd2ff",
   "metadata": {},
   "outputs": [
    {
     "name": "stdout",
     "output_type": "stream",
     "text": [
      "AdaBoost(Logistic Regression) 0.7018867924528301\n",
      "AdaBoost(DecisionTree) 0.7291666666666666\n"
     ]
    }
   ],
   "source": [
    "pred1 = gbm_clf1.predict(X_test)\n",
    "pred2 = gbm_clf2.predict(X_test)\n",
    "print('AdaBoost(Logistic Regression)', f1_score(y_test, pred1))\n",
    "print('AdaBoost(DecisionTree)', f1_score(y_test, pred2))"
   ]
  },
  {
   "cell_type": "code",
   "execution_count": 15,
   "id": "5bc62f47",
   "metadata": {},
   "outputs": [],
   "source": [
    "gbm_clf3 = GradientBoostingClassifier(learning_rate=0.5, n_estimators=150,\n",
    "                                      validation_fraction=.3, n_iter_no_change=2,\n",
    "                                      random_state=0)"
   ]
  },
  {
   "cell_type": "code",
   "execution_count": 16,
   "id": "bea145a1",
   "metadata": {},
   "outputs": [
    {
     "data": {
      "text/html": [
       "<style>#sk-container-id-3 {color: black;background-color: white;}#sk-container-id-3 pre{padding: 0;}#sk-container-id-3 div.sk-toggleable {background-color: white;}#sk-container-id-3 label.sk-toggleable__label {cursor: pointer;display: block;width: 100%;margin-bottom: 0;padding: 0.3em;box-sizing: border-box;text-align: center;}#sk-container-id-3 label.sk-toggleable__label-arrow:before {content: \"▸\";float: left;margin-right: 0.25em;color: #696969;}#sk-container-id-3 label.sk-toggleable__label-arrow:hover:before {color: black;}#sk-container-id-3 div.sk-estimator:hover label.sk-toggleable__label-arrow:before {color: black;}#sk-container-id-3 div.sk-toggleable__content {max-height: 0;max-width: 0;overflow: hidden;text-align: left;background-color: #f0f8ff;}#sk-container-id-3 div.sk-toggleable__content pre {margin: 0.2em;color: black;border-radius: 0.25em;background-color: #f0f8ff;}#sk-container-id-3 input.sk-toggleable__control:checked~div.sk-toggleable__content {max-height: 200px;max-width: 100%;overflow: auto;}#sk-container-id-3 input.sk-toggleable__control:checked~label.sk-toggleable__label-arrow:before {content: \"▾\";}#sk-container-id-3 div.sk-estimator input.sk-toggleable__control:checked~label.sk-toggleable__label {background-color: #d4ebff;}#sk-container-id-3 div.sk-label input.sk-toggleable__control:checked~label.sk-toggleable__label {background-color: #d4ebff;}#sk-container-id-3 input.sk-hidden--visually {border: 0;clip: rect(1px 1px 1px 1px);clip: rect(1px, 1px, 1px, 1px);height: 1px;margin: -1px;overflow: hidden;padding: 0;position: absolute;width: 1px;}#sk-container-id-3 div.sk-estimator {font-family: monospace;background-color: #f0f8ff;border: 1px dotted black;border-radius: 0.25em;box-sizing: border-box;margin-bottom: 0.5em;}#sk-container-id-3 div.sk-estimator:hover {background-color: #d4ebff;}#sk-container-id-3 div.sk-parallel-item::after {content: \"\";width: 100%;border-bottom: 1px solid gray;flex-grow: 1;}#sk-container-id-3 div.sk-label:hover label.sk-toggleable__label {background-color: #d4ebff;}#sk-container-id-3 div.sk-serial::before {content: \"\";position: absolute;border-left: 1px solid gray;box-sizing: border-box;top: 0;bottom: 0;left: 50%;z-index: 0;}#sk-container-id-3 div.sk-serial {display: flex;flex-direction: column;align-items: center;background-color: white;padding-right: 0.2em;padding-left: 0.2em;position: relative;}#sk-container-id-3 div.sk-item {position: relative;z-index: 1;}#sk-container-id-3 div.sk-parallel {display: flex;align-items: stretch;justify-content: center;background-color: white;position: relative;}#sk-container-id-3 div.sk-item::before, #sk-container-id-3 div.sk-parallel-item::before {content: \"\";position: absolute;border-left: 1px solid gray;box-sizing: border-box;top: 0;bottom: 0;left: 50%;z-index: -1;}#sk-container-id-3 div.sk-parallel-item {display: flex;flex-direction: column;z-index: 1;position: relative;background-color: white;}#sk-container-id-3 div.sk-parallel-item:first-child::after {align-self: flex-end;width: 50%;}#sk-container-id-3 div.sk-parallel-item:last-child::after {align-self: flex-start;width: 50%;}#sk-container-id-3 div.sk-parallel-item:only-child::after {width: 0;}#sk-container-id-3 div.sk-dashed-wrapped {border: 1px dashed gray;margin: 0 0.4em 0.5em 0.4em;box-sizing: border-box;padding-bottom: 0.4em;background-color: white;}#sk-container-id-3 div.sk-label label {font-family: monospace;font-weight: bold;display: inline-block;line-height: 1.2em;}#sk-container-id-3 div.sk-label-container {text-align: center;}#sk-container-id-3 div.sk-container {/* jupyter's `normalize.less` sets `[hidden] { display: none; }` but bootstrap.min.css set `[hidden] { display: none !important; }` so we also need the `!important` here to be able to override the default hidden behavior on the sphinx rendered scikit-learn.org. See: https://github.com/scikit-learn/scikit-learn/issues/21755 */display: inline-block !important;position: relative;}#sk-container-id-3 div.sk-text-repr-fallback {display: none;}</style><div id=\"sk-container-id-3\" class=\"sk-top-container\"><div class=\"sk-text-repr-fallback\"><pre>GradientBoostingClassifier(learning_rate=0.5, n_estimators=150,\n",
       "                           n_iter_no_change=2, random_state=0,\n",
       "                           validation_fraction=0.3)</pre><b>In a Jupyter environment, please rerun this cell to show the HTML representation or trust the notebook. <br />On GitHub, the HTML representation is unable to render, please try loading this page with nbviewer.org.</b></div><div class=\"sk-container\" hidden><div class=\"sk-item\"><div class=\"sk-estimator sk-toggleable\"><input class=\"sk-toggleable__control sk-hidden--visually\" id=\"sk-estimator-id-5\" type=\"checkbox\" checked><label for=\"sk-estimator-id-5\" class=\"sk-toggleable__label sk-toggleable__label-arrow\">GradientBoostingClassifier</label><div class=\"sk-toggleable__content\"><pre>GradientBoostingClassifier(learning_rate=0.5, n_estimators=150,\n",
       "                           n_iter_no_change=2, random_state=0,\n",
       "                           validation_fraction=0.3)</pre></div></div></div></div></div>"
      ],
      "text/plain": [
       "GradientBoostingClassifier(learning_rate=0.5, n_estimators=150,\n",
       "                           n_iter_no_change=2, random_state=0,\n",
       "                           validation_fraction=0.3)"
      ]
     },
     "execution_count": 16,
     "metadata": {},
     "output_type": "execute_result"
    }
   ],
   "source": [
    "gbm_clf3.fit(X_train, y_train)"
   ]
  },
  {
   "cell_type": "code",
   "execution_count": 17,
   "id": "4b252138",
   "metadata": {},
   "outputs": [
    {
     "name": "stdout",
     "output_type": "stream",
     "text": [
      "AdaBoost(DecisionTree) 0.7338129496402876\n"
     ]
    }
   ],
   "source": [
    "pred3 = gbm_clf3.predict(X_test)\n",
    "print('AdaBoost(DecisionTree)', f1_score(y_test, pred3))"
   ]
  },
  {
   "cell_type": "markdown",
   "id": "dd22d257",
   "metadata": {},
   "source": [
    "#### XGBoost\n",
    "- `booster`: 부스팅에 사용할 기본 모델 (default: gbtree) ; gblinear, dart\n",
    "- `learning_rate`: 학습률 (default: 0.1)\n",
    "- `n_estimators`: 사용할 예측기 수 (default: 100)\n",
    "- `early_stopping_rounds`: 조기 종료를 위한 반복 횟수 (default: None)\n",
    "- `random_state`: 시드값 고정에 사용 (default: None)\n",
    "- DecisionTree 관련 파라미터\n",
    "    - `max_depth`\n",
    "    - `min_child_weight`\n",
    "    - `gamma`\n",
    "    - `subsample`\n",
    "    - `comsample_bytree`\n",
    "    - `res_lambda`\n",
    "    - `reg_alpha`\n",
    "    - `scale_pos_weight`\n",
    "- 학습 테스크 파라미터\n",
    "    - `objective`: 부스팅에 사용할 손실함수\n",
    "    - `eval_metric`: 검증에 사용하는함수 정의\n",
    "    - `eval_set`: 검증 데이터셋"
   ]
  },
  {
   "cell_type": "code",
   "execution_count": null,
   "id": "4b76e9c1",
   "metadata": {},
   "outputs": [],
   "source": [
    "!pip install xgboost"
   ]
  },
  {
   "cell_type": "code",
   "execution_count": 18,
   "id": "68a5711c",
   "metadata": {},
   "outputs": [],
   "source": [
    "from xgboost import XGBClassifier"
   ]
  },
  {
   "cell_type": "code",
   "execution_count": 19,
   "id": "07a0b76b",
   "metadata": {},
   "outputs": [],
   "source": [
    "X_train1, X_val, y_train1, y_val = train_test_split(X_train, y_train, test_size=.3, random_state=0)"
   ]
  },
  {
   "cell_type": "code",
   "execution_count": 20,
   "id": "801eb912",
   "metadata": {},
   "outputs": [],
   "source": [
    "xgb_clf1 = XGBClassifier(booster='gblinear', random_state=0)\n",
    "xgb_clf2 = XGBClassifier(random_state=0)\n",
    "xgb_clf3 = XGBClassifier(early_stopping_rounds=10, random_state=0)"
   ]
  },
  {
   "cell_type": "code",
   "execution_count": 21,
   "id": "529b4622",
   "metadata": {
    "scrolled": true
   },
   "outputs": [
    {
     "name": "stdout",
     "output_type": "stream",
     "text": [
      "[0]\tvalidation_0-logloss:0.58347\n",
      "[1]\tvalidation_0-logloss:0.52048\n",
      "[2]\tvalidation_0-logloss:0.48587\n",
      "[3]\tvalidation_0-logloss:0.46578\n",
      "[4]\tvalidation_0-logloss:0.45537\n",
      "[5]\tvalidation_0-logloss:0.44177\n",
      "[6]\tvalidation_0-logloss:0.43734\n",
      "[7]\tvalidation_0-logloss:0.43816\n",
      "[8]\tvalidation_0-logloss:0.43846\n",
      "[9]\tvalidation_0-logloss:0.43940\n",
      "[10]\tvalidation_0-logloss:0.44287\n",
      "[11]\tvalidation_0-logloss:0.44022\n",
      "[12]\tvalidation_0-logloss:0.43691\n",
      "[13]\tvalidation_0-logloss:0.43900\n",
      "[14]\tvalidation_0-logloss:0.44325\n",
      "[15]\tvalidation_0-logloss:0.44414\n",
      "[16]\tvalidation_0-logloss:0.44414\n",
      "[17]\tvalidation_0-logloss:0.45129\n",
      "[18]\tvalidation_0-logloss:0.45338\n",
      "[19]\tvalidation_0-logloss:0.44934\n",
      "[20]\tvalidation_0-logloss:0.45125\n",
      "[21]\tvalidation_0-logloss:0.45390\n"
     ]
    },
    {
     "data": {
      "text/html": [
       "<style>#sk-container-id-4 {color: black;background-color: white;}#sk-container-id-4 pre{padding: 0;}#sk-container-id-4 div.sk-toggleable {background-color: white;}#sk-container-id-4 label.sk-toggleable__label {cursor: pointer;display: block;width: 100%;margin-bottom: 0;padding: 0.3em;box-sizing: border-box;text-align: center;}#sk-container-id-4 label.sk-toggleable__label-arrow:before {content: \"▸\";float: left;margin-right: 0.25em;color: #696969;}#sk-container-id-4 label.sk-toggleable__label-arrow:hover:before {color: black;}#sk-container-id-4 div.sk-estimator:hover label.sk-toggleable__label-arrow:before {color: black;}#sk-container-id-4 div.sk-toggleable__content {max-height: 0;max-width: 0;overflow: hidden;text-align: left;background-color: #f0f8ff;}#sk-container-id-4 div.sk-toggleable__content pre {margin: 0.2em;color: black;border-radius: 0.25em;background-color: #f0f8ff;}#sk-container-id-4 input.sk-toggleable__control:checked~div.sk-toggleable__content {max-height: 200px;max-width: 100%;overflow: auto;}#sk-container-id-4 input.sk-toggleable__control:checked~label.sk-toggleable__label-arrow:before {content: \"▾\";}#sk-container-id-4 div.sk-estimator input.sk-toggleable__control:checked~label.sk-toggleable__label {background-color: #d4ebff;}#sk-container-id-4 div.sk-label input.sk-toggleable__control:checked~label.sk-toggleable__label {background-color: #d4ebff;}#sk-container-id-4 input.sk-hidden--visually {border: 0;clip: rect(1px 1px 1px 1px);clip: rect(1px, 1px, 1px, 1px);height: 1px;margin: -1px;overflow: hidden;padding: 0;position: absolute;width: 1px;}#sk-container-id-4 div.sk-estimator {font-family: monospace;background-color: #f0f8ff;border: 1px dotted black;border-radius: 0.25em;box-sizing: border-box;margin-bottom: 0.5em;}#sk-container-id-4 div.sk-estimator:hover {background-color: #d4ebff;}#sk-container-id-4 div.sk-parallel-item::after {content: \"\";width: 100%;border-bottom: 1px solid gray;flex-grow: 1;}#sk-container-id-4 div.sk-label:hover label.sk-toggleable__label {background-color: #d4ebff;}#sk-container-id-4 div.sk-serial::before {content: \"\";position: absolute;border-left: 1px solid gray;box-sizing: border-box;top: 0;bottom: 0;left: 50%;z-index: 0;}#sk-container-id-4 div.sk-serial {display: flex;flex-direction: column;align-items: center;background-color: white;padding-right: 0.2em;padding-left: 0.2em;position: relative;}#sk-container-id-4 div.sk-item {position: relative;z-index: 1;}#sk-container-id-4 div.sk-parallel {display: flex;align-items: stretch;justify-content: center;background-color: white;position: relative;}#sk-container-id-4 div.sk-item::before, #sk-container-id-4 div.sk-parallel-item::before {content: \"\";position: absolute;border-left: 1px solid gray;box-sizing: border-box;top: 0;bottom: 0;left: 50%;z-index: -1;}#sk-container-id-4 div.sk-parallel-item {display: flex;flex-direction: column;z-index: 1;position: relative;background-color: white;}#sk-container-id-4 div.sk-parallel-item:first-child::after {align-self: flex-end;width: 50%;}#sk-container-id-4 div.sk-parallel-item:last-child::after {align-self: flex-start;width: 50%;}#sk-container-id-4 div.sk-parallel-item:only-child::after {width: 0;}#sk-container-id-4 div.sk-dashed-wrapped {border: 1px dashed gray;margin: 0 0.4em 0.5em 0.4em;box-sizing: border-box;padding-bottom: 0.4em;background-color: white;}#sk-container-id-4 div.sk-label label {font-family: monospace;font-weight: bold;display: inline-block;line-height: 1.2em;}#sk-container-id-4 div.sk-label-container {text-align: center;}#sk-container-id-4 div.sk-container {/* jupyter's `normalize.less` sets `[hidden] { display: none; }` but bootstrap.min.css set `[hidden] { display: none !important; }` so we also need the `!important` here to be able to override the default hidden behavior on the sphinx rendered scikit-learn.org. See: https://github.com/scikit-learn/scikit-learn/issues/21755 */display: inline-block !important;position: relative;}#sk-container-id-4 div.sk-text-repr-fallback {display: none;}</style><div id=\"sk-container-id-4\" class=\"sk-top-container\"><div class=\"sk-text-repr-fallback\"><pre>XGBClassifier(base_score=0.5, booster=&#x27;gbtree&#x27;, callbacks=None,\n",
       "              colsample_bylevel=1, colsample_bynode=1, colsample_bytree=1,\n",
       "              early_stopping_rounds=10, enable_categorical=False,\n",
       "              eval_metric=None, gamma=0, gpu_id=-1, grow_policy=&#x27;depthwise&#x27;,\n",
       "              importance_type=None, interaction_constraints=&#x27;&#x27;,\n",
       "              learning_rate=0.300000012, max_bin=256, max_cat_to_onehot=4,\n",
       "              max_delta_step=0, max_depth=6, max_leaves=0, min_child_weight=1,\n",
       "              missing=nan, monotone_constraints=&#x27;()&#x27;, n_estimators=100,\n",
       "              n_jobs=0, num_parallel_tree=1, predictor=&#x27;auto&#x27;, random_state=0,\n",
       "              reg_alpha=0, reg_lambda=1, ...)</pre><b>In a Jupyter environment, please rerun this cell to show the HTML representation or trust the notebook. <br />On GitHub, the HTML representation is unable to render, please try loading this page with nbviewer.org.</b></div><div class=\"sk-container\" hidden><div class=\"sk-item\"><div class=\"sk-estimator sk-toggleable\"><input class=\"sk-toggleable__control sk-hidden--visually\" id=\"sk-estimator-id-6\" type=\"checkbox\" checked><label for=\"sk-estimator-id-6\" class=\"sk-toggleable__label sk-toggleable__label-arrow\">XGBClassifier</label><div class=\"sk-toggleable__content\"><pre>XGBClassifier(base_score=0.5, booster=&#x27;gbtree&#x27;, callbacks=None,\n",
       "              colsample_bylevel=1, colsample_bynode=1, colsample_bytree=1,\n",
       "              early_stopping_rounds=10, enable_categorical=False,\n",
       "              eval_metric=None, gamma=0, gpu_id=-1, grow_policy=&#x27;depthwise&#x27;,\n",
       "              importance_type=None, interaction_constraints=&#x27;&#x27;,\n",
       "              learning_rate=0.300000012, max_bin=256, max_cat_to_onehot=4,\n",
       "              max_delta_step=0, max_depth=6, max_leaves=0, min_child_weight=1,\n",
       "              missing=nan, monotone_constraints=&#x27;()&#x27;, n_estimators=100,\n",
       "              n_jobs=0, num_parallel_tree=1, predictor=&#x27;auto&#x27;, random_state=0,\n",
       "              reg_alpha=0, reg_lambda=1, ...)</pre></div></div></div></div></div>"
      ],
      "text/plain": [
       "XGBClassifier(base_score=0.5, booster='gbtree', callbacks=None,\n",
       "              colsample_bylevel=1, colsample_bynode=1, colsample_bytree=1,\n",
       "              early_stopping_rounds=10, enable_categorical=False,\n",
       "              eval_metric=None, gamma=0, gpu_id=-1, grow_policy='depthwise',\n",
       "              importance_type=None, interaction_constraints='',\n",
       "              learning_rate=0.300000012, max_bin=256, max_cat_to_onehot=4,\n",
       "              max_delta_step=0, max_depth=6, max_leaves=0, min_child_weight=1,\n",
       "              missing=nan, monotone_constraints='()', n_estimators=100,\n",
       "              n_jobs=0, num_parallel_tree=1, predictor='auto', random_state=0,\n",
       "              reg_alpha=0, reg_lambda=1, ...)"
      ]
     },
     "execution_count": 21,
     "metadata": {},
     "output_type": "execute_result"
    }
   ],
   "source": [
    "xgb_clf1.fit(X_train, y_train)\n",
    "xgb_clf2.fit(X_train, y_train)\n",
    "xgb_clf3.fit(X_train1, y_train1, eval_set=[(X_val, y_val)])"
   ]
  },
  {
   "cell_type": "code",
   "execution_count": 22,
   "id": "41ca2674",
   "metadata": {},
   "outputs": [
    {
     "name": "stdout",
     "output_type": "stream",
     "text": [
      "XGBoost(gblinear) 0.6911764705882353\n",
      "XGBoost(gbtree) 0.6971830985915493\n",
      "XGBoost(gbtree with early stopping) 0.7106227106227107\n"
     ]
    }
   ],
   "source": [
    "pred1 = xgb_clf1.predict(X_test)\n",
    "pred2 = xgb_clf2.predict(X_test)\n",
    "pred3 = xgb_clf3.predict(X_test)\n",
    "\n",
    "print('XGBoost(gblinear)', f1_score(y_test, pred1))\n",
    "print('XGBoost(gbtree)', f1_score(y_test, pred2))\n",
    "print('XGBoost(gbtree with early stopping)', f1_score(y_test, pred3))"
   ]
  },
  {
   "cell_type": "markdown",
   "id": "bd5c685a",
   "metadata": {},
   "source": [
    "#### LightGBM\n",
    "- `boosting_type`: 부스팅에 사용할 기본 모델 (default: gbdt)\n",
    "  - `gbdt`: Gradient Boosting Decision Tree\n",
    "  - `dart`: Dropouts meet Multiple Additive Regression Trees\n",
    "  - `goss`: Gradient-based One-Side Sampling\n",
    "  - `rf`: Random Forest\n",
    "- `learning_rate`: 부스팅에 사용할 학습률 (default: 0.1)\n",
    "- `n_estimators`: 사용할 예측기 수 (default: 100)\n",
    "- Decision Tree 관련 파라미터\n",
    "    - `max_depth`\n",
    "    - `min_child_weight`\n",
    "    - `num_leaves`\n",
    "    - `subsample`\n",
    "    - `colsample_bytree`\n",
    "    - `res_lambda`\n",
    "    - `res_alpha`\n",
    "- 학습 테스크 파라미터\n",
    "    - `objective`: 부스팅에 사용할 손실함수\n",
    "    - `eval_metric`: 검증에 사용하는함수 정의\n",
    "    - `eval_set`: 검증 데이터셋"
   ]
  },
  {
   "cell_type": "code",
   "execution_count": null,
   "id": "90060b9d",
   "metadata": {},
   "outputs": [],
   "source": [
    "!pip install lightgbm"
   ]
  },
  {
   "cell_type": "code",
   "execution_count": 23,
   "id": "1321c4ce",
   "metadata": {},
   "outputs": [],
   "source": [
    "from lightgbm import LGBMClassifier"
   ]
  },
  {
   "cell_type": "code",
   "execution_count": 24,
   "id": "35d58399",
   "metadata": {},
   "outputs": [],
   "source": [
    "lgbm_clf1 = LGBMClassifier(random_state=0)\n",
    "lgbm_clf2 = LGBMClassifier(learning_rate=0.3, n_estimators=200,\n",
    "                           early_stopping_rounds=30, random_state=0)"
   ]
  },
  {
   "cell_type": "code",
   "execution_count": 25,
   "id": "b1be8159",
   "metadata": {},
   "outputs": [
    {
     "name": "stdout",
     "output_type": "stream",
     "text": [
      "[1]\tvalid_0's binary_logloss: 0.572011\n",
      "[2]\tvalid_0's binary_logloss: 0.510866\n",
      "[3]\tvalid_0's binary_logloss: 0.481122\n",
      "[4]\tvalid_0's binary_logloss: 0.463911\n",
      "[5]\tvalid_0's binary_logloss: 0.457126\n",
      "[6]\tvalid_0's binary_logloss: 0.453414\n",
      "[7]\tvalid_0's binary_logloss: 0.451973\n",
      "[8]\tvalid_0's binary_logloss: 0.44606\n",
      "[9]\tvalid_0's binary_logloss: 0.455186\n",
      "[10]\tvalid_0's binary_logloss: 0.452561\n",
      "[11]\tvalid_0's binary_logloss: 0.459888\n",
      "[12]\tvalid_0's binary_logloss: 0.460494\n",
      "[13]\tvalid_0's binary_logloss: 0.461906\n",
      "[14]\tvalid_0's binary_logloss: 0.468642\n",
      "[15]\tvalid_0's binary_logloss: 0.475631\n",
      "[16]\tvalid_0's binary_logloss: 0.486172\n",
      "[17]\tvalid_0's binary_logloss: 0.488036\n",
      "[18]\tvalid_0's binary_logloss: 0.489016\n",
      "[19]\tvalid_0's binary_logloss: 0.492068\n",
      "[20]\tvalid_0's binary_logloss: 0.496865\n",
      "[21]\tvalid_0's binary_logloss: 0.502909\n",
      "[22]\tvalid_0's binary_logloss: 0.505333\n",
      "[23]\tvalid_0's binary_logloss: 0.508246\n",
      "[24]\tvalid_0's binary_logloss: 0.510548\n",
      "[25]\tvalid_0's binary_logloss: 0.511735\n",
      "[26]\tvalid_0's binary_logloss: 0.519319\n",
      "[27]\tvalid_0's binary_logloss: 0.523447\n",
      "[28]\tvalid_0's binary_logloss: 0.530249\n",
      "[29]\tvalid_0's binary_logloss: 0.531974\n",
      "[30]\tvalid_0's binary_logloss: 0.538568\n",
      "[31]\tvalid_0's binary_logloss: 0.540388\n",
      "[32]\tvalid_0's binary_logloss: 0.551114\n",
      "[33]\tvalid_0's binary_logloss: 0.55683\n",
      "[34]\tvalid_0's binary_logloss: 0.557867\n",
      "[35]\tvalid_0's binary_logloss: 0.561373\n",
      "[36]\tvalid_0's binary_logloss: 0.561031\n",
      "[37]\tvalid_0's binary_logloss: 0.566273\n",
      "[38]\tvalid_0's binary_logloss: 0.56972\n"
     ]
    },
    {
     "data": {
      "text/html": [
       "<style>#sk-container-id-5 {color: black;background-color: white;}#sk-container-id-5 pre{padding: 0;}#sk-container-id-5 div.sk-toggleable {background-color: white;}#sk-container-id-5 label.sk-toggleable__label {cursor: pointer;display: block;width: 100%;margin-bottom: 0;padding: 0.3em;box-sizing: border-box;text-align: center;}#sk-container-id-5 label.sk-toggleable__label-arrow:before {content: \"▸\";float: left;margin-right: 0.25em;color: #696969;}#sk-container-id-5 label.sk-toggleable__label-arrow:hover:before {color: black;}#sk-container-id-5 div.sk-estimator:hover label.sk-toggleable__label-arrow:before {color: black;}#sk-container-id-5 div.sk-toggleable__content {max-height: 0;max-width: 0;overflow: hidden;text-align: left;background-color: #f0f8ff;}#sk-container-id-5 div.sk-toggleable__content pre {margin: 0.2em;color: black;border-radius: 0.25em;background-color: #f0f8ff;}#sk-container-id-5 input.sk-toggleable__control:checked~div.sk-toggleable__content {max-height: 200px;max-width: 100%;overflow: auto;}#sk-container-id-5 input.sk-toggleable__control:checked~label.sk-toggleable__label-arrow:before {content: \"▾\";}#sk-container-id-5 div.sk-estimator input.sk-toggleable__control:checked~label.sk-toggleable__label {background-color: #d4ebff;}#sk-container-id-5 div.sk-label input.sk-toggleable__control:checked~label.sk-toggleable__label {background-color: #d4ebff;}#sk-container-id-5 input.sk-hidden--visually {border: 0;clip: rect(1px 1px 1px 1px);clip: rect(1px, 1px, 1px, 1px);height: 1px;margin: -1px;overflow: hidden;padding: 0;position: absolute;width: 1px;}#sk-container-id-5 div.sk-estimator {font-family: monospace;background-color: #f0f8ff;border: 1px dotted black;border-radius: 0.25em;box-sizing: border-box;margin-bottom: 0.5em;}#sk-container-id-5 div.sk-estimator:hover {background-color: #d4ebff;}#sk-container-id-5 div.sk-parallel-item::after {content: \"\";width: 100%;border-bottom: 1px solid gray;flex-grow: 1;}#sk-container-id-5 div.sk-label:hover label.sk-toggleable__label {background-color: #d4ebff;}#sk-container-id-5 div.sk-serial::before {content: \"\";position: absolute;border-left: 1px solid gray;box-sizing: border-box;top: 0;bottom: 0;left: 50%;z-index: 0;}#sk-container-id-5 div.sk-serial {display: flex;flex-direction: column;align-items: center;background-color: white;padding-right: 0.2em;padding-left: 0.2em;position: relative;}#sk-container-id-5 div.sk-item {position: relative;z-index: 1;}#sk-container-id-5 div.sk-parallel {display: flex;align-items: stretch;justify-content: center;background-color: white;position: relative;}#sk-container-id-5 div.sk-item::before, #sk-container-id-5 div.sk-parallel-item::before {content: \"\";position: absolute;border-left: 1px solid gray;box-sizing: border-box;top: 0;bottom: 0;left: 50%;z-index: -1;}#sk-container-id-5 div.sk-parallel-item {display: flex;flex-direction: column;z-index: 1;position: relative;background-color: white;}#sk-container-id-5 div.sk-parallel-item:first-child::after {align-self: flex-end;width: 50%;}#sk-container-id-5 div.sk-parallel-item:last-child::after {align-self: flex-start;width: 50%;}#sk-container-id-5 div.sk-parallel-item:only-child::after {width: 0;}#sk-container-id-5 div.sk-dashed-wrapped {border: 1px dashed gray;margin: 0 0.4em 0.5em 0.4em;box-sizing: border-box;padding-bottom: 0.4em;background-color: white;}#sk-container-id-5 div.sk-label label {font-family: monospace;font-weight: bold;display: inline-block;line-height: 1.2em;}#sk-container-id-5 div.sk-label-container {text-align: center;}#sk-container-id-5 div.sk-container {/* jupyter's `normalize.less` sets `[hidden] { display: none; }` but bootstrap.min.css set `[hidden] { display: none !important; }` so we also need the `!important` here to be able to override the default hidden behavior on the sphinx rendered scikit-learn.org. See: https://github.com/scikit-learn/scikit-learn/issues/21755 */display: inline-block !important;position: relative;}#sk-container-id-5 div.sk-text-repr-fallback {display: none;}</style><div id=\"sk-container-id-5\" class=\"sk-top-container\"><div class=\"sk-text-repr-fallback\"><pre>LGBMClassifier(early_stopping_rounds=30, learning_rate=0.3, n_estimators=200,\n",
       "               random_state=0)</pre><b>In a Jupyter environment, please rerun this cell to show the HTML representation or trust the notebook. <br />On GitHub, the HTML representation is unable to render, please try loading this page with nbviewer.org.</b></div><div class=\"sk-container\" hidden><div class=\"sk-item\"><div class=\"sk-estimator sk-toggleable\"><input class=\"sk-toggleable__control sk-hidden--visually\" id=\"sk-estimator-id-7\" type=\"checkbox\" checked><label for=\"sk-estimator-id-7\" class=\"sk-toggleable__label sk-toggleable__label-arrow\">LGBMClassifier</label><div class=\"sk-toggleable__content\"><pre>LGBMClassifier(early_stopping_rounds=30, learning_rate=0.3, n_estimators=200,\n",
       "               random_state=0)</pre></div></div></div></div></div>"
      ],
      "text/plain": [
       "LGBMClassifier(early_stopping_rounds=30, learning_rate=0.3, n_estimators=200,\n",
       "               random_state=0)"
      ]
     },
     "execution_count": 25,
     "metadata": {},
     "output_type": "execute_result"
    }
   ],
   "source": [
    "lgbm_clf1.fit(X_train, y_train)\n",
    "lgbm_clf2.fit(X_train1, y_train1, eval_set=[(X_val, y_val)])"
   ]
  },
  {
   "cell_type": "code",
   "execution_count": 26,
   "id": "f0d5ad5a",
   "metadata": {},
   "outputs": [
    {
     "name": "stdout",
     "output_type": "stream",
     "text": [
      "LGBM 0.6875000000000001\n",
      "LGBM(tuning) 0.6821705426356589\n"
     ]
    }
   ],
   "source": [
    "pred1 = lgbm_clf1.predict(X_test)\n",
    "pred2 = lgbm_clf2.predict(X_test)\n",
    "\n",
    "print('LGBM', f1_score(y_test, pred1))\n",
    "print('LGBM(tuning)', f1_score(y_test, pred2))"
   ]
  },
  {
   "cell_type": "markdown",
   "id": "03e98de9",
   "metadata": {},
   "source": [
    "#### CatBoost"
   ]
  },
  {
   "cell_type": "code",
   "execution_count": null,
   "id": "31e72937",
   "metadata": {},
   "outputs": [],
   "source": [
    "!pip install catboost"
   ]
  },
  {
   "cell_type": "code",
   "execution_count": 27,
   "id": "983b6392",
   "metadata": {},
   "outputs": [],
   "source": [
    "from catboost import CatBoostClassifier"
   ]
  },
  {
   "cell_type": "code",
   "execution_count": 28,
   "id": "5d645930",
   "metadata": {},
   "outputs": [
    {
     "name": "stdout",
     "output_type": "stream",
     "text": [
      "CatBoost 0.7089552238805971\n"
     ]
    }
   ],
   "source": [
    "cat_clf = CatBoostClassifier(random_state=0)\n",
    "\n",
    "cat_clf.fit(X_train, y_train, verbose=0)\n",
    "\n",
    "pred1 = cat_clf.predict(X_test)\n",
    "print('CatBoost', f1_score(y_test, pred1))"
   ]
  },
  {
   "cell_type": "markdown",
   "id": "18169985",
   "metadata": {},
   "source": [
    "범주형 변수 입력"
   ]
  },
  {
   "cell_type": "code",
   "execution_count": 29,
   "id": "2f146177",
   "metadata": {},
   "outputs": [
    {
     "data": {
      "text/html": [
       "<div>\n",
       "<style scoped>\n",
       "    .dataframe tbody tr th:only-of-type {\n",
       "        vertical-align: middle;\n",
       "    }\n",
       "\n",
       "    .dataframe tbody tr th {\n",
       "        vertical-align: top;\n",
       "    }\n",
       "\n",
       "    .dataframe thead th {\n",
       "        text-align: right;\n",
       "    }\n",
       "</style>\n",
       "<table border=\"1\" class=\"dataframe\">\n",
       "  <thead>\n",
       "    <tr style=\"text-align: right;\">\n",
       "      <th></th>\n",
       "      <th>pclass</th>\n",
       "      <th>sex</th>\n",
       "      <th>age</th>\n",
       "      <th>sibsp</th>\n",
       "      <th>parch</th>\n",
       "      <th>ticket</th>\n",
       "      <th>fare</th>\n",
       "      <th>cabin</th>\n",
       "      <th>embarked</th>\n",
       "      <th>home.dest</th>\n",
       "    </tr>\n",
       "  </thead>\n",
       "  <tbody>\n",
       "    <tr>\n",
       "      <th>501</th>\n",
       "      <td>2.0</td>\n",
       "      <td>female</td>\n",
       "      <td>13.0</td>\n",
       "      <td>0.0</td>\n",
       "      <td>1.0</td>\n",
       "      <td>250644</td>\n",
       "      <td>19.5000</td>\n",
       "      <td>None</td>\n",
       "      <td>S</td>\n",
       "      <td>England / Bennington, VT</td>\n",
       "    </tr>\n",
       "    <tr>\n",
       "      <th>588</th>\n",
       "      <td>2.0</td>\n",
       "      <td>female</td>\n",
       "      <td>4.0</td>\n",
       "      <td>1.0</td>\n",
       "      <td>1.0</td>\n",
       "      <td>29103</td>\n",
       "      <td>23.0000</td>\n",
       "      <td>None</td>\n",
       "      <td>S</td>\n",
       "      <td>Cornwall / Akron, OH</td>\n",
       "    </tr>\n",
       "    <tr>\n",
       "      <th>402</th>\n",
       "      <td>2.0</td>\n",
       "      <td>female</td>\n",
       "      <td>30.0</td>\n",
       "      <td>1.0</td>\n",
       "      <td>0.0</td>\n",
       "      <td>SC/PARIS 2148</td>\n",
       "      <td>13.8583</td>\n",
       "      <td>None</td>\n",
       "      <td>C</td>\n",
       "      <td>Barcelona, Spain / Havana, Cuba</td>\n",
       "    </tr>\n",
       "  </tbody>\n",
       "</table>\n",
       "</div>"
      ],
      "text/plain": [
       "     pclass     sex   age  sibsp  parch         ticket     fare cabin  \\\n",
       "501     2.0  female  13.0    0.0    1.0         250644  19.5000  None   \n",
       "588     2.0  female   4.0    1.0    1.0          29103  23.0000  None   \n",
       "402     2.0  female  30.0    1.0    0.0  SC/PARIS 2148  13.8583  None   \n",
       "\n",
       "    embarked                        home.dest  \n",
       "501        S         England / Bennington, VT  \n",
       "588        S             Cornwall / Akron, OH  \n",
       "402        C  Barcelona, Spain / Havana, Cuba  "
      ]
     },
     "execution_count": 29,
     "metadata": {},
     "output_type": "execute_result"
    }
   ],
   "source": [
    "X_train, X_test, y_train, y_test = train_test_split(X, y, test_size=.3, random_state=0)\n",
    "\n",
    "X_train.head(3)"
   ]
  },
  {
   "cell_type": "code",
   "execution_count": 30,
   "id": "2f5c1504",
   "metadata": {},
   "outputs": [],
   "source": [
    "# 결측치 처리\n",
    "X_train['age'] = X_train.age.fillna(X_train.age.mean())\n",
    "X_train['cabin'] = X_train.cabin.fillna(X_train.cabin.mode()[0])\n",
    "X_train['embarked'] = X_train.embarked.fillna(X_train.embarked.mode()[0])\n",
    "X_train['home.dest'] = X_train['home.dest'].fillna('결측치')\n",
    "\n",
    "X_test['age'] = X_test.age.fillna(X_train.age.mean())\n",
    "X_test['fare'] = X_test.fare.fillna(X_train.fare.mean())\n",
    "X_test['cabin'] = X_test.cabin.fillna(X_train.cabin.mode()[0])\n",
    "X_test['embarked'] = X_test.embarked.fillna(X_train.embarked.mode()[0])\n",
    "X_test['home.dest'] = X_test['home.dest'].fillna('결측치')"
   ]
  },
  {
   "cell_type": "code",
   "execution_count": 31,
   "id": "c0d8b996",
   "metadata": {},
   "outputs": [
    {
     "name": "stdout",
     "output_type": "stream",
     "text": [
      "<class 'pandas.core.frame.DataFrame'>\n",
      "Int64Index: 916 entries, 501 to 684\n",
      "Data columns (total 10 columns):\n",
      " #   Column     Non-Null Count  Dtype   \n",
      "---  ------     --------------  -----   \n",
      " 0   pclass     916 non-null    float64 \n",
      " 1   sex        916 non-null    category\n",
      " 2   age        916 non-null    float64 \n",
      " 3   sibsp      916 non-null    float64 \n",
      " 4   parch      916 non-null    float64 \n",
      " 5   ticket     916 non-null    object  \n",
      " 6   fare       916 non-null    float64 \n",
      " 7   cabin      916 non-null    object  \n",
      " 8   embarked   916 non-null    category\n",
      " 9   home.dest  916 non-null    object  \n",
      "dtypes: category(2), float64(5), object(3)\n",
      "memory usage: 66.4+ KB\n"
     ]
    }
   ],
   "source": [
    "X_train.info()"
   ]
  },
  {
   "cell_type": "code",
   "execution_count": 32,
   "id": "2a126b6c",
   "metadata": {},
   "outputs": [
    {
     "name": "stdout",
     "output_type": "stream",
     "text": [
      "CatBoost 0.739622641509434\n"
     ]
    }
   ],
   "source": [
    "cat_clf = CatBoostClassifier(random_state=0, cat_features=['sex', 'ticket', 'cabin', 'embarked', 'home.dest'])\n",
    "\n",
    "cat_clf.fit(X_train, y_train, verbose=0)\n",
    "\n",
    "pred1 = cat_clf.predict(X_test)\n",
    "print('CatBoost', f1_score(y_test, pred1))"
   ]
  }
 ],
 "metadata": {
  "kernelspec": {
   "display_name": "Python 3 (ipykernel)",
   "language": "python",
   "name": "python3"
  },
  "language_info": {
   "codemirror_mode": {
    "name": "ipython",
    "version": 3
   },
   "file_extension": ".py",
   "mimetype": "text/x-python",
   "name": "python",
   "nbconvert_exporter": "python",
   "pygments_lexer": "ipython3",
   "version": "3.9.10"
  }
 },
 "nbformat": 4,
 "nbformat_minor": 5
}
