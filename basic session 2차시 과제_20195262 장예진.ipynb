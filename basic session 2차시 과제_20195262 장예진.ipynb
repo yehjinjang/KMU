{
 "cells": [
  {
   "cell_type": "markdown",
   "metadata": {},
   "source": [
    "### Q1. 본인의 이름, 학번, 좋아하는 음식을 value에 넣어 dictionary를 완성시켜 보세요"
   ]
  },
  {
   "cell_type": "code",
   "execution_count": 3,
   "metadata": {
    "scrolled": true
   },
   "outputs": [
    {
     "data": {
      "text/plain": [
       "{'이름': '장예진', '학번': '20195262', '음식': '삼겹살'}"
      ]
     },
     "execution_count": 3,
     "metadata": {},
     "output_type": "execute_result"
    }
   ],
   "source": [
    "info = {\"이름\" : \"장예진\"  , \"학번\" : \"20195262\", \"음식\" : \"삼겹살\" }\n",
    "info"
   ]
  },
  {
   "cell_type": "markdown",
   "metadata": {},
   "source": [
    "### Q2. 1번에서 만든 dictionary에서 좋아하는 음식(value)를 key를 사용해 출력해보세요"
   ]
  },
  {
   "cell_type": "code",
   "execution_count": 24,
   "metadata": {},
   "outputs": [
    {
     "name": "stdout",
     "output_type": "stream",
     "text": [
      "삼겹살\n"
     ]
    }
   ],
   "source": [
    "print(info['음식'])"
   ]
  },
  {
   "cell_type": "markdown",
   "metadata": {},
   "source": [
    "### Q3. 다음 a라는 리스트에서 중복된 요소가 제거된 리스트를 만들어 출력해보세요"
   ]
  },
  {
   "cell_type": "code",
   "execution_count": 8,
   "metadata": {},
   "outputs": [
    {
     "name": "stdout",
     "output_type": "stream",
     "text": [
      "[1, 2, 3, 4, 5]\n"
     ]
    }
   ],
   "source": [
    "a = [1, 1, 2, 2, 2, 3, 4, 5, 5]\n",
    "result = list(set(a))\n",
    "print(result)"
   ]
  },
  {
   "cell_type": "markdown",
   "metadata": {},
   "source": [
    "### Q4. 1이라는 한 요소가 담긴 튜플을 만들어 출력해보세요"
   ]
  },
  {
   "cell_type": "code",
   "execution_count": 10,
   "metadata": {},
   "outputs": [
    {
     "name": "stdout",
     "output_type": "stream",
     "text": [
      "(1,)\n"
     ]
    }
   ],
   "source": [
    "tu_ple = 1,    \n",
    "print(tu_ple)"
   ]
  },
  {
   "cell_type": "markdown",
   "metadata": {},
   "source": [
    "### Q5. datetime 모듈을 사용해 올해 어린이날부터 크리스마스까지 얼마나 남았나 계산해보세요!"
   ]
  },
  {
   "cell_type": "code",
   "execution_count": 67,
   "metadata": {},
   "outputs": [
    {
     "name": "stdout",
     "output_type": "stream",
     "text": [
      "234 일 남았어요\n",
      "0 초\n",
      "0.0 시간\n"
     ]
    }
   ],
   "source": [
    "import datetime \n",
    "\n",
    "christmas = datetime.date(2022,12,25)\n",
    "kidday = datetime.date (2022,5,5)\n",
    "\n",
    "\n",
    "christmas - kidday\n",
    "print((christmas - kidday).days,\"일 남았어요\")\n",
    "print((christmas - kidday).seconds,\"초\")\n",
    "print((christmas - kidday).seconds / 3600,\"시간\")"
   ]
  },
  {
   "cell_type": "markdown",
   "metadata": {},
   "source": [
    "### Q6. 리스트 문제!"
   ]
  },
  {
   "cell_type": "code",
   "execution_count": 59,
   "metadata": {},
   "outputs": [],
   "source": [
    "listt = [20, 120, 50, 70, 40, 90, 50, 80, 60]"
   ]
  },
  {
   "cell_type": "markdown",
   "metadata": {},
   "source": [
    "(1)\n",
    "listt에서 60을 제거하세요"
   ]
  },
  {
   "cell_type": "code",
   "execution_count": 60,
   "metadata": {},
   "outputs": [
    {
     "data": {
      "text/plain": [
       "[20, 120, 50, 70, 40, 90, 50, 80]"
      ]
     },
     "execution_count": 60,
     "metadata": {},
     "output_type": "execute_result"
    }
   ],
   "source": [
    "listt.pop()\n",
    "listt"
   ]
  },
  {
   "cell_type": "markdown",
   "metadata": {},
   "source": [
    "(2)\n",
    "listt의 앞 네 요소를 출력하세요"
   ]
  },
  {
   "cell_type": "code",
   "execution_count": 68,
   "metadata": {},
   "outputs": [
    {
     "data": {
      "text/plain": [
       "[20, 120, 50]"
      ]
     },
     "execution_count": 68,
     "metadata": {},
     "output_type": "execute_result"
    }
   ],
   "source": [
    "listt[:3]"
   ]
  },
  {
   "cell_type": "markdown",
   "metadata": {},
   "source": [
    "(3)\n",
    "listt를 요소의 크기를 기준으로 정렬하세요"
   ]
  },
  {
   "cell_type": "code",
   "execution_count": 21,
   "metadata": {},
   "outputs": [
    {
     "data": {
      "text/plain": [
       "[20, 40, 50, 50, 70, 80, 90, 120]"
      ]
     },
     "execution_count": 21,
     "metadata": {},
     "output_type": "execute_result"
    }
   ],
   "source": [
    "listt.sort()\n",
    "listt"
   ]
  },
  {
   "cell_type": "markdown",
   "metadata": {},
   "source": [
    "(4)\n",
    "listt의 맨 마지막 요소를 출력하세요"
   ]
  },
  {
   "cell_type": "code",
   "execution_count": 87,
   "metadata": {},
   "outputs": [
    {
     "data": {
      "text/plain": [
       "80"
      ]
     },
     "execution_count": 87,
     "metadata": {},
     "output_type": "execute_result"
    }
   ],
   "source": [
    "listt[-1]"
   ]
  },
  {
   "cell_type": "markdown",
   "metadata": {},
   "source": [
    "(5)\n",
    "listt의 요소를 모두 삭제한 후 리스트를 출력하세요"
   ]
  },
  {
   "cell_type": "code",
   "execution_count": 88,
   "metadata": {},
   "outputs": [
    {
     "name": "stdout",
     "output_type": "stream",
     "text": [
      "None\n"
     ]
    }
   ],
   "source": [
    "print(listt.clear())"
   ]
  },
  {
   "cell_type": "markdown",
   "metadata": {},
   "source": [
    "(6) listt를 삭제하세요 (삭제 후 삭제가 되었나 출력까지 해보기)"
   ]
  },
  {
   "cell_type": "code",
   "execution_count": 89,
   "metadata": {},
   "outputs": [],
   "source": [
    "del listt"
   ]
  },
  {
   "cell_type": "code",
   "execution_count": 90,
   "metadata": {},
   "outputs": [
    {
     "ename": "NameError",
     "evalue": "name 'listt' is not defined",
     "output_type": "error",
     "traceback": [
      "\u001b[1;31m---------------------------------------------------------------------------\u001b[0m",
      "\u001b[1;31mNameError\u001b[0m                                 Traceback (most recent call last)",
      "\u001b[1;32m<ipython-input-90-c8aedf1d3a49>\u001b[0m in \u001b[0;36m<module>\u001b[1;34m\u001b[0m\n\u001b[1;32m----> 1\u001b[1;33m \u001b[0mlistt\u001b[0m\u001b[1;33m\u001b[0m\u001b[1;33m\u001b[0m\u001b[0m\n\u001b[0m",
      "\u001b[1;31mNameError\u001b[0m: name 'listt' is not defined"
     ]
    }
   ],
   "source": [
    "listt"
   ]
  },
  {
   "cell_type": "markdown",
   "metadata": {},
   "source": [
    "### Q7. 다음 두 리스트의 요소들을 동일한 인덱스를 가지는 요소끼리 튜플로 묶어, 이것을 다시 리스트에 담아 출력해보세요"
   ]
  },
  {
   "cell_type": "code",
   "execution_count": 23,
   "metadata": {},
   "outputs": [],
   "source": [
    "player = [\"손흥민\", \"메시\", \"홀란드\", \"네이마르\"]\n",
    "number = [7, 30, 9, 10]"
   ]
  },
  {
   "cell_type": "code",
   "execution_count": 80,
   "metadata": {},
   "outputs": [
    {
     "name": "stdout",
     "output_type": "stream",
     "text": [
      "0 손흥민 7\n",
      "1 메시 30\n",
      "2 홀란드 9\n",
      "3 네이마르 10\n"
     ]
    }
   ],
   "source": [
    "for i, (a,b) in enumerate(zip(player,number)): \n",
    "    \n",
    "    print(i,a,b)"
   ]
  },
  {
   "cell_type": "code",
   "execution_count": 86,
   "metadata": {},
   "outputs": [
    {
     "data": {
      "text/plain": [
       "[('손흥민', 7), ('메시', 30), ('홀란드', 9), ('네이마르', 10)]"
      ]
     },
     "execution_count": 86,
     "metadata": {},
     "output_type": "execute_result"
    }
   ],
   "source": [
    "list(zip(player,number))"
   ]
  },
  {
   "cell_type": "markdown",
   "metadata": {},
   "source": [
    "### Q8. 다음 수의 각 자리수를 변수를 사용하여 더해보세요"
   ]
  },
  {
   "cell_type": "code",
   "execution_count": 69,
   "metadata": {},
   "outputs": [],
   "source": [
    "a = 647"
   ]
  },
  {
   "cell_type": "code",
   "execution_count": 1,
   "metadata": {},
   "outputs": [
    {
     "name": "stdout",
     "output_type": "stream",
     "text": [
      "17\n"
     ]
    }
   ],
   "source": [
    "def sumofDigits(a):\n",
    "    sum = 0\n",
    "    for i in list(str(a)):\n",
    "        sum += int(i)\n",
    "        \n",
    "    return sum \n",
    "\n",
    "print(sumofDigits(647))"
   ]
  },
  {
   "cell_type": "markdown",
   "metadata": {},
   "source": [
    "### Q9. 1번에서 만들었던 dictionary에서 각 value를 가져와 문자열 포매팅을 사용해서 다음 문장을 출력해보세요\n",
    "(ex)\n",
    "\"제 이름은 김띵키이고, 학번은 20124875, 좋아하는 음식은 마라맛 우유입니다.\""
   ]
  },
  {
   "cell_type": "code",
   "execution_count": 92,
   "metadata": {},
   "outputs": [
    {
     "name": "stdout",
     "output_type": "stream",
     "text": [
      "\"제 이름은 김띵키 이고, 학번은 20124875, 좋아하는 음식은 마라맛 우유입니다.\"\n"
     ]
    }
   ],
   "source": [
    "info = {\"이름\" : \"김띵키\"  , \"학번\" : \"20124875\", \"음식\" : \"마라맛우유\" }\n",
    "print('\"제 이름은 {0} 이고, 학번은 {1}, 좋아하는 음식은 {2}입니다.\"'.format('김띵키','20124875','마라맛 우유'))"
   ]
  },
  {
   "cell_type": "markdown",
   "metadata": {},
   "source": [
    "### Q10. 아래 그림을 참고하여 (1)과 (2) 두 수를 사용하여 (3), (4), (5), (6)의 값을 출력하시오. [10점]\n",
    "\n",
    "(총 4개의 값이 출력되어 있어야 함)"
   ]
  },
  {
   "cell_type": "markdown",
   "metadata": {},
   "source": [
    "![formula](formula.png)"
   ]
  },
  {
   "cell_type": "code",
   "execution_count": 96,
   "metadata": {},
   "outputs": [
    {
     "name": "stdout",
     "output_type": "stream",
     "text": [
      "2360\n",
      "3776\n",
      "1416\n",
      "181720\n"
     ]
    }
   ],
   "source": [
    "a = 472\n",
    "b = 385\n",
    "\n",
    "#백의자리\n",
    "hundred = int(b/100)\n",
    "\n",
    "#십의 자리\n",
    "ten =int((b%100)/10)\n",
    "\n",
    "#일의 자리\n",
    "one= int(b%10)\n",
    "\n",
    "print(a*one)\n",
    "print(a*ten)\n",
    "print(a*hundred)\n",
    "\n",
    "print(a*b)"
   ]
  }
 ],
 "metadata": {
  "kernelspec": {
   "display_name": "Python 3",
   "language": "python",
   "name": "python3"
  },
  "language_info": {
   "codemirror_mode": {
    "name": "ipython",
    "version": 3
   },
   "file_extension": ".py",
   "mimetype": "text/x-python",
   "name": "python",
   "nbconvert_exporter": "python",
   "pygments_lexer": "ipython3",
   "version": "3.8.5"
  }
 },
 "nbformat": 4,
 "nbformat_minor": 5
}
