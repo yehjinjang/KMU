{
 "cells": [
  {
   "cell_type": "markdown",
   "metadata": {},
   "source": [
    "<font color='tomato'><font color=\"#CC3D3D\"><p>\n",
    "# Regression with scikit-learn"
   ]
  },
  {
   "cell_type": "markdown",
   "metadata": {},
   "source": [
    "#### 자주 사용하는 사이킷런 모듈\n",
    "- 데이터 정제(Data Cleasing) & 속성 공학(Feature Engineering)\n",
    "    - sklearn.preprocessing: 데이터 전처리(인코딩, 정규화 등)\n",
    "    - sklearn.feature_selection: 속성선택\n",
    "    - sklearn.feature_extraction: 속성추출(이미지나 텍스트에서 속성 추출)\n",
    "- 모형 성능 평가와 개선\n",
    "    - sklearn.model_selection: 데이터 분리, 검증 및 파라미터 튜닝(GridSearch 등)\n",
    "    - sklearn.metrics: 성능평가(Recall, Precision, AUC 등)\n",
    "- 지도학습(Supervised Learning) 알고리즘\n",
    "    - sklearn.ensemble: 앙상블 알고리즘(RF, AdaBoost 등)\n",
    "    - sklearn.linear_model: 선형모델(선형회귀, 로지스틱회귀 등) \n",
    "    - sklearn.svm: Support Vector Machines (SVM)\n",
    "    - sklearn.tree: 의사결정나무(Decision Trees)\n",
    "- 비지도학습(Unsupervised Learning) 알고리즘\n",
    "    - sklearn.cluster: 군집분석(K-means, DBSCAN 등)\n",
    "    - sklearn.decomposition: 차원축소(PCA, SVD 등)\n",
    "- 유틸리티와 데이터 세트 \n",
    "    - sklearn.pipeline: 워크플로우 효율화\n",
    "    - sklearn.datasets: 예제 데이터 세트(iris, digits 데이터 등) \n",
    "    \n",
    "#### 사이킷런 기반 머신러닝 프레임워크    \n",
    "- 사이킷런에서는 분류 알고리즘을 구현한 클래스를 **Classifier**로, 회귀 알고리즘을 구현한 클래스를 **Regressor**로 지칭\n",
    "    - Ex) DecisionTreeClassifier(분류문제에 사용하는 의사결정나무) vs. DecisionTreeRegressor(회귀문제에 사용하는 의사결정나무)\n",
    "- Classifier와 Regressor를 합쳐서 **Estimator** 클래스라고 함\n",
    "    - ML 학습을 위해 fit()을, 예측을 위해 predict()를 제공    "
   ]
  },
  {
   "cell_type": "raw",
   "metadata": {},
   "source": [
    "#전체적인 machine learning framework \n",
    "\\모델링 preprocessor \n",
    "\\전처리 modeling \n",
    "\\학습 fitting \n",
    "\\예측 predict, predict_proba "
   ]
  },
  {
   "cell_type": "code",
   "execution_count": 1,
   "metadata": {},
   "outputs": [
    {
     "data": {
      "text/plain": [
       "'1.1.3'"
      ]
     },
     "execution_count": 1,
     "metadata": {},
     "output_type": "execute_result"
    }
   ],
   "source": [
    "import sklearn\n",
    "sklearn.__version__"
   ]
  },
  {
   "cell_type": "markdown",
   "metadata": {},
   "source": [
    "#### 데이터 준비"
   ]
  },
  {
   "cell_type": "code",
   "execution_count": 2,
   "metadata": {},
   "outputs": [],
   "source": [
    "from sklearn import datasets"
   ]
  },
  {
   "cell_type": "code",
   "execution_count": 3,
   "metadata": {},
   "outputs": [
    {
     "name": "stderr",
     "output_type": "stream",
     "text": [
      "C:\\Users\\shj06\\anaconda3\\lib\\site-packages\\sklearn\\utils\\deprecation.py:87: FutureWarning: Function load_boston is deprecated; `load_boston` is deprecated in 1.0 and will be removed in 1.2.\n",
      "\n",
      "    The Boston housing prices dataset has an ethical problem. You can refer to\n",
      "    the documentation of this function for further details.\n",
      "\n",
      "    The scikit-learn maintainers therefore strongly discourage the use of this\n",
      "    dataset unless the purpose of the code is to study and educate about\n",
      "    ethical issues in data science and machine learning.\n",
      "\n",
      "    In this special case, you can fetch the dataset from the original\n",
      "    source::\n",
      "\n",
      "        import pandas as pd\n",
      "        import numpy as np\n",
      "\n",
      "        data_url = \"http://lib.stat.cmu.edu/datasets/boston\"\n",
      "        raw_df = pd.read_csv(data_url, sep=\"\\s+\", skiprows=22, header=None)\n",
      "        data = np.hstack([raw_df.values[::2, :], raw_df.values[1::2, :2]])\n",
      "        target = raw_df.values[1::2, 2]\n",
      "\n",
      "    Alternative datasets include the California housing dataset (i.e.\n",
      "    :func:`~sklearn.datasets.fetch_california_housing`) and the Ames housing\n",
      "    dataset. You can load the datasets as follows::\n",
      "\n",
      "        from sklearn.datasets import fetch_california_housing\n",
      "        housing = fetch_california_housing()\n",
      "\n",
      "    for the California housing dataset and::\n",
      "\n",
      "        from sklearn.datasets import fetch_openml\n",
      "        housing = fetch_openml(name=\"house_prices\", as_frame=True)\n",
      "\n",
      "    for the Ames housing dataset.\n",
      "  warnings.warn(msg, category=FutureWarning)\n"
     ]
    }
   ],
   "source": [
    "boston = datasets.load_boston()"
   ]
  },
  {
   "cell_type": "code",
   "execution_count": 7,
   "metadata": {},
   "outputs": [],
   "source": [
    "X =  boston.data\n",
    "y = boston.target"
   ]
  },
  {
   "cell_type": "code",
   "execution_count": 8,
   "metadata": {},
   "outputs": [
    {
     "data": {
      "text/plain": [
       "array([[6.3200e-03, 1.8000e+01, 2.3100e+00, ..., 1.5300e+01, 3.9690e+02,\n",
       "        4.9800e+00],\n",
       "       [2.7310e-02, 0.0000e+00, 7.0700e+00, ..., 1.7800e+01, 3.9690e+02,\n",
       "        9.1400e+00],\n",
       "       [2.7290e-02, 0.0000e+00, 7.0700e+00, ..., 1.7800e+01, 3.9283e+02,\n",
       "        4.0300e+00],\n",
       "       ...,\n",
       "       [6.0760e-02, 0.0000e+00, 1.1930e+01, ..., 2.1000e+01, 3.9690e+02,\n",
       "        5.6400e+00],\n",
       "       [1.0959e-01, 0.0000e+00, 1.1930e+01, ..., 2.1000e+01, 3.9345e+02,\n",
       "        6.4800e+00],\n",
       "       [4.7410e-02, 0.0000e+00, 1.1930e+01, ..., 2.1000e+01, 3.9690e+02,\n",
       "        7.8800e+00]])"
      ]
     },
     "execution_count": 8,
     "metadata": {},
     "output_type": "execute_result"
    }
   ],
   "source": [
    "X"
   ]
  },
  {
   "cell_type": "code",
   "execution_count": 9,
   "metadata": {},
   "outputs": [
    {
     "name": "stdout",
     "output_type": "stream",
     "text": [
      "(506, 13)\n",
      "['CRIM' 'ZN' 'INDUS' 'CHAS' 'NOX' 'RM' 'AGE' 'DIS' 'RAD' 'TAX' 'PTRATIO'\n",
      " 'B' 'LSTAT']\n"
     ]
    }
   ],
   "source": [
    "print(X.shape)\n",
    "print(boston.feature_names)"
   ]
  },
  {
   "cell_type": "markdown",
   "metadata": {},
   "source": [
    "보스턴 주택 가격 데이터: 506개 타운의 주택 가격 중앙값 (단위 1,000 달러)\n",
    " - CRIM: 범죄율\n",
    " - ZN: 25,000 평방피트를 초과 거주지역 비율\n",
    " - INDUS: 비소매상업지역 면적 비율\n",
    " - CHAS: 찰스강의 경계에 위치한 경우는 1, 아니면 0\n",
    " - NOX: 일산화질소 농도\n",
    " - RM: 주택당 방 수\n",
    " - AGE: 1940년 이전에 건축된 주택의 비율\n",
    " - DIS: 직업센터의 거리\n",
    " - RAD: 방사형 고속도로까지의 거리\n",
    " - TAX: 재산세율\n",
    " - PTRATIO: 학생/교사 비율\n",
    " - B: 인구 중 흑인 비율\n",
    " - LSTAT: 인구 중 하위 계층 비율"
   ]
  },
  {
   "cell_type": "markdown",
   "metadata": {},
   "source": [
    "#### 데이터 분할"
   ]
  },
  {
   "cell_type": "code",
   "execution_count": 10,
   "metadata": {},
   "outputs": [],
   "source": [
    "from sklearn.model_selection import train_test_split"
   ]
  },
  {
   "cell_type": "code",
   "execution_count": 11,
   "metadata": {},
   "outputs": [],
   "source": [
    "X_train, X_test, y_train, y_test = train_test_split(X, y, test_size=0.3, random_state=0)"
   ]
  },
  {
   "cell_type": "markdown",
   "metadata": {},
   "source": [
    "#### 모형 생성 - 선형회귀분석"
   ]
  },
  {
   "cell_type": "code",
   "execution_count": 12,
   "metadata": {},
   "outputs": [],
   "source": [
    "from sklearn.linear_model import LinearRegression #모델 불러오기"
   ]
  },
  {
   "cell_type": "code",
   "execution_count": 13,
   "metadata": {},
   "outputs": [],
   "source": [
    "model = LinearRegression() #linear regression 선형회귀모형 \n",
    "#logistic regressor 은 분류문제에서만 씀(classifier)\n",
    "#모델 호출 "
   ]
  },
  {
   "cell_type": "code",
   "execution_count": 14,
   "metadata": {},
   "outputs": [
    {
     "data": {
      "text/html": [
       "<style>#sk-container-id-1 {color: black;background-color: white;}#sk-container-id-1 pre{padding: 0;}#sk-container-id-1 div.sk-toggleable {background-color: white;}#sk-container-id-1 label.sk-toggleable__label {cursor: pointer;display: block;width: 100%;margin-bottom: 0;padding: 0.3em;box-sizing: border-box;text-align: center;}#sk-container-id-1 label.sk-toggleable__label-arrow:before {content: \"▸\";float: left;margin-right: 0.25em;color: #696969;}#sk-container-id-1 label.sk-toggleable__label-arrow:hover:before {color: black;}#sk-container-id-1 div.sk-estimator:hover label.sk-toggleable__label-arrow:before {color: black;}#sk-container-id-1 div.sk-toggleable__content {max-height: 0;max-width: 0;overflow: hidden;text-align: left;background-color: #f0f8ff;}#sk-container-id-1 div.sk-toggleable__content pre {margin: 0.2em;color: black;border-radius: 0.25em;background-color: #f0f8ff;}#sk-container-id-1 input.sk-toggleable__control:checked~div.sk-toggleable__content {max-height: 200px;max-width: 100%;overflow: auto;}#sk-container-id-1 input.sk-toggleable__control:checked~label.sk-toggleable__label-arrow:before {content: \"▾\";}#sk-container-id-1 div.sk-estimator input.sk-toggleable__control:checked~label.sk-toggleable__label {background-color: #d4ebff;}#sk-container-id-1 div.sk-label input.sk-toggleable__control:checked~label.sk-toggleable__label {background-color: #d4ebff;}#sk-container-id-1 input.sk-hidden--visually {border: 0;clip: rect(1px 1px 1px 1px);clip: rect(1px, 1px, 1px, 1px);height: 1px;margin: -1px;overflow: hidden;padding: 0;position: absolute;width: 1px;}#sk-container-id-1 div.sk-estimator {font-family: monospace;background-color: #f0f8ff;border: 1px dotted black;border-radius: 0.25em;box-sizing: border-box;margin-bottom: 0.5em;}#sk-container-id-1 div.sk-estimator:hover {background-color: #d4ebff;}#sk-container-id-1 div.sk-parallel-item::after {content: \"\";width: 100%;border-bottom: 1px solid gray;flex-grow: 1;}#sk-container-id-1 div.sk-label:hover label.sk-toggleable__label {background-color: #d4ebff;}#sk-container-id-1 div.sk-serial::before {content: \"\";position: absolute;border-left: 1px solid gray;box-sizing: border-box;top: 0;bottom: 0;left: 50%;z-index: 0;}#sk-container-id-1 div.sk-serial {display: flex;flex-direction: column;align-items: center;background-color: white;padding-right: 0.2em;padding-left: 0.2em;position: relative;}#sk-container-id-1 div.sk-item {position: relative;z-index: 1;}#sk-container-id-1 div.sk-parallel {display: flex;align-items: stretch;justify-content: center;background-color: white;position: relative;}#sk-container-id-1 div.sk-item::before, #sk-container-id-1 div.sk-parallel-item::before {content: \"\";position: absolute;border-left: 1px solid gray;box-sizing: border-box;top: 0;bottom: 0;left: 50%;z-index: -1;}#sk-container-id-1 div.sk-parallel-item {display: flex;flex-direction: column;z-index: 1;position: relative;background-color: white;}#sk-container-id-1 div.sk-parallel-item:first-child::after {align-self: flex-end;width: 50%;}#sk-container-id-1 div.sk-parallel-item:last-child::after {align-self: flex-start;width: 50%;}#sk-container-id-1 div.sk-parallel-item:only-child::after {width: 0;}#sk-container-id-1 div.sk-dashed-wrapped {border: 1px dashed gray;margin: 0 0.4em 0.5em 0.4em;box-sizing: border-box;padding-bottom: 0.4em;background-color: white;}#sk-container-id-1 div.sk-label label {font-family: monospace;font-weight: bold;display: inline-block;line-height: 1.2em;}#sk-container-id-1 div.sk-label-container {text-align: center;}#sk-container-id-1 div.sk-container {/* jupyter's `normalize.less` sets `[hidden] { display: none; }` but bootstrap.min.css set `[hidden] { display: none !important; }` so we also need the `!important` here to be able to override the default hidden behavior on the sphinx rendered scikit-learn.org. See: https://github.com/scikit-learn/scikit-learn/issues/21755 */display: inline-block !important;position: relative;}#sk-container-id-1 div.sk-text-repr-fallback {display: none;}</style><div id=\"sk-container-id-1\" class=\"sk-top-container\"><div class=\"sk-text-repr-fallback\"><pre>LinearRegression()</pre><b>In a Jupyter environment, please rerun this cell to show the HTML representation or trust the notebook. <br />On GitHub, the HTML representation is unable to render, please try loading this page with nbviewer.org.</b></div><div class=\"sk-container\" hidden><div class=\"sk-item\"><div class=\"sk-estimator sk-toggleable\"><input class=\"sk-toggleable__control sk-hidden--visually\" id=\"sk-estimator-id-1\" type=\"checkbox\" checked><label for=\"sk-estimator-id-1\" class=\"sk-toggleable__label sk-toggleable__label-arrow\">LinearRegression</label><div class=\"sk-toggleable__content\"><pre>LinearRegression()</pre></div></div></div></div></div>"
      ],
      "text/plain": [
       "LinearRegression()"
      ]
     },
     "execution_count": 14,
     "metadata": {},
     "output_type": "execute_result"
    }
   ],
   "source": [
    "model.fit(X_train, y_train) #학습데이터를 fitting으로 적용해주기 \n",
    "#회귀문제는 분류문제와 좀 다름"
   ]
  },
  {
   "cell_type": "markdown",
   "metadata": {},
   "source": [
    "#### 모형 검토"
   ]
  },
  {
   "cell_type": "code",
   "execution_count": 15,
   "metadata": {},
   "outputs": [
    {
     "name": "stdout",
     "output_type": "stream",
     "text": [
      "[-1.21310401e-01  4.44664254e-02  1.13416945e-02  2.51124642e+00\n",
      " -1.62312529e+01  3.85906801e+00 -9.98516565e-03 -1.50026956e+00\n",
      "  2.42143466e-01 -1.10716124e-02 -1.01775264e+00  6.81446545e-03\n",
      " -4.86738066e-01]\n",
      "37.937107741833685\n"
     ]
    }
   ],
   "source": [
    "print(model.coef_)\n",
    "print(model.intercept_)"
   ]
  },
  {
   "cell_type": "markdown",
   "metadata": {},
   "source": [
    "#### 모형 평가"
   ]
  },
  {
   "cell_type": "code",
   "execution_count": 16,
   "metadata": {},
   "outputs": [
    {
     "data": {
      "text/plain": [
       "0.6733825506400172"
      ]
     },
     "execution_count": 16,
     "metadata": {},
     "output_type": "execute_result"
    }
   ],
   "source": [
    "model.score(X_test, y_test) # R-square(r2_score)"
   ]
  },
  {
   "cell_type": "raw",
   "metadata": {},
   "source": [
    "#회귀문제에서는 정확한 정답의 개념이 없음 (연속되는 결과이기 때문)\n",
    "#회귀모양이 잘 맞았는지 확인할때 r-square를 사용하기 때문에 성능 확인을 위해서 해당 모형 평가 진행 \n",
    "#r-square는 1에 가까울수록 좋은 것임!! "
   ]
  },
  {
   "cell_type": "markdown",
   "metadata": {},
   "source": [
    "#### 분석결과 시각화"
   ]
  },
  {
   "cell_type": "code",
   "execution_count": 17,
   "metadata": {},
   "outputs": [
    {
     "data": {
      "text/plain": [
       "array([24.9357079 , 23.75163164, 29.32638296, 11.97534566, 21.37272478,\n",
       "       19.19148525, 20.5717479 , 21.21154015, 19.04572003, 20.35463238,\n",
       "        5.44119126, 16.93688709, 17.15482272,  5.3928209 , 40.20270696,\n",
       "       32.31327348, 22.46213268, 36.50124666, 31.03737014, 23.17124551,\n",
       "       24.74815321, 24.49939403, 20.6595791 , 30.4547583 , 22.32487164,\n",
       "       10.18932894, 17.44286422, 18.26103077, 35.63299326, 20.81960303,\n",
       "       18.27218007, 17.72047628, 19.33772473, 23.62254823, 28.97766856,\n",
       "       19.45036239, 11.13170639, 24.81843595, 18.05294835, 15.59712226,\n",
       "       26.21043403, 20.81140432, 22.17349382, 15.48367365, 22.62261604,\n",
       "       24.88561528, 19.74754478, 23.0465628 ,  9.84579105, 24.36378793,\n",
       "       21.47849008, 17.62118176, 24.39160873, 29.95102691, 13.57219422,\n",
       "       21.53645439, 20.53306273, 15.03433182, 14.3232289 , 22.11929299,\n",
       "       17.07321915, 21.54141094, 32.96766968, 31.371599  , 17.7860591 ,\n",
       "       32.75069556, 18.74795323, 19.21428022, 19.41970047, 23.08087809,\n",
       "       22.87732816, 24.06399098, 30.52824406, 28.71453508, 25.90763165,\n",
       "        5.17596718, 36.8709072 , 23.76983849, 27.26064379, 19.25849042,\n",
       "       28.41860517, 19.3008798 , 18.94922353, 38.00154059, 39.44096748,\n",
       "       23.72297885, 24.83722534, 16.52015743, 25.9970546 , 16.73997072,\n",
       "       15.48656983, 13.52825536, 24.12884363, 30.76919578, 22.18731163,\n",
       "       19.8848644 ,  0.42275479, 24.86785849, 16.05692   , 17.42486412,\n",
       "       25.49798527, 22.35171315, 32.66562689, 22.04428746, 27.29799885,\n",
       "       23.20302026,  6.86196574, 14.869251  , 22.31804948, 29.18125768,\n",
       "       33.22568234, 13.24392523, 19.67195771, 20.7502616 , 12.02271319,\n",
       "       23.50067006,  5.55662571, 19.87634689,  9.27059783, 44.81787339,\n",
       "       30.56017983, 12.44394048, 17.33192202, 21.48313292, 23.52664913,\n",
       "       20.49877266, 35.09161099, 13.22639935, 20.70321163, 35.35582833,\n",
       "       19.45050576, 13.81603561, 14.15654562, 23.03678503, 15.07521258,\n",
       "       30.9662041 , 25.23236632, 15.43763716, 24.06406534,  9.93080346,\n",
       "       15.01618901, 21.06098873, 32.87115732, 27.80927747, 25.91293794,\n",
       "       15.27877362, 30.97489404, 27.81107682, 14.5068157 ,  7.57369946,\n",
       "       28.3348068 , 25.04341153])"
      ]
     },
     "execution_count": 17,
     "metadata": {},
     "output_type": "execute_result"
    }
   ],
   "source": [
    "y_pred = model.predict(X_test)\n",
    "y_pred"
   ]
  },
  {
   "cell_type": "raw",
   "metadata": {},
   "source": [
    "#연속된 값을 예측하는 것이기 때문에 회귀모형에서는 오직 predict만 가능 /predict_proba 불가 "
   ]
  },
  {
   "cell_type": "code",
   "execution_count": 18,
   "metadata": {},
   "outputs": [],
   "source": [
    "import matplotlib.pyplot as plt\n",
    "import seaborn as sns\n",
    "%matplotlib inline"
   ]
  },
  {
   "cell_type": "code",
   "execution_count": 19,
   "metadata": {},
   "outputs": [
    {
     "data": {
      "text/plain": [
       "Text(0, 0.5, 'Predicted')"
      ]
     },
     "execution_count": 19,
     "metadata": {},
     "output_type": "execute_result"
    },
    {
     "data": {
      "image/png": "[encoded data removed]",
      "text/plain": [
       "<Figure size 432x288 with 1 Axes>"
      ]
     },
     "metadata": {
      "needs_background": "light"
     },
     "output_type": "display_data"
    }
   ],
   "source": [
    "plt.scatter(y_test, y_pred, edgecolors=(0, 0, 0))\n",
    "plt.plot([y_test.min(), y_test.max()], [y_test.min(), y_test.max()], 'k--', lw=4)\n",
    "plt.xlabel('Measured')\n",
    "plt.ylabel('Predicted')"
   ]
  },
  {
   "cell_type": "markdown",
   "metadata": {},
   "source": [
    "#### 새로운 모형 생성 - 회귀나무모형"
   ]
  },
  {
   "cell_type": "code",
   "execution_count": 27,
   "metadata": {},
   "outputs": [
    {
     "data": {
      "text/plain": [
       "0.6835179161458892"
      ]
     },
     "execution_count": 27,
     "metadata": {},
     "output_type": "execute_result"
    }
   ],
   "source": [
    "from sklearn.tree import DecisionTreeRegressor\n",
    "\n",
    "model = DecisionTreeRegressor(random_state=0)\n",
    "model.fit(X_train, y_train)\n",
    "model.score(X_test, y_test)"
   ]
  },
  {
   "cell_type": "code",
   "execution_count": 28,
   "metadata": {},
   "outputs": [],
   "source": [
    "# 정해진 형식으로 예측결과를 저장\n",
    "import pandas as pd\n",
    "\n",
    "output = pd.DataFrame({'house_id': range(X_test.shape[0]), 'house_price': y_pred})\n",
    "output.to_csv('submission.csv', index=False)"
   ]
  },
  {
   "cell_type": "markdown",
   "metadata": {},
   "source": [
    "<font color='tomato'><font color=\"#CC3D3D\"><p>\n",
    "# End"
   ]
  }
 ],
 "metadata": {
  "kernelspec": {
   "display_name": "Python 3 (ipykernel)",
   "language": "python",
   "name": "python3"
  },
  "language_info": {
   "codemirror_mode": {
    "name": "ipython",
    "version": 3
   },
   "file_extension": ".py",
   "mimetype": "text/x-python",
   "name": "python",
   "nbconvert_exporter": "python",
   "pygments_lexer": "ipython3",
   "version": "3.9.12"
  }
 },
 "nbformat": 4,
 "nbformat_minor": 4
}
