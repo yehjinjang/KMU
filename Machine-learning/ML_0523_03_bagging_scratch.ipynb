{
 "cells": [
  {
   "cell_type": "markdown",
   "id": "1a8b97f1",
   "metadata": {},
   "source": [
    "<font color=\"#CC3D3D\"><p>\n",
    "# Implementing BaggingRegressor as a wrapper(custom) class in sklearn"
   ]
  },
  {
   "cell_type": "code",
   "execution_count": 3,
   "id": "7d2a2e1e",
   "metadata": {},
   "outputs": [],
   "source": [
    "import pandas as pd\n",
    "import numpy as np\n",
    "from sklearn.model_selection import train_test_split\n",
    "from sklearn.metrics import mean_squared_error\n",
    "from sklearn.tree import DecisionTreeRegressor\n",
    "from sklearn.base import BaseEstimator, RegressorMixin\n",
    "from sklearn.utils import resample"
   ]
  },
  {
   "cell_type": "code",
   "execution_count": 4,
   "id": "0e900723",
   "metadata": {},
   "outputs": [],
   "source": [
    "# 데이터셋 로드\n",
    "X = pd.read_csv('X_train_preprocessed.csv').drop(columns='ID')\n",
    "y = pd.read_csv('y_train_2.csv').Salary\n",
    "\n",
    "# 학습 데이터와 테스트 데이터로 분리\n",
    "X_train, X_test, y_train, y_test = train_test_split(X, y, test_size=0.4, random_state=0)"
   ]
  },
  {
   "cell_type": "code",
   "execution_count": 5,
   "id": "fab539c5",
   "metadata": {},
   "outputs": [
    {
     "name": "stdout",
     "output_type": "stream",
     "text": [
      "RMSE: 1233.027807443444\n"
     ]
    }
   ],
   "source": [
    "# DecisionTreeRegressor 모델 학습 및 예측\n",
    "tree = DecisionTreeRegressor(random_state=0)\n",
    "tree.fit(X_train, y_train)\n",
    "tree_pred = tree.predict(X_test)\n",
    "\n",
    "# 회귀 평가 지표인 평균 제곱근 오차(RMSE) 계산\n",
    "rmse = np.sqrt(mean_squared_error(y_test, tree_pred))\n",
    "print(\"RMSE:\", rmse)"
   ]
  },
  {
   "cell_type": "markdown",
   "id": "0a080869",
   "metadata": {},
   "source": [
    "##### 만일 dt를 불러왔을때 어떻게 성능이 나오느냐? \n",
    "##### 회귀문제니까 pred를 씀~ (회귀문제는 rmse를 많이씀)    \n",
    "##### sklearn에서는 mse만 있으니까 mse에 루트 씌우면 rmse를 계산가능함\n",
    "##### \n",
    "    \n",
    "    "
   ]
  },
  {
   "cell_type": "code",
   "execution_count": 6,
   "id": "8505f95f",
   "metadata": {},
   "outputs": [],
   "source": [
    "class MyBaggingRegressor(BaseEstimator, RegressorMixin):\n",
    "    def __init__(self, n_estimators=10):\n",
    "        self.n_estimators = n_estimators\n",
    "        self.estimators = []\n",
    "\n",
    "    def fit(self, X, y):\n",
    "        self.estimators = []\n",
    "        for _ in range(self.n_estimators):\n",
    "            estimator = DecisionTreeRegressor()\n",
    "            X_resampled, y_resampled = resample(X, y)\n",
    "            estimator.fit(X_resampled, y_resampled)\n",
    "            self.estimators.append(estimator)\n",
    "#fitting이 끝난 후 predict 진행, estimator를 회전하면서 나온 값의 평균값을 return해줌. \n",
    "    def predict(self, X):\n",
    "        predictions = np.zeros((len(X), self.n_estimators))\n",
    "        for i, estimator in enumerate(self.estimators):\n",
    "            predictions[:, i] = estimator.predict(X)\n",
    "        return np.mean(predictions, axis=1)"
   ]
  },
  {
   "cell_type": "code",
   "execution_count": 7,
   "id": "bc7366cb",
   "metadata": {},
   "outputs": [
    {
     "name": "stdout",
     "output_type": "stream",
     "text": [
      "RMSE: 901.9296492435932\n"
     ]
    }
   ],
   "source": [
    "# BaggingRegressor 모델 학습 및 예측\n",
    "bagging = MyBaggingRegressor(n_estimators=10)\n",
    "bagging.fit(X_train, y_train)\n",
    "bagging_pred = bagging.predict(X_test)\n",
    "\n",
    "# 회귀 평가 지표인 평균 제곱근 오차(RMSE) 계산\n",
    "rmse = np.sqrt(mean_squared_error(y_test, bagging_pred))\n",
    "print(\"RMSE:\", rmse)"
   ]
  },
  {
   "cell_type": "markdown",
   "id": "5606f0ec",
   "metadata": {},
   "source": [
    "<font color=\"#CC3D3D\"><p>\n",
    "# End"
   ]
  }
 ],
 "metadata": {
  "kernelspec": {
   "display_name": "Python 3 (ipykernel)",
   "language": "python",
   "name": "python3"
  },
  "language_info": {
   "codemirror_mode": {
    "name": "ipython",
    "version": 3
   },
   "file_extension": ".py",
   "mimetype": "text/x-python",
   "name": "python",
   "nbconvert_exporter": "python",
   "pygments_lexer": "ipython3",
   "version": "3.10.9"
  }
 },
 "nbformat": 4,
 "nbformat_minor": 5
}
