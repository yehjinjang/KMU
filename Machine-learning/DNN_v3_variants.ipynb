{
 "cells": [
  {
   "cell_type": "markdown",
   "id": "7f894730",
   "metadata": {},
   "source": [
    "<font color=\"#CC3D3D\"><p>\n",
    "# Creating deep neural networks with various structures"
   ]
  },
  {
   "cell_type": "markdown",
   "id": "d51592f3",
   "metadata": {},
   "source": [
    "<font color=\"blue\"><p>\n",
    "아래와 같은 구조를 갖는 DNN을 만들어보자.   \n",
    "<img align='left' src='http://drive.google.com/uc?export=view&id=1Yx64HH33yGZW5CZmey1wtBwj4KLqn4kA' /><br>"
   ]
  },
  {
   "cell_type": "markdown",
   "id": "bcdfeca0",
   "metadata": {},
   "source": [
    "####  전역변수 설정"
   ]
  },
  {
   "cell_type": "code",
   "execution_count": null,
   "id": "fa892b61",
   "metadata": {},
   "outputs": [],
   "source": [
    "DNN_VERSION = 3.0  # submission 화일명에 사용\n",
    "SEED = 0           # random_state 지정"
   ]
  },
  {
   "cell_type": "code",
   "execution_count": null,
   "id": "2965fdbe",
   "metadata": {},
   "outputs": [],
   "source": [
    "%matplotlib inline\n",
    "import warnings\n",
    "warnings.filterwarnings(\"ignore\")\n",
    "\n",
    "import pandas as pd\n",
    "import numpy as np\n",
    "import matplotlib.pyplot as plt\n",
    "import random\n",
    "\n",
    "import tensorflow as tf\n",
    "from tensorflow import keras\n",
    "print(tf.__version__)"
   ]
  },
  {
   "cell_type": "code",
   "execution_count": null,
   "id": "75af8074",
   "metadata": {},
   "outputs": [],
   "source": [
    "# 매번 모델링을 할 때마다 동일한 결과를 얻으려면 아래 코드를 실행해야 함.\n",
    "\n",
    "def reset_seeds(reset_graph_with_backend=None):\n",
    "    if reset_graph_with_backend is not None:\n",
    "        K = reset_graph_with_backend\n",
    "        K.clear_session()\n",
    "        tf.compat.v1.reset_default_graph()\n",
    "        print(\"KERAS AND TENSORFLOW GRAPHS RESET\")  # optional\n",
    "\n",
    "    np.random.seed(SEED)\n",
    "    random.seed(SEED)\n",
    "    tf.compat.v1.set_random_seed(SEED)\n",
    "#    os.environ['CUDA_VISIBLE_DEVICES'] = ''  # for GPU\n",
    "    print(\"RANDOM SEEDS RESET\")  # optional\n",
    "   \n",
    "reset_seeds()"
   ]
  },
  {
   "cell_type": "markdown",
   "id": "a5094395",
   "metadata": {},
   "source": [
    "#### 데이터 로딩"
   ]
  },
  {
   "cell_type": "code",
   "execution_count": null,
   "id": "c0a50ad9",
   "metadata": {},
   "outputs": [],
   "source": [
    "# 학습 데이터\n",
    "X_train = pd.read_csv('X_train_preprocessed.csv').drop(columns='ID')\n",
    "y_train = pd.read_csv('y_train.csv').Salary\n",
    "\n",
    "# 평가 데이터\n",
    "X_test = pd.read_csv('X_test_preprocessed.csv')\n",
    "test_id = X_test.ID\n",
    "X_test = X_test.drop(columns='ID')"
   ]
  },
  {
   "cell_type": "markdown",
   "id": "5fbd80b9",
   "metadata": {},
   "source": [
    "<font color=\"blue\"><p>\n",
    "#### DNN 모형 생성"
   ]
  },
  {
   "cell_type": "markdown",
   "id": "cc83d8af",
   "metadata": {},
   "source": [
    "<font color=\"blue\"><p>\n",
    "- 1단계: 모형 정의하기 (입력층/은익층/출력층 쌓기)"
   ]
  },
  {
   "cell_type": "code",
   "execution_count": null,
   "id": "67d1bb50",
   "metadata": {},
   "outputs": [],
   "source": [
    "inputs = keras.Input(shape=X_train.shape[1], ) \n",
    "y = keras.layers.Dense(1, activation='elu')(inputs)\n",
    "x = keras.layers.BatchNormalization()(inputs)\n",
    "x = keras.layers.Dense(128, activation='elu')(x)  \n",
    "x = keras.layers.Dense(64, activation='elu')(x)  \n",
    "x = keras.layers.Dense(1, activation='linear')(x)  \n",
    "x = keras.layers.Add()([x,y])  \n",
    "output = keras.layers.Dense(1, activation='linear')(x)  \n",
    "\n",
    "model = keras.Model(inputs=inputs, outputs=output)      "
   ]
  },
  {
   "cell_type": "code",
   "execution_count": null,
   "id": "bd109c7b",
   "metadata": {},
   "outputs": [],
   "source": [
    "# 모형 구조 출력: Total params가 많을수록 복잡한 모델임.\n",
    "print(model.summary())\n",
    "\n",
    "# 연결 그래프 시각화: graphviz와 pydot 설치 필요 (graphviz 다운로드하고 설치한 후 pip install pydot)\n",
    "keras.utils.plot_model(model, show_shapes=True, show_layer_names=False, show_layer_activations=True, dpi=70)"
   ]
  },
  {
   "cell_type": "markdown",
   "id": "7cfed5d3",
   "metadata": {},
   "source": [
    "<font color=\"blue\"><p>\n",
    "- 2단계: 학습방식(손실함수/옵티마이저/평가척도) 설정하기"
   ]
  },
  {
   "cell_type": "code",
   "execution_count": null,
   "id": "c6cdb9fb",
   "metadata": {},
   "outputs": [],
   "source": [
    "model.compile(\n",
    "    loss='mse',\n",
    "    optimizer=keras.optimizers.Adam(),                     \n",
    "    metrics=[keras.metrics.RootMeanSquaredError(name='rmse')]\n",
    ")"
   ]
  },
  {
   "cell_type": "markdown",
   "id": "48f64a80",
   "metadata": {},
   "source": [
    "<font color=\"blue\"><p>\n",
    "- 3단계: 모형 학습하기 (에포크, 배치사이즈, 조기중단 등 지정) "
   ]
  },
  {
   "cell_type": "code",
   "execution_count": null,
   "id": "e48253f8",
   "metadata": {},
   "outputs": [],
   "source": [
    "hist = model.fit(\n",
    "    x=X_train,\n",
    "    y=y_train,\n",
    "    validation_split=0.1,\n",
    "    batch_size=64, \n",
    "    epochs=200, \n",
    "    callbacks=[keras.callbacks.EarlyStopping(monitor='val_loss', patience=5)], \n",
    "    shuffle=False,\n",
    "    verbose=2,\n",
    ")"
   ]
  },
  {
   "cell_type": "code",
   "execution_count": null,
   "id": "75c36e8e",
   "metadata": {},
   "outputs": [],
   "source": [
    "# 러닝커브 그리기: 학습이 잘되었는지 어느정도 판단할 수 있음.\n",
    "\n",
    "plt.plot(hist.history['rmse'], label=\"train\")\n",
    "plt.plot(hist.history['val_rmse'], label=\"valid\")\n",
    "plt.xlabel('epoch')\n",
    "plt.ylabel('RMSE')\n",
    "plt.legend()\n",
    "plt.show()"
   ]
  },
  {
   "cell_type": "markdown",
   "id": "c19d32cb",
   "metadata": {},
   "source": [
    "<font color=\"blue\"><p>\n",
    "- 4단계: 예측하기"
   ]
  },
  {
   "cell_type": "code",
   "execution_count": null,
   "id": "0dcbc444",
   "metadata": {},
   "outputs": [],
   "source": [
    "# 예측값 얻기: sklearn 과 달리 2차원 array로 출력 => 1차원으로 변경 필요.\n",
    "pred = model.predict(X_test).flatten()\n",
    "\n",
    "# submission 화일 생성\n",
    "filename = f'dnn_{DNN_VERSION}_{hist.history[\"val_rmse\"][-1]:.2f}.csv'\n",
    "pd.DataFrame({'ID':test_id, 'Salary':pred}).to_csv(filename, index=False)\n",
    "\n",
    "print(f'{filename} is ready to submit.')"
   ]
  },
  {
   "cell_type": "markdown",
   "id": "c712c837",
   "metadata": {},
   "source": [
    "<font color=\"#CC3D3D\"><p>\n",
    "# End"
   ]
  }
 ],
 "metadata": {
  "kernelspec": {
   "display_name": "Python 3 (ipykernel)",
   "language": "python",
   "name": "python3"
  },
  "language_info": {
   "codemirror_mode": {
    "name": "ipython",
    "version": 3
   },
   "file_extension": ".py",
   "mimetype": "text/x-python",
   "name": "python",
   "nbconvert_exporter": "python",
   "pygments_lexer": "ipython3",
   "version": "3.8.16"
  }
 },
 "nbformat": 4,
 "nbformat_minor": 5
}
