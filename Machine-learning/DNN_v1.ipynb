{
 "cells": [
  {
   "cell_type": "markdown",
   "id": "5da7e746",
   "metadata": {},
   "source": [
    "<font color=\"#CC3D3D\"><p>\n",
    "# [Competition] Building a `DNN` Model with `Pipeline`"
   ]
  },
  {
   "cell_type": "markdown",
   "id": "56d30296",
   "metadata": {},
   "source": [
    "####  전역변수 설정"
   ]
  },
  {
   "cell_type": "code",
   "execution_count": 2,
   "id": "fdd241e7",
   "metadata": {},
   "outputs": [],
   "source": [
    "DNN_VERSION = 1.0  # submission 화일명에 사용\n",
    "SEED = 0           # random_state 지정|"
   ]
  },
  {
   "cell_type": "code",
   "execution_count": 3,
   "id": "b30716da",
   "metadata": {},
   "outputs": [
    {
     "name": "stdout",
     "output_type": "stream",
     "text": [
      "2.12.0\n"
     ]
    }
   ],
   "source": [
    "%matplotlib inline\n",
    "import warnings\n",
    "warnings.filterwarnings(\"ignore\")\n",
    "\n",
    "import pandas as pd\n",
    "import numpy as np\n",
    "import matplotlib.pyplot as plt\n",
    "import seaborn as sns\n",
    "from sklearn.model_selection import train_test_split\n",
    "import random\n",
    "\n",
    "import tensorflow as tf\n",
    "from tensorflow import keras\n",
    "import kerastuner as kt\n",
    "print(tf.__version__)"
   ]
  },
  {
   "cell_type": "code",
   "execution_count": 4,
   "id": "57bb9d53",
   "metadata": {},
   "outputs": [
    {
     "name": "stdout",
     "output_type": "stream",
     "text": [
      "RANDOM SEEDS RESET\n"
     ]
    }
   ],
   "source": [
    "# 매번 모델링을 할 때마다 동일한 결과를 얻으려면 아래 코드를 실행해야 함.\n",
    "\n",
    "def reset_seeds(reset_graph_with_backend=None):\n",
    "    if reset_graph_with_backend is not None:\n",
    "        K = reset_graph_with_backend\n",
    "        K.clear_session()\n",
    "        tf.compat.v1.reset_default_graph()\n",
    "        print(\"KERAS AND TENSORFLOW GRAPHS RESET\")  # optional\n",
    "\n",
    "    np.random.seed(SEED)\n",
    "    random.seed(SEED)\n",
    "    tf.compat.v1.set_random_seed(SEED) # tf와 random,np randomseed 고정해줘야함(위의 3개)\n",
    "#    os.environ['CUDA_VISIBLE_DEVICES'] = ''  # for GPU gpu를 쓰면 고정이 안됨. 필요X\n",
    "    print(\"RANDOM SEEDS RESET\")  # optional\n",
    "   \n",
    "\n",
    "reset_seeds()"
   ]
  },
  {
   "cell_type": "code",
   "execution_count": 5,
   "id": "a51f68fd",
   "metadata": {},
   "outputs": [],
   "source": [
    "#nn의 weight가 처음에는 임의의 값이 되므로 seed를 설정해주는 것이중요함!\n",
    "#내가있는 어떤 정보가 내 취업에 어떤 영향을 미칠까? 라는 주제의 데이터인데 아마 쓰진 않을것임. "
   ]
  },
  {
   "cell_type": "markdown",
   "id": "ba99e2ab",
   "metadata": {},
   "source": [
    "#### (전처리된) 데이터 로딩"
   ]
  },
  {
   "cell_type": "code",
   "execution_count": 1,
   "id": "66e6b3f0",
   "metadata": {},
   "outputs": [
    {
     "ename": "NameError",
     "evalue": "name 'pd' is not defined",
     "output_type": "error",
     "traceback": [
      "\u001b[1;31m---------------------------------------------------------------------------\u001b[0m",
      "\u001b[1;31mNameError\u001b[0m                                 Traceback (most recent call last)",
      "Cell \u001b[1;32mIn[1], line 2\u001b[0m\n\u001b[0;32m      1\u001b[0m \u001b[38;5;66;03m# 학습 데이터\u001b[39;00m\n\u001b[1;32m----> 2\u001b[0m X_train \u001b[38;5;241m=\u001b[39m \u001b[43mpd\u001b[49m\u001b[38;5;241m.\u001b[39mread_csv(\u001b[38;5;124m'\u001b[39m\u001b[38;5;124mX_train_preprocessed.csv\u001b[39m\u001b[38;5;124m'\u001b[39m)\u001b[38;5;241m.\u001b[39mdrop(columns\u001b[38;5;241m=\u001b[39m\u001b[38;5;124m'\u001b[39m\u001b[38;5;124mID\u001b[39m\u001b[38;5;124m'\u001b[39m)\n\u001b[0;32m      3\u001b[0m y_train \u001b[38;5;241m=\u001b[39m pd\u001b[38;5;241m.\u001b[39mread_csv(\u001b[38;5;124m'\u001b[39m\u001b[38;5;124my_train.csv\u001b[39m\u001b[38;5;124m'\u001b[39m)\u001b[38;5;241m.\u001b[39mSalary\n\u001b[0;32m      5\u001b[0m \u001b[38;5;66;03m# 평가 데이터\u001b[39;00m\n",
      "\u001b[1;31mNameError\u001b[0m: name 'pd' is not defined"
     ]
    }
   ],
   "source": [
    "# 학습 데이터\n",
    "X_train = pd.read_csv('X_train_preprocessed.csv').drop(columns='ID')\n",
    "y_train = pd.read_csv('y_train.csv').Salary\n",
    "\n",
    "# 평가 데이터\n",
    "X_test = pd.read_csv('X_test_preprocessed.csv')\n",
    "test_id = X_test.ID\n",
    "X_test = X_test.drop(columns='custid')"
   ]
  },
  {
   "cell_type": "code",
   "execution_count": 5,
   "id": "2d66811f",
   "metadata": {},
   "outputs": [],
   "source": [
    "# 학습 데이터를 다시 학습과 검증 데이터로 분할\n",
    "X_train, X_valid, y_train, y_valid = train_test_split(X_train, y_train, test_size=0.1, random_state=SEED)"
   ]
  },
  {
   "cell_type": "markdown",
   "id": "3806eb8c",
   "metadata": {},
   "source": [
    "<font color=\"blue\"><p>\n",
    "#### DNN 모형 생성"
   ]
  },
  {
   "cell_type": "markdown",
   "id": "e4635c86",
   "metadata": {},
   "source": [
    "<font color=\"blue\"><p>\n",
    "- 1단계: 모형 정의하기 (입력층/은익층/출력층 쌓기)"
   ]
  },
  {
   "cell_type": "code",
   "execution_count": 10,
   "id": "057c815e",
   "metadata": {},
   "outputs": [
    {
     "data": {
      "text/plain": [
       "687"
      ]
     },
     "execution_count": 10,
     "metadata": {},
     "output_type": "execute_result"
    }
   ],
   "source": [
    "X_train.shape[1] \n",
    "#처음에는 입력층 687개, 은닉층첫번째는 128개 , 두번째은닉층은 64개, 마지막 출력층 1개하면 결과값이 나옴. \n",
    "#(각각의 연결에 가중치 적용됨) \n",
    "#activate 입력층 빼고 activate함수인 relu함수를 내가정한것. \n",
    "# output의 최종값까지 지정하고 전체모형정의함. "
   ]
  },
  {
   "cell_type": "code",
   "execution_count": 7,
   "id": "96e6937c",
   "metadata": {},
   "outputs": [],
   "source": [
    "inputs = keras.Input(shape=X_train.shape[1], )          # 입력층\n",
    "x = keras.layers.Dense(128, activation='relu')(inputs)  # 첫번째 은닉층(숫자는 neural값설정)\n",
    "x = keras.layers.Dense(64, activation='relu')(x)        # 두번째 은닉층 (X값을 다음에서 넘겨받음 )\n",
    "output = keras.layers.Dense(1, activation='linear')(x)  # 출력층\n",
    "\n",
    "model = keras.Model(inputs=inputs, outputs=output)      # 입력층과 출력층을 지정함으로써 전체모형 정의"
   ]
  },
  {
   "cell_type": "code",
   "execution_count": 8,
   "id": "c4e13cea",
   "metadata": {},
   "outputs": [
    {
     "name": "stdout",
     "output_type": "stream",
     "text": [
      "Model: \"model\"\n",
      "_________________________________________________________________\n",
      " Layer (type)                Output Shape              Param #   \n",
      "=================================================================\n",
      " input_1 (InputLayer)        [(None, 687)]             0         \n",
      "                                                                 \n",
      " dense (Dense)               (None, 128)               88064     \n",
      "                                                                 \n",
      " dense_1 (Dense)             (None, 64)                8256      \n",
      "                                                                 \n",
      " dense_2 (Dense)             (None, 1)                 65        \n",
      "                                                                 \n",
      "=================================================================\n",
      "Total params: 96,385\n",
      "Trainable params: 96,385\n",
      "Non-trainable params: 0\n",
      "_________________________________________________________________\n"
     ]
    }
   ],
   "source": [
    "# 모형 구조 출력: Total params가 많을수록 복잡한 모델임. (만든 nn-model이 잘 만들어졌는지 확인 )\n",
    "model.summary()"
   ]
  },
  {
   "cell_type": "code",
   "execution_count": 12,
   "id": "8579bb23",
   "metadata": {},
   "outputs": [
    {
     "name": "stdout",
     "output_type": "stream",
     "text": [
      "Collecting pydot\n",
      "  Downloading pydot-1.4.2-py2.py3-none-any.whl (21 kB)\n",
      "Requirement already satisfied: pyparsing>=2.1.4 in c:\\users\\shj06\\anaconda3\\lib\\site-packages (from pydot) (3.0.9)\n",
      "Installing collected packages: pydot\n",
      "Successfully installed pydot-1.4.2\n",
      "Note: you may need to restart the kernel to use updated packages.\n"
     ]
    }
   ],
   "source": [
    "pip install pydot"
   ]
  },
  {
   "cell_type": "code",
   "execution_count": 13,
   "id": "80d936f7",
   "metadata": {},
   "outputs": [
    {
     "name": "stdout",
     "output_type": "stream",
     "text": [
      "You must install pydot (`pip install pydot`) and install graphviz (see instructions at https://graphviz.gitlab.io/download/) for plot_model to work.\n"
     ]
    }
   ],
   "source": [
    "# 연결 그래프 시각화: graphviz와 pydot 설치 필요 (graphviz 다운로드하고 설치한 후 pip install pydot)\n",
    "keras.utils.plot_model(model, show_shapes=True)"
   ]
  },
  {
   "cell_type": "code",
   "execution_count": null,
   "id": "bd295e75",
   "metadata": {},
   "outputs": [],
   "source": [
    "#여기까지 neural network를구성함 (network만 구성한 상태)\n",
    "#이 밑에 부터 학습진행할것임 "
   ]
  },
  {
   "cell_type": "markdown",
   "id": "99835f67",
   "metadata": {},
   "source": [
    "<font color=\"blue\"><p>\n",
    "- 2단계: 학습방식(손실함수/옵티마이저/평가척도) 설정하기"
   ]
  },
  {
   "cell_type": "code",
   "execution_count": null,
   "id": "4d425f1a",
   "metadata": {},
   "outputs": [],
   "source": [
    "#어떤 loss function을쓸것이냐? 'mse'로지정 / model.compile이라는 method를 통해 정의. /optimzer는 종류가 많음 ( 경사하강법도 이중에하나)"
   ]
  },
  {
   "cell_type": "code",
   "execution_count": 15,
   "id": "21657303",
   "metadata": {},
   "outputs": [],
   "source": [
    "model.compile(\n",
    "    loss='mse',\n",
    "    optimizer=keras.optimizers.RMSprop(),                     \n",
    "    metrics=[keras.metrics.RootMeanSquaredError(name='rmse')]\n",
    ")"
   ]
  },
  {
   "cell_type": "code",
   "execution_count": 22,
   "id": "1d3218e7",
   "metadata": {},
   "outputs": [
    {
     "data": {
      "text/plain": [
       "16570"
      ]
     },
     "execution_count": 22,
     "metadata": {},
     "output_type": "execute_result"
    }
   ],
   "source": [
    "#데이터갯수확인 \n",
    "X_train.shape[0]"
   ]
  },
  {
   "cell_type": "markdown",
   "id": "4fa9175e",
   "metadata": {},
   "source": [
    "<font color=\"blue\"><p>\n",
    "- 3단계: 모형 학습하기 (에포크, 배치사이즈, 조기중단 등 지정) "
   ]
  },
  {
   "cell_type": "code",
   "execution_count": 16,
   "id": "2d6b4dda",
   "metadata": {},
   "outputs": [
    {
     "name": "stdout",
     "output_type": "stream",
     "text": [
      "Epoch 1/200\n",
      "259/259 - 2s - loss: 4338691.5000 - rmse: 2082.9526 - val_loss: 1548880.7500 - val_rmse: 1244.5404 - 2s/epoch - 9ms/step\n",
      "Epoch 2/200\n",
      "259/259 - 1s - loss: 912057.4375 - rmse: 955.0170 - val_loss: 869671.8125 - val_rmse: 932.5620 - 781ms/epoch - 3ms/step\n",
      "Epoch 3/200\n",
      "259/259 - 1s - loss: 767509.8125 - rmse: 876.0764 - val_loss: 807028.3125 - val_rmse: 898.3475 - 715ms/epoch - 3ms/step\n",
      "Epoch 4/200\n",
      "259/259 - 1s - loss: 736290.5000 - rmse: 858.0737 - val_loss: 785518.3125 - val_rmse: 886.2947 - 780ms/epoch - 3ms/step\n",
      "Epoch 5/200\n",
      "259/259 - 1s - loss: 721044.1250 - rmse: 849.1432 - val_loss: 773662.1875 - val_rmse: 879.5807 - 601ms/epoch - 2ms/step\n",
      "Epoch 6/200\n",
      "259/259 - 1s - loss: 711204.3750 - rmse: 843.3293 - val_loss: 765299.0000 - val_rmse: 874.8137 - 795ms/epoch - 3ms/step\n",
      "Epoch 7/200\n",
      "259/259 - 1s - loss: 703823.0625 - rmse: 838.9417 - val_loss: 758586.8125 - val_rmse: 870.9689 - 605ms/epoch - 2ms/step\n",
      "Epoch 8/200\n",
      "259/259 - 1s - loss: 697849.6875 - rmse: 835.3740 - val_loss: 752903.1875 - val_rmse: 867.7000 - 716ms/epoch - 3ms/step\n",
      "Epoch 9/200\n",
      "259/259 - 1s - loss: 692745.1250 - rmse: 832.3131 - val_loss: 747813.0625 - val_rmse: 864.7618 - 737ms/epoch - 3ms/step\n",
      "Epoch 10/200\n",
      "259/259 - 1s - loss: 688208.3125 - rmse: 829.5832 - val_loss: 743348.3750 - val_rmse: 862.1765 - 753ms/epoch - 3ms/step\n",
      "Epoch 11/200\n",
      "259/259 - 1s - loss: 684086.3125 - rmse: 827.0951 - val_loss: 739295.6250 - val_rmse: 859.8230 - 787ms/epoch - 3ms/step\n",
      "Epoch 12/200\n",
      "259/259 - 1s - loss: 680218.3750 - rmse: 824.7535 - val_loss: 735326.0000 - val_rmse: 857.5115 - 860ms/epoch - 3ms/step\n",
      "Epoch 13/200\n",
      "259/259 - 1s - loss: 676472.9375 - rmse: 822.4797 - val_loss: 731547.9375 - val_rmse: 855.3058 - 879ms/epoch - 3ms/step\n",
      "Epoch 14/200\n",
      "259/259 - 1s - loss: 672822.0625 - rmse: 820.2573 - val_loss: 727674.0000 - val_rmse: 853.0381 - 831ms/epoch - 3ms/step\n",
      "Epoch 15/200\n",
      "259/259 - 1s - loss: 669188.8125 - rmse: 818.0396 - val_loss: 723577.4375 - val_rmse: 850.6335 - 914ms/epoch - 4ms/step\n",
      "Epoch 16/200\n",
      "259/259 - 1s - loss: 665581.3750 - rmse: 815.8317 - val_loss: 719464.3750 - val_rmse: 848.2125 - 899ms/epoch - 3ms/step\n",
      "Epoch 17/200\n",
      "259/259 - 1s - loss: 661982.5000 - rmse: 813.6230 - val_loss: 715378.8750 - val_rmse: 845.8007 - 836ms/epoch - 3ms/step\n",
      "Epoch 18/200\n",
      "259/259 - 1s - loss: 658373.9375 - rmse: 811.4025 - val_loss: 711321.6250 - val_rmse: 843.3989 - 906ms/epoch - 3ms/step\n",
      "Epoch 19/200\n",
      "259/259 - 1s - loss: 654725.5000 - rmse: 809.1511 - val_loss: 707225.8125 - val_rmse: 840.9672 - 786ms/epoch - 3ms/step\n",
      "Epoch 20/200\n",
      "259/259 - 1s - loss: 651079.2500 - rmse: 806.8948 - val_loss: 703106.3750 - val_rmse: 838.5144 - 730ms/epoch - 3ms/step\n",
      "Epoch 21/200\n",
      "259/259 - 1s - loss: 647422.9375 - rmse: 804.6260 - val_loss: 698942.1875 - val_rmse: 836.0276 - 805ms/epoch - 3ms/step\n",
      "Epoch 22/200\n",
      "259/259 - 1s - loss: 643743.9375 - rmse: 802.3365 - val_loss: 694527.2500 - val_rmse: 833.3830 - 865ms/epoch - 3ms/step\n",
      "Epoch 23/200\n",
      "259/259 - 1s - loss: 639996.4375 - rmse: 799.9978 - val_loss: 690033.1875 - val_rmse: 830.6824 - 759ms/epoch - 3ms/step\n",
      "Epoch 24/200\n",
      "259/259 - 1s - loss: 636245.0000 - rmse: 797.6497 - val_loss: 685593.9375 - val_rmse: 828.0060 - 799ms/epoch - 3ms/step\n",
      "Epoch 25/200\n",
      "259/259 - 1s - loss: 632441.3125 - rmse: 795.2618 - val_loss: 680992.3750 - val_rmse: 825.2226 - 784ms/epoch - 3ms/step\n",
      "Epoch 26/200\n",
      "259/259 - 1s - loss: 628629.5000 - rmse: 792.8616 - val_loss: 676080.5000 - val_rmse: 822.2411 - 844ms/epoch - 3ms/step\n",
      "Epoch 27/200\n",
      "259/259 - 1s - loss: 624819.1250 - rmse: 790.4550 - val_loss: 671209.8125 - val_rmse: 819.2739 - 666ms/epoch - 3ms/step\n",
      "Epoch 28/200\n",
      "259/259 - 1s - loss: 620953.8125 - rmse: 788.0062 - val_loss: 666166.8750 - val_rmse: 816.1905 - 777ms/epoch - 3ms/step\n",
      "Epoch 29/200\n",
      "259/259 - 1s - loss: 617061.4375 - rmse: 785.5326 - val_loss: 661218.1875 - val_rmse: 813.1533 - 735ms/epoch - 3ms/step\n",
      "Epoch 30/200\n",
      "259/259 - 1s - loss: 613182.2500 - rmse: 783.0596 - val_loss: 655937.8125 - val_rmse: 809.8999 - 771ms/epoch - 3ms/step\n",
      "Epoch 31/200\n",
      "259/259 - 1s - loss: 609283.9375 - rmse: 780.5664 - val_loss: 650812.2500 - val_rmse: 806.7294 - 761ms/epoch - 3ms/step\n",
      "Epoch 32/200\n",
      "259/259 - 1s - loss: 605336.2500 - rmse: 778.0336 - val_loss: 645589.6875 - val_rmse: 803.4860 - 796ms/epoch - 3ms/step\n",
      "Epoch 33/200\n",
      "259/259 - 1s - loss: 601300.6250 - rmse: 775.4358 - val_loss: 640318.2500 - val_rmse: 800.1989 - 808ms/epoch - 3ms/step\n",
      "Epoch 34/200\n",
      "259/259 - 1s - loss: 597258.3125 - rmse: 772.8249 - val_loss: 634982.2500 - val_rmse: 796.8577 - 786ms/epoch - 3ms/step\n",
      "Epoch 35/200\n",
      "259/259 - 1s - loss: 593151.0000 - rmse: 770.1630 - val_loss: 629761.5625 - val_rmse: 793.5752 - 846ms/epoch - 3ms/step\n",
      "Epoch 36/200\n",
      "259/259 - 1s - loss: 588979.9375 - rmse: 767.4503 - val_loss: 624464.1875 - val_rmse: 790.2305 - 826ms/epoch - 3ms/step\n",
      "Epoch 37/200\n",
      "259/259 - 1s - loss: 584824.1875 - rmse: 764.7380 - val_loss: 619277.0625 - val_rmse: 786.9416 - 779ms/epoch - 3ms/step\n",
      "Epoch 38/200\n",
      "259/259 - 1s - loss: 580553.3125 - rmse: 761.9405 - val_loss: 614077.2500 - val_rmse: 783.6308 - 757ms/epoch - 3ms/step\n",
      "Epoch 39/200\n",
      "259/259 - 1s - loss: 576300.8750 - rmse: 759.1448 - val_loss: 608879.5000 - val_rmse: 780.3073 - 738ms/epoch - 3ms/step\n",
      "Epoch 40/200\n",
      "259/259 - 1s - loss: 571966.8125 - rmse: 756.2849 - val_loss: 603889.6250 - val_rmse: 777.1033 - 772ms/epoch - 3ms/step\n",
      "Epoch 41/200\n",
      "259/259 - 1s - loss: 567557.9375 - rmse: 753.3644 - val_loss: 598584.8125 - val_rmse: 773.6826 - 894ms/epoch - 3ms/step\n",
      "Epoch 42/200\n",
      "259/259 - 1s - loss: 563105.6875 - rmse: 750.4037 - val_loss: 592949.0625 - val_rmse: 770.0319 - 798ms/epoch - 3ms/step\n",
      "Epoch 43/200\n",
      "259/259 - 1s - loss: 558621.0000 - rmse: 747.4095 - val_loss: 587195.3125 - val_rmse: 766.2867 - 685ms/epoch - 3ms/step\n",
      "Epoch 44/200\n",
      "259/259 - 1s - loss: 554189.2500 - rmse: 744.4389 - val_loss: 581753.8125 - val_rmse: 762.7279 - 865ms/epoch - 3ms/step\n",
      "Epoch 45/200\n",
      "259/259 - 1s - loss: 549817.1250 - rmse: 741.4965 - val_loss: 576317.1250 - val_rmse: 759.1555 - 802ms/epoch - 3ms/step\n",
      "Epoch 46/200\n",
      "259/259 - 1s - loss: 545486.7500 - rmse: 738.5707 - val_loss: 570940.8125 - val_rmse: 755.6063 - 738ms/epoch - 3ms/step\n",
      "Epoch 47/200\n",
      "259/259 - 1s - loss: 541170.1250 - rmse: 735.6426 - val_loss: 565657.6250 - val_rmse: 752.1021 - 699ms/epoch - 3ms/step\n",
      "Epoch 48/200\n",
      "259/259 - 1s - loss: 536804.1875 - rmse: 732.6693 - val_loss: 560476.1875 - val_rmse: 748.6496 - 787ms/epoch - 3ms/step\n",
      "Epoch 49/200\n",
      "259/259 - 1s - loss: 532465.3125 - rmse: 729.7022 - val_loss: 555106.5625 - val_rmse: 745.0547 - 863ms/epoch - 3ms/step\n",
      "Epoch 50/200\n",
      "259/259 - 1s - loss: 528155.6250 - rmse: 726.7432 - val_loss: 550160.6250 - val_rmse: 741.7281 - 934ms/epoch - 4ms/step\n",
      "Epoch 51/200\n",
      "259/259 - 1s - loss: 523832.7188 - rmse: 723.7629 - val_loss: 545189.1250 - val_rmse: 738.3693 - 887ms/epoch - 3ms/step\n",
      "Epoch 52/200\n",
      "259/259 - 1s - loss: 519532.3750 - rmse: 720.7859 - val_loss: 539785.1250 - val_rmse: 734.7007 - 876ms/epoch - 3ms/step\n",
      "Epoch 53/200\n",
      "259/259 - 1s - loss: 515207.9062 - rmse: 717.7798 - val_loss: 534569.6250 - val_rmse: 731.1427 - 833ms/epoch - 3ms/step\n",
      "Epoch 54/200\n",
      "259/259 - 1s - loss: 510911.3125 - rmse: 714.7806 - val_loss: 529663.2500 - val_rmse: 727.7797 - 827ms/epoch - 3ms/step\n",
      "Epoch 55/200\n",
      "259/259 - 1s - loss: 506603.5625 - rmse: 711.7609 - val_loss: 524224.8125 - val_rmse: 724.0337 - 754ms/epoch - 3ms/step\n",
      "Epoch 56/200\n",
      "259/259 - 1s - loss: 502246.6875 - rmse: 708.6937 - val_loss: 519788.3438 - val_rmse: 720.9635 - 879ms/epoch - 3ms/step\n",
      "Epoch 57/200\n",
      "259/259 - 1s - loss: 497979.5312 - rmse: 705.6766 - val_loss: 514419.6875 - val_rmse: 717.2306 - 822ms/epoch - 3ms/step\n",
      "Epoch 58/200\n",
      "259/259 - 1s - loss: 493651.4688 - rmse: 702.6033 - val_loss: 509661.4375 - val_rmse: 713.9058 - 801ms/epoch - 3ms/step\n",
      "Epoch 59/200\n",
      "259/259 - 1s - loss: 489252.5312 - rmse: 699.4659 - val_loss: 504825.0625 - val_rmse: 710.5104 - 721ms/epoch - 3ms/step\n",
      "Epoch 60/200\n",
      "259/259 - 1s - loss: 485059.4062 - rmse: 696.4620 - val_loss: 500330.6875 - val_rmse: 707.3406 - 824ms/epoch - 3ms/step\n",
      "Epoch 61/200\n",
      "259/259 - 1s - loss: 480793.4375 - rmse: 693.3927 - val_loss: 495493.8750 - val_rmse: 703.9133 - 759ms/epoch - 3ms/step\n",
      "Epoch 62/200\n",
      "259/259 - 1s - loss: 476519.3125 - rmse: 690.3038 - val_loss: 491258.0938 - val_rmse: 700.8981 - 851ms/epoch - 3ms/step\n"
     ]
    },
    {
     "name": "stdout",
     "output_type": "stream",
     "text": [
      "Epoch 63/200\n",
      "259/259 - 1s - loss: 472245.2188 - rmse: 687.2010 - val_loss: 486876.7812 - val_rmse: 697.7656 - 781ms/epoch - 3ms/step\n",
      "Epoch 64/200\n",
      "259/259 - 1s - loss: 468066.0625 - rmse: 684.1536 - val_loss: 482689.8125 - val_rmse: 694.7588 - 853ms/epoch - 3ms/step\n",
      "Epoch 65/200\n",
      "259/259 - 1s - loss: 463829.8750 - rmse: 681.0505 - val_loss: 478475.7812 - val_rmse: 691.7194 - 763ms/epoch - 3ms/step\n",
      "Epoch 66/200\n",
      "259/259 - 1s - loss: 459683.5312 - rmse: 677.9996 - val_loss: 474198.0938 - val_rmse: 688.6204 - 737ms/epoch - 3ms/step\n",
      "Epoch 67/200\n",
      "259/259 - 1s - loss: 455557.7188 - rmse: 674.9501 - val_loss: 470102.9375 - val_rmse: 685.6405 - 810ms/epoch - 3ms/step\n",
      "Epoch 68/200\n",
      "259/259 - 1s - loss: 451411.4688 - rmse: 671.8716 - val_loss: 465788.8438 - val_rmse: 682.4872 - 762ms/epoch - 3ms/step\n",
      "Epoch 69/200\n",
      "259/259 - 1s - loss: 447234.4688 - rmse: 668.7559 - val_loss: 462295.7188 - val_rmse: 679.9233 - 845ms/epoch - 3ms/step\n",
      "Epoch 70/200\n",
      "259/259 - 1s - loss: 443150.4062 - rmse: 665.6954 - val_loss: 458437.9375 - val_rmse: 677.0804 - 827ms/epoch - 3ms/step\n",
      "Epoch 71/200\n",
      "259/259 - 1s - loss: 438981.8125 - rmse: 662.5570 - val_loss: 453895.8438 - val_rmse: 673.7179 - 789ms/epoch - 3ms/step\n",
      "Epoch 72/200\n",
      "259/259 - 1s - loss: 434813.3750 - rmse: 659.4038 - val_loss: 449411.9062 - val_rmse: 670.3819 - 859ms/epoch - 3ms/step\n",
      "Epoch 73/200\n",
      "259/259 - 1s - loss: 430571.4375 - rmse: 656.1794 - val_loss: 444875.9375 - val_rmse: 666.9902 - 889ms/epoch - 3ms/step\n",
      "Epoch 74/200\n",
      "259/259 - 1s - loss: 426345.8125 - rmse: 652.9516 - val_loss: 440173.1562 - val_rmse: 663.4554 - 815ms/epoch - 3ms/step\n",
      "Epoch 75/200\n",
      "259/259 - 1s - loss: 422075.6875 - rmse: 649.6735 - val_loss: 435286.5312 - val_rmse: 659.7625 - 755ms/epoch - 3ms/step\n",
      "Epoch 76/200\n",
      "259/259 - 1s - loss: 417874.9688 - rmse: 646.4325 - val_loss: 430635.1875 - val_rmse: 656.2280 - 851ms/epoch - 3ms/step\n",
      "Epoch 77/200\n",
      "259/259 - 1s - loss: 413614.5000 - rmse: 643.1287 - val_loss: 426149.0000 - val_rmse: 652.8009 - 783ms/epoch - 3ms/step\n",
      "Epoch 78/200\n",
      "259/259 - 1s - loss: 409541.6562 - rmse: 639.9544 - val_loss: 421255.7500 - val_rmse: 649.0422 - 733ms/epoch - 3ms/step\n",
      "Epoch 79/200\n",
      "259/259 - 1s - loss: 405298.3125 - rmse: 636.6304 - val_loss: 416576.6250 - val_rmse: 645.4275 - 835ms/epoch - 3ms/step\n",
      "Epoch 80/200\n",
      "259/259 - 1s - loss: 401138.8750 - rmse: 633.3552 - val_loss: 412026.8750 - val_rmse: 641.8932 - 763ms/epoch - 3ms/step\n",
      "Epoch 81/200\n",
      "259/259 - 1s - loss: 396865.4062 - rmse: 629.9725 - val_loss: 407416.7500 - val_rmse: 638.2921 - 779ms/epoch - 3ms/step\n",
      "Epoch 82/200\n",
      "259/259 - 1s - loss: 392621.0625 - rmse: 626.5948 - val_loss: 402817.7500 - val_rmse: 634.6793 - 866ms/epoch - 3ms/step\n",
      "Epoch 83/200\n",
      "259/259 - 1s - loss: 388368.2500 - rmse: 623.1920 - val_loss: 398218.2812 - val_rmse: 631.0454 - 784ms/epoch - 3ms/step\n",
      "Epoch 84/200\n",
      "259/259 - 1s - loss: 384114.2500 - rmse: 619.7695 - val_loss: 393608.7812 - val_rmse: 627.3825 - 833ms/epoch - 3ms/step\n",
      "Epoch 85/200\n",
      "259/259 - 1s - loss: 379808.6250 - rmse: 616.2861 - val_loss: 389014.6250 - val_rmse: 623.7104 - 780ms/epoch - 3ms/step\n",
      "Epoch 86/200\n",
      "259/259 - 1s - loss: 375678.3438 - rmse: 612.9260 - val_loss: 384081.3125 - val_rmse: 619.7429 - 808ms/epoch - 3ms/step\n",
      "Epoch 87/200\n",
      "259/259 - 1s - loss: 371438.8750 - rmse: 609.4578 - val_loss: 380112.3750 - val_rmse: 616.5325 - 818ms/epoch - 3ms/step\n",
      "Epoch 88/200\n",
      "259/259 - 1s - loss: 367354.2500 - rmse: 606.0975 - val_loss: 376031.4688 - val_rmse: 613.2141 - 887ms/epoch - 3ms/step\n",
      "Epoch 89/200\n",
      "259/259 - 1s - loss: 363133.7188 - rmse: 602.6058 - val_loss: 371951.7812 - val_rmse: 609.8785 - 880ms/epoch - 3ms/step\n",
      "Epoch 90/200\n",
      "259/259 - 1s - loss: 359053.6875 - rmse: 599.2109 - val_loss: 368317.7188 - val_rmse: 606.8918 - 790ms/epoch - 3ms/step\n",
      "Epoch 91/200\n",
      "259/259 - 1s - loss: 354949.3750 - rmse: 595.7763 - val_loss: 363845.3438 - val_rmse: 603.1959 - 901ms/epoch - 3ms/step\n",
      "Epoch 92/200\n",
      "259/259 - 1s - loss: 350867.9375 - rmse: 592.3411 - val_loss: 359954.4688 - val_rmse: 599.9620 - 893ms/epoch - 3ms/step\n",
      "Epoch 93/200\n",
      "259/259 - 1s - loss: 346777.1562 - rmse: 588.8779 - val_loss: 355705.9375 - val_rmse: 596.4109 - 826ms/epoch - 3ms/step\n",
      "Epoch 94/200\n",
      "259/259 - 1s - loss: 342656.5312 - rmse: 585.3687 - val_loss: 352093.8125 - val_rmse: 593.3749 - 743ms/epoch - 3ms/step\n",
      "Epoch 95/200\n",
      "259/259 - 1s - loss: 338574.8125 - rmse: 581.8718 - val_loss: 348083.1250 - val_rmse: 589.9857 - 759ms/epoch - 3ms/step\n",
      "Epoch 96/200\n",
      "259/259 - 1s - loss: 334480.8438 - rmse: 578.3432 - val_loss: 344467.4375 - val_rmse: 586.9135 - 787ms/epoch - 3ms/step\n",
      "Epoch 97/200\n",
      "259/259 - 1s - loss: 330514.4062 - rmse: 574.9038 - val_loss: 340498.8750 - val_rmse: 583.5228 - 862ms/epoch - 3ms/step\n",
      "Epoch 98/200\n",
      "259/259 - 1s - loss: 326487.1875 - rmse: 571.3906 - val_loss: 337519.8438 - val_rmse: 580.9646 - 778ms/epoch - 3ms/step\n",
      "Epoch 99/200\n",
      "259/259 - 1s - loss: 322520.5938 - rmse: 567.9090 - val_loss: 332718.2812 - val_rmse: 576.8174 - 801ms/epoch - 3ms/step\n",
      "Epoch 100/200\n",
      "259/259 - 1s - loss: 318616.5000 - rmse: 564.4612 - val_loss: 329273.1250 - val_rmse: 573.8232 - 907ms/epoch - 4ms/step\n",
      "Epoch 101/200\n",
      "259/259 - 1s - loss: 314731.1250 - rmse: 561.0090 - val_loss: 325812.5938 - val_rmse: 570.8000 - 823ms/epoch - 3ms/step\n",
      "Epoch 102/200\n",
      "259/259 - 1s - loss: 310994.2188 - rmse: 557.6686 - val_loss: 323146.1875 - val_rmse: 568.4595 - 861ms/epoch - 3ms/step\n",
      "Epoch 103/200\n",
      "259/259 - 1s - loss: 307131.7500 - rmse: 554.1947 - val_loss: 319368.9375 - val_rmse: 565.1274 - 913ms/epoch - 4ms/step\n",
      "Epoch 104/200\n",
      "259/259 - 1s - loss: 303364.6250 - rmse: 550.7855 - val_loss: 316559.1875 - val_rmse: 562.6359 - 768ms/epoch - 3ms/step\n",
      "Epoch 105/200\n",
      "259/259 - 1s - loss: 299589.8125 - rmse: 547.3480 - val_loss: 313207.4688 - val_rmse: 559.6494 - 858ms/epoch - 3ms/step\n",
      "Epoch 106/200\n",
      "259/259 - 1s - loss: 295945.0000 - rmse: 544.0083 - val_loss: 310118.1875 - val_rmse: 556.8826 - 775ms/epoch - 3ms/step\n",
      "Epoch 107/200\n",
      "259/259 - 1s - loss: 292268.7188 - rmse: 540.6188 - val_loss: 307500.7188 - val_rmse: 554.5275 - 845ms/epoch - 3ms/step\n",
      "Epoch 108/200\n",
      "259/259 - 1s - loss: 288669.5000 - rmse: 537.2797 - val_loss: 304928.4375 - val_rmse: 552.2032 - 795ms/epoch - 3ms/step\n",
      "Epoch 109/200\n",
      "259/259 - 1s - loss: 285064.0312 - rmse: 533.9139 - val_loss: 301612.9688 - val_rmse: 549.1930 - 809ms/epoch - 3ms/step\n",
      "Epoch 110/200\n",
      "259/259 - 1s - loss: 281548.3125 - rmse: 530.6113 - val_loss: 298399.0625 - val_rmse: 546.2592 - 862ms/epoch - 3ms/step\n",
      "Epoch 111/200\n",
      "259/259 - 1s - loss: 277958.8125 - rmse: 527.2180 - val_loss: 295943.9688 - val_rmse: 544.0073 - 829ms/epoch - 3ms/step\n",
      "Epoch 112/200\n",
      "259/259 - 1s - loss: 274476.5625 - rmse: 523.9051 - val_loss: 293626.0312 - val_rmse: 541.8727 - 856ms/epoch - 3ms/step\n",
      "Epoch 113/200\n",
      "259/259 - 1s - loss: 271002.1562 - rmse: 520.5787 - val_loss: 290871.3438 - val_rmse: 539.3249 - 823ms/epoch - 3ms/step\n",
      "Epoch 114/200\n",
      "259/259 - 1s - loss: 267576.5938 - rmse: 517.2781 - val_loss: 289585.9688 - val_rmse: 538.1319 - 846ms/epoch - 3ms/step\n",
      "Epoch 115/200\n",
      "259/259 - 1s - loss: 264203.6250 - rmse: 514.0074 - val_loss: 287260.1250 - val_rmse: 535.9666 - 840ms/epoch - 3ms/step\n",
      "Epoch 116/200\n",
      "259/259 - 1s - loss: 260820.9844 - rmse: 510.7064 - val_loss: 284853.9062 - val_rmse: 533.7170 - 815ms/epoch - 3ms/step\n",
      "Epoch 117/200\n",
      "259/259 - 1s - loss: 257546.2188 - rmse: 507.4901 - val_loss: 282784.2188 - val_rmse: 531.7746 - 884ms/epoch - 3ms/step\n",
      "Epoch 118/200\n",
      "259/259 - 1s - loss: 254274.1562 - rmse: 504.2560 - val_loss: 281169.4688 - val_rmse: 530.2542 - 884ms/epoch - 3ms/step\n",
      "Epoch 119/200\n",
      "259/259 - 1s - loss: 251161.6719 - rmse: 501.1603 - val_loss: 279134.2188 - val_rmse: 528.3315 - 838ms/epoch - 3ms/step\n",
      "Epoch 120/200\n",
      "259/259 - 1s - loss: 248037.2188 - rmse: 498.0334 - val_loss: 277171.5938 - val_rmse: 526.4709 - 932ms/epoch - 4ms/step\n",
      "Epoch 121/200\n",
      "259/259 - 1s - loss: 245017.3125 - rmse: 494.9922 - val_loss: 274900.9062 - val_rmse: 524.3099 - 858ms/epoch - 3ms/step\n",
      "Epoch 122/200\n",
      "259/259 - 1s - loss: 242046.4531 - rmse: 491.9822 - val_loss: 274105.5312 - val_rmse: 523.5509 - 827ms/epoch - 3ms/step\n",
      "Epoch 123/200\n",
      "259/259 - 1s - loss: 239117.1875 - rmse: 488.9961 - val_loss: 272262.8125 - val_rmse: 521.7881 - 813ms/epoch - 3ms/step\n",
      "Epoch 124/200\n",
      "259/259 - 1s - loss: 236154.8750 - rmse: 485.9577 - val_loss: 270513.3125 - val_rmse: 520.1089 - 812ms/epoch - 3ms/step\n"
     ]
    },
    {
     "name": "stdout",
     "output_type": "stream",
     "text": [
      "Epoch 125/200\n",
      "259/259 - 1s - loss: 233295.3438 - rmse: 483.0066 - val_loss: 268964.6562 - val_rmse: 518.6180 - 826ms/epoch - 3ms/step\n",
      "Epoch 126/200\n",
      "259/259 - 1s - loss: 230453.6406 - rmse: 480.0559 - val_loss: 267230.2188 - val_rmse: 516.9432 - 718ms/epoch - 3ms/step\n",
      "Epoch 127/200\n",
      "259/259 - 1s - loss: 227751.9062 - rmse: 477.2336 - val_loss: 265896.8125 - val_rmse: 515.6519 - 802ms/epoch - 3ms/step\n",
      "Epoch 128/200\n",
      "259/259 - 1s - loss: 224992.8594 - rmse: 474.3341 - val_loss: 262168.8438 - val_rmse: 512.0242 - 825ms/epoch - 3ms/step\n",
      "Epoch 129/200\n",
      "259/259 - 1s - loss: 222338.7656 - rmse: 471.5281 - val_loss: 262429.8438 - val_rmse: 512.2791 - 914ms/epoch - 4ms/step\n",
      "Epoch 130/200\n",
      "259/259 - 1s - loss: 219766.5781 - rmse: 468.7927 - val_loss: 261148.4531 - val_rmse: 511.0269 - 883ms/epoch - 3ms/step\n",
      "Epoch 131/200\n",
      "259/259 - 1s - loss: 217209.2344 - rmse: 466.0571 - val_loss: 260158.9375 - val_rmse: 510.0578 - 928ms/epoch - 4ms/step\n",
      "Epoch 132/200\n",
      "259/259 - 1s - loss: 214651.5469 - rmse: 463.3050 - val_loss: 258230.1094 - val_rmse: 508.1635 - 993ms/epoch - 4ms/step\n",
      "Epoch 133/200\n",
      "259/259 - 1s - loss: 212105.5312 - rmse: 460.5492 - val_loss: 257608.5156 - val_rmse: 507.5515 - 879ms/epoch - 3ms/step\n",
      "Epoch 134/200\n",
      "259/259 - 1s - loss: 209583.5781 - rmse: 457.8030 - val_loss: 258952.2344 - val_rmse: 508.8735 - 883ms/epoch - 3ms/step\n",
      "Epoch 135/200\n",
      "259/259 - 1s - loss: 207247.2812 - rmse: 455.2442 - val_loss: 257554.3906 - val_rmse: 507.4982 - 802ms/epoch - 3ms/step\n",
      "Epoch 136/200\n",
      "259/259 - 1s - loss: 204788.3906 - rmse: 452.5355 - val_loss: 257481.1406 - val_rmse: 507.4260 - 873ms/epoch - 3ms/step\n",
      "Epoch 137/200\n",
      "259/259 - 1s - loss: 202432.9688 - rmse: 449.9255 - val_loss: 257304.9688 - val_rmse: 507.2524 - 787ms/epoch - 3ms/step\n",
      "Epoch 138/200\n",
      "259/259 - 1s - loss: 200107.9062 - rmse: 447.3342 - val_loss: 256633.0625 - val_rmse: 506.5896 - 835ms/epoch - 3ms/step\n",
      "Epoch 139/200\n",
      "259/259 - 1s - loss: 197923.7500 - rmse: 444.8862 - val_loss: 256060.0625 - val_rmse: 506.0238 - 839ms/epoch - 3ms/step\n",
      "Epoch 140/200\n",
      "259/259 - 1s - loss: 195648.9219 - rmse: 442.3222 - val_loss: 253772.7812 - val_rmse: 503.7587 - 771ms/epoch - 3ms/step\n",
      "Epoch 141/200\n",
      "259/259 - 1s - loss: 193365.0312 - rmse: 439.7329 - val_loss: 253277.0000 - val_rmse: 503.2663 - 865ms/epoch - 3ms/step\n",
      "Epoch 142/200\n",
      "259/259 - 1s - loss: 191259.6719 - rmse: 437.3325 - val_loss: 253981.2812 - val_rmse: 503.9655 - 862ms/epoch - 3ms/step\n",
      "Epoch 143/200\n",
      "259/259 - 1s - loss: 189148.3125 - rmse: 434.9118 - val_loss: 253569.0469 - val_rmse: 503.5564 - 891ms/epoch - 3ms/step\n",
      "Epoch 144/200\n",
      "259/259 - 1s - loss: 187089.8906 - rmse: 432.5389 - val_loss: 250644.9688 - val_rmse: 500.6446 - 843ms/epoch - 3ms/step\n",
      "Epoch 145/200\n",
      "259/259 - 1s - loss: 185104.6406 - rmse: 430.2379 - val_loss: 251342.0000 - val_rmse: 501.3402 - 781ms/epoch - 3ms/step\n",
      "Epoch 146/200\n",
      "259/259 - 1s - loss: 183238.4375 - rmse: 428.0636 - val_loss: 250061.0781 - val_rmse: 500.0611 - 789ms/epoch - 3ms/step\n",
      "Epoch 147/200\n",
      "259/259 - 1s - loss: 181431.6875 - rmse: 425.9480 - val_loss: 248492.6562 - val_rmse: 498.4904 - 839ms/epoch - 3ms/step\n",
      "Epoch 148/200\n",
      "259/259 - 1s - loss: 179650.7656 - rmse: 423.8523 - val_loss: 249640.1250 - val_rmse: 499.6400 - 853ms/epoch - 3ms/step\n",
      "Epoch 149/200\n",
      "259/259 - 1s - loss: 177481.7188 - rmse: 421.2858 - val_loss: 247018.3906 - val_rmse: 497.0095 - 777ms/epoch - 3ms/step\n",
      "Epoch 150/200\n",
      "259/259 - 1s - loss: 175541.4219 - rmse: 418.9766 - val_loss: 244561.0312 - val_rmse: 494.5311 - 824ms/epoch - 3ms/step\n",
      "Epoch 151/200\n",
      "259/259 - 1s - loss: 173329.8281 - rmse: 416.3290 - val_loss: 244700.8594 - val_rmse: 494.6725 - 782ms/epoch - 3ms/step\n",
      "Epoch 152/200\n",
      "259/259 - 1s - loss: 171567.2656 - rmse: 414.2068 - val_loss: 241910.2031 - val_rmse: 491.8437 - 748ms/epoch - 3ms/step\n",
      "Epoch 153/200\n",
      "259/259 - 1s - loss: 169976.3438 - rmse: 412.2819 - val_loss: 245135.8125 - val_rmse: 495.1119 - 828ms/epoch - 3ms/step\n",
      "Epoch 154/200\n",
      "259/259 - 1s - loss: 168720.5938 - rmse: 410.7561 - val_loss: 238241.5781 - val_rmse: 488.1000 - 902ms/epoch - 3ms/step\n",
      "Epoch 155/200\n",
      "259/259 - 1s - loss: 167081.6875 - rmse: 408.7563 - val_loss: 244150.0312 - val_rmse: 494.1154 - 845ms/epoch - 3ms/step\n",
      "Epoch 156/200\n",
      "259/259 - 1s - loss: 165841.4219 - rmse: 407.2363 - val_loss: 238523.8125 - val_rmse: 488.3890 - 852ms/epoch - 3ms/step\n",
      "Epoch 157/200\n",
      "259/259 - 1s - loss: 164117.5625 - rmse: 405.1143 - val_loss: 235941.0469 - val_rmse: 485.7376 - 821ms/epoch - 3ms/step\n",
      "Epoch 158/200\n",
      "259/259 - 1s - loss: 162464.5625 - rmse: 403.0689 - val_loss: 236441.2812 - val_rmse: 486.2523 - 843ms/epoch - 3ms/step\n",
      "Epoch 159/200\n",
      "259/259 - 1s - loss: 160123.6250 - rmse: 400.1545 - val_loss: 234036.7812 - val_rmse: 483.7735 - 884ms/epoch - 3ms/step\n",
      "Epoch 160/200\n",
      "259/259 - 1s - loss: 158725.5938 - rmse: 398.4038 - val_loss: 233469.8438 - val_rmse: 483.1872 - 794ms/epoch - 3ms/step\n",
      "Epoch 161/200\n",
      "259/259 - 1s - loss: 157857.7188 - rmse: 397.3131 - val_loss: 237555.8125 - val_rmse: 487.3970 - 888ms/epoch - 3ms/step\n",
      "Epoch 162/200\n",
      "259/259 - 1s - loss: 156162.2656 - rmse: 395.1737 - val_loss: 235550.9688 - val_rmse: 485.3359 - 804ms/epoch - 3ms/step\n",
      "Epoch 163/200\n",
      "259/259 - 1s - loss: 154618.9531 - rmse: 393.2162 - val_loss: 232648.5781 - val_rmse: 482.3366 - 826ms/epoch - 3ms/step\n",
      "Epoch 164/200\n",
      "259/259 - 1s - loss: 152826.0625 - rmse: 390.9297 - val_loss: 231028.4844 - val_rmse: 480.6542 - 801ms/epoch - 3ms/step\n",
      "Epoch 165/200\n",
      "259/259 - 1s - loss: 151662.5781 - rmse: 389.4388 - val_loss: 229835.5312 - val_rmse: 479.4117 - 897ms/epoch - 3ms/step\n",
      "Epoch 166/200\n",
      "259/259 - 1s - loss: 151055.5312 - rmse: 388.6586 - val_loss: 238701.8594 - val_rmse: 488.5712 - 920ms/epoch - 4ms/step\n",
      "Epoch 167/200\n",
      "259/259 - 1s - loss: 149799.0781 - rmse: 387.0388 - val_loss: 222737.8594 - val_rmse: 471.9511 - 794ms/epoch - 3ms/step\n",
      "Epoch 168/200\n",
      "259/259 - 1s - loss: 148049.4688 - rmse: 384.7720 - val_loss: 236144.0469 - val_rmse: 485.9465 - 825ms/epoch - 3ms/step\n",
      "Epoch 169/200\n",
      "259/259 - 1s - loss: 146189.7812 - rmse: 382.3477 - val_loss: 225871.1719 - val_rmse: 475.2591 - 895ms/epoch - 3ms/step\n",
      "Epoch 170/200\n",
      "259/259 - 1s - loss: 144987.2969 - rmse: 380.7720 - val_loss: 227297.0938 - val_rmse: 476.7568 - 853ms/epoch - 3ms/step\n",
      "Epoch 171/200\n",
      "259/259 - 1s - loss: 144812.5469 - rmse: 380.5424 - val_loss: 223889.6875 - val_rmse: 473.1698 - 903ms/epoch - 3ms/step\n",
      "Epoch 172/200\n",
      "259/259 - 1s - loss: 143346.8750 - rmse: 378.6118 - val_loss: 211861.1875 - val_rmse: 460.2838 - 880ms/epoch - 3ms/step\n",
      "Epoch 173/200\n",
      "259/259 - 1s - loss: 143214.2031 - rmse: 378.4365 - val_loss: 224536.0312 - val_rmse: 473.8523 - 883ms/epoch - 3ms/step\n",
      "Epoch 174/200\n",
      "259/259 - 1s - loss: 141149.1875 - rmse: 375.6983 - val_loss: 210359.5625 - val_rmse: 458.6497 - 893ms/epoch - 3ms/step\n",
      "Epoch 175/200\n",
      "259/259 - 1s - loss: 139940.3125 - rmse: 374.0860 - val_loss: 225060.2500 - val_rmse: 474.4052 - 704ms/epoch - 3ms/step\n",
      "Epoch 176/200\n",
      "259/259 - 1s - loss: 139139.4375 - rmse: 373.0140 - val_loss: 209335.7500 - val_rmse: 457.5322 - 746ms/epoch - 3ms/step\n",
      "Epoch 177/200\n",
      "259/259 - 1s - loss: 137957.4844 - rmse: 371.4263 - val_loss: 208859.2656 - val_rmse: 457.0112 - 941ms/epoch - 4ms/step\n",
      "Epoch 178/200\n",
      "259/259 - 1s - loss: 137568.7812 - rmse: 370.9026 - val_loss: 204600.7969 - val_rmse: 452.3282 - 950ms/epoch - 4ms/step\n",
      "Epoch 179/200\n",
      "259/259 - 1s - loss: 135432.1719 - rmse: 368.0111 - val_loss: 209116.0000 - val_rmse: 457.2920 - 913ms/epoch - 4ms/step\n",
      "Epoch 180/200\n",
      "259/259 - 1s - loss: 134726.9531 - rmse: 367.0517 - val_loss: 209477.7344 - val_rmse: 457.6874 - 884ms/epoch - 3ms/step\n",
      "Epoch 181/200\n",
      "259/259 - 1s - loss: 133224.6406 - rmse: 364.9995 - val_loss: 201681.8125 - val_rmse: 449.0900 - 864ms/epoch - 3ms/step\n",
      "Epoch 182/200\n",
      "259/259 - 1s - loss: 132865.9375 - rmse: 364.5078 - val_loss: 205756.3906 - val_rmse: 453.6038 - 859ms/epoch - 3ms/step\n",
      "Epoch 183/200\n",
      "259/259 - 1s - loss: 131813.1719 - rmse: 363.0609 - val_loss: 200759.4688 - val_rmse: 448.0619 - 908ms/epoch - 4ms/step\n",
      "Epoch 184/200\n",
      "259/259 - 1s - loss: 130558.9531 - rmse: 361.3294 - val_loss: 203546.0156 - val_rmse: 451.1607 - 858ms/epoch - 3ms/step\n",
      "Epoch 185/200\n",
      "259/259 - 1s - loss: 129052.5156 - rmse: 359.2388 - val_loss: 206900.9219 - val_rmse: 454.8636 - 838ms/epoch - 3ms/step\n",
      "Epoch 186/200\n",
      "259/259 - 1s - loss: 128040.6719 - rmse: 357.8277 - val_loss: 198231.8125 - val_rmse: 445.2323 - 828ms/epoch - 3ms/step\n"
     ]
    },
    {
     "name": "stdout",
     "output_type": "stream",
     "text": [
      "Epoch 187/200\n",
      "259/259 - 1s - loss: 128561.0625 - rmse: 358.5541 - val_loss: 204106.4531 - val_rmse: 451.7814 - 757ms/epoch - 3ms/step\n",
      "Epoch 188/200\n",
      "259/259 - 1s - loss: 128105.3125 - rmse: 357.9180 - val_loss: 201229.7188 - val_rmse: 448.5864 - 892ms/epoch - 3ms/step\n",
      "Epoch 189/200\n",
      "259/259 - 1s - loss: 127153.0547 - rmse: 356.5853 - val_loss: 194838.1875 - val_rmse: 441.4048 - 919ms/epoch - 4ms/step\n",
      "Epoch 190/200\n",
      "259/259 - 1s - loss: 125979.3516 - rmse: 354.9357 - val_loss: 198328.7344 - val_rmse: 445.3412 - 822ms/epoch - 3ms/step\n",
      "Epoch 191/200\n",
      "259/259 - 1s - loss: 124367.8828 - rmse: 352.6583 - val_loss: 195432.0938 - val_rmse: 442.0770 - 827ms/epoch - 3ms/step\n",
      "Epoch 192/200\n",
      "259/259 - 1s - loss: 122975.6250 - rmse: 350.6788 - val_loss: 192909.0312 - val_rmse: 439.2141 - 824ms/epoch - 3ms/step\n",
      "Epoch 193/200\n",
      "259/259 - 1s - loss: 122737.1406 - rmse: 350.3386 - val_loss: 202130.4688 - val_rmse: 449.5892 - 792ms/epoch - 3ms/step\n",
      "Epoch 194/200\n",
      "259/259 - 1s - loss: 121298.7109 - rmse: 348.2796 - val_loss: 179555.7969 - val_rmse: 423.7402 - 760ms/epoch - 3ms/step\n",
      "Epoch 195/200\n",
      "259/259 - 1s - loss: 121107.6094 - rmse: 348.0052 - val_loss: 216346.3438 - val_rmse: 465.1305 - 810ms/epoch - 3ms/step\n",
      "Epoch 196/200\n",
      "259/259 - 1s - loss: 120533.7734 - rmse: 347.1797 - val_loss: 191356.3906 - val_rmse: 437.4430 - 801ms/epoch - 3ms/step\n",
      "Epoch 197/200\n",
      "259/259 - 1s - loss: 119571.3906 - rmse: 345.7910 - val_loss: 219872.4375 - val_rmse: 468.9056 - 799ms/epoch - 3ms/step\n",
      "Epoch 198/200\n",
      "259/259 - 1s - loss: 119356.4062 - rmse: 345.4799 - val_loss: 178736.6094 - val_rmse: 422.7725 - 870ms/epoch - 3ms/step\n",
      "Epoch 199/200\n",
      "259/259 - 1s - loss: 118520.7891 - rmse: 344.2685 - val_loss: 202937.7656 - val_rmse: 450.4861 - 838ms/epoch - 3ms/step\n",
      "Epoch 200/200\n",
      "259/259 - 1s - loss: 117617.9688 - rmse: 342.9548 - val_loss: 174825.6875 - val_rmse: 418.1216 - 824ms/epoch - 3ms/step\n"
     ]
    }
   ],
   "source": [
    "hist = model.fit(\n",
    "    x=X_train,\n",
    "    y=y_train,\n",
    "    validation_data=(X_valid,y_valid), # DNN 학습시 검증데이터가 필요함 => 미리 학습과 검증 데이터로 나누었을 경우\n",
    "#    validation_split=0.1,             # DNN 학습시 검증데이터가 필요함 => 미리 나누지 않을 경우\n",
    "    batch_size=64, \n",
    "    epochs=200,    #X_train데이터 갯수를 64로 쪼갬. * 200번 \n",
    "    callbacks=[keras.callbacks.EarlyStopping(monitor='val_loss', patience=5)], # 검증데이터의 Loss가 5회연속 감소하지 않으면 학습 중단.\n",
    "    shuffle=False,       # 재현을 위해 False로 설정.\n",
    "    verbose=2,\n",
    ")"
   ]
  },
  {
   "cell_type": "code",
   "execution_count": null,
   "id": "73b5cb2a",
   "metadata": {},
   "outputs": [],
   "source": [
    "#nn은 학습할때 중간중간에 확인해줘야함. "
   ]
  },
  {
   "cell_type": "code",
   "execution_count": 17,
   "id": "00d819fc",
   "metadata": {},
   "outputs": [
    {
     "data": {
      "image/png": "[encoded data removed]",
      "text/plain": [
       "<Figure size 640x480 with 1 Axes>"
      ]
     },
     "metadata": {},
     "output_type": "display_data"
    }
   ],
   "source": [
    "# 러닝커브 그리기: 학습이 잘되었는지 어느정도 판단할 수 있음.\n",
    "\n",
    "plt.plot(hist.history['rmse'], label=\"train\")\n",
    "plt.plot(hist.history['val_rmse'], label=\"valid\")\n",
    "plt.xlabel('epoch')\n",
    "plt.ylabel('RMSE')\n",
    "plt.legend()\n",
    "plt.show()"
   ]
  },
  {
   "cell_type": "code",
   "execution_count": null,
   "id": "ac55b061",
   "metadata": {},
   "outputs": [],
   "source": [
    "#validation loss 를봐야함 . \n",
    "#그래프가 올라가는 형태의 underfitting이 발생하면 해결불가임.. \n",
    "#차라리 내려가는게 나음. 그러면 overfitting이니까 규제화를 해서 조금은 해결할수있음. "
   ]
  },
  {
   "cell_type": "code",
   "execution_count": 18,
   "id": "80548c74",
   "metadata": {},
   "outputs": [
    {
     "name": "stdout",
     "output_type": "stream",
     "text": [
      "52/52 [==============================] - 0s 2ms/step - loss: 174825.7188 - rmse: 418.1216\n",
      "valid loss, valid rmse: [174825.71875, 418.12164306640625]\n"
     ]
    }
   ],
   "source": [
    "results = model.evaluate(X_valid, y_valid)\n",
    "print(\"valid loss, valid rmse:\", results)"
   ]
  },
  {
   "cell_type": "markdown",
   "id": "34f2fbba",
   "metadata": {},
   "source": [
    "<font color=\"blue\"><p>\n",
    "- 4단계: 예측하기"
   ]
  },
  {
   "cell_type": "code",
   "execution_count": 19,
   "id": "9b91a1b1",
   "metadata": {},
   "outputs": [
    {
     "name": "stdout",
     "output_type": "stream",
     "text": [
      "346/346 [==============================] - 1s 1ms/step\n"
     ]
    }
   ],
   "source": [
    "# 예측값 얻기: sklearn 과 달리 2차원 array로 출력 => 1차원으로 변경 필요.\n",
    "pred = model.predict(X_test).flatten()\n",
    "\n",
    "# # submission 화일 생성\n",
    "# filename = f'dnn_{DNN_VERSION}_{hist.history[\"val_rmse\"][-1]:.2f}.csv'\n",
    "# pd.DataFrame({'ID':test_id, 'Salary':pred}).to_csv(filename, index=False)\n",
    "\n",
    "# print(f'{filename} is ready to submit.')"
   ]
  },
  {
   "cell_type": "code",
   "execution_count": 27,
   "id": "8fc475b8",
   "metadata": {},
   "outputs": [
    {
     "data": {
      "text/plain": [
       "(11048,)"
      ]
     },
     "execution_count": 27,
     "metadata": {},
     "output_type": "execute_result"
    }
   ],
   "source": [
    "pred.shape"
   ]
  },
  {
   "cell_type": "code",
   "execution_count": null,
   "id": "8db15c97",
   "metadata": {},
   "outputs": [],
   "source": [
    "#nn은 artecture를 쌓는거부터 hyper parameter를 만드는 것과똑같음. "
   ]
  },
  {
   "cell_type": "markdown",
   "id": "61279d21",
   "metadata": {},
   "source": [
    "#### 만들어진 submission 화일을 아래 사이트에서 Late Submission한 후 성능을 확인!\n",
    "https://www.kaggle.com/competitions/kml2022f"
   ]
  },
  {
   "cell_type": "markdown",
   "id": "e79de56d",
   "metadata": {},
   "source": [
    "<font color=\"#CC3D3D\"><p>\n",
    "# End"
   ]
  }
 ],
 "metadata": {
  "kernelspec": {
   "display_name": "Python 3 (ipykernel)",
   "language": "python",
   "name": "python3"
  },
  "language_info": {
   "codemirror_mode": {
    "name": "ipython",
    "version": 3
   },
   "file_extension": ".py",
   "mimetype": "text/x-python",
   "name": "python",
   "nbconvert_exporter": "python",
   "pygments_lexer": "ipython3",
   "version": "3.8.16"
  }
 },
 "nbformat": 4,
 "nbformat_minor": 5
}
