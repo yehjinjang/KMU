{
 "cells": [
  {
   "cell_type": "markdown",
   "id": "5da7e746",
   "metadata": {},
   "source": [
    "<font color=\"#CC3D3D\"><p>\n",
    "# [Competition] Building a `DNN` Model with `KerasTuner`"
   ]
  },
  {
   "cell_type": "markdown",
   "id": "92c2bda2",
   "metadata": {},
   "source": [
    "- `KerasTuner`는 Google에서 만든 사용하기 쉽고 확장 가능한 TensorFlow 하이퍼파라미터 최적화 프레임워크\n",
    "- `Define-by-Run` 문법을 사용하여 검색 공간을 쉽게 구성한 후 최적화 알고리즘 중 하나를 사용하여 해당 모델에 가장 적합한 하이퍼 파라미터 값을 탐색\n",
    "  - 사용 가능한 최적화 알고리즘: Hyperband, Bayesian Optimization, Random Search"
   ]
  },
  {
   "cell_type": "markdown",
   "id": "56d30296",
   "metadata": {},
   "source": [
    "####  전역변수 설정"
   ]
  },
  {
   "cell_type": "code",
   "execution_count": 1,
   "id": "fdd241e7",
   "metadata": {},
   "outputs": [],
   "source": [
    "DNN_VERSION = 2.0  # submission 화일명에 사용\n",
    "SEED = 0           # random_state 지정\n",
    "BATCH_SIZE = 32    # batch size 지정"
   ]
  },
  {
   "cell_type": "code",
   "execution_count": 2,
   "id": "4e814cb7",
   "metadata": {},
   "outputs": [],
   "source": [
    "#pip install keras-tuner --upgrade"
   ]
  },
  {
   "cell_type": "code",
   "execution_count": 3,
   "id": "b30716da",
   "metadata": {},
   "outputs": [
    {
     "name": "stdout",
     "output_type": "stream",
     "text": [
      "2.10.0\n"
     ]
    }
   ],
   "source": [
    "%matplotlib inline\n",
    "import warnings\n",
    "warnings.filterwarnings(\"ignore\")\n",
    "\n",
    "import pandas as pd\n",
    "import numpy as np\n",
    "import matplotlib.pyplot as plt\n",
    "import seaborn as sns\n",
    "from sklearn.model_selection import train_test_split\n",
    "import random\n",
    "\n",
    "import tensorflow as tf\n",
    "from tensorflow import keras\n",
    "import kerastuner as kt\n",
    "print(tf.__version__)"
   ]
  },
  {
   "cell_type": "code",
   "execution_count": 4,
   "id": "57bb9d53",
   "metadata": {},
   "outputs": [],
   "source": [
    "# 매번 모델링을 할 때마다 동일한 결과를 얻으려면 아래 코드를 실행해야 함.\n",
    "\n",
    "def reset_seeds(seed, reset_graph_with_backend=None):\n",
    "    if reset_graph_with_backend is not None:\n",
    "        K = reset_graph_with_backend\n",
    "        K.clear_session()\n",
    "        tf.compat.v1.reset_default_graph()\n",
    "        print(\"KERAS AND TENSORFLOW GRAPHS RESET\")  # optional\n",
    "\n",
    "    np.random.seed(seed)\n",
    "    random.seed(seed)\n",
    "    tf.compat.v1.set_random_seed(seed)\n",
    "#    os.environ['CUDA_VISIBLE_DEVICES'] = ''  # for GPU\n",
    "#    print(\"RANDOM SEEDS RESET\")  # optional"
   ]
  },
  {
   "cell_type": "markdown",
   "id": "ba99e2ab",
   "metadata": {},
   "source": [
    "#### (전처리된) 데이터 로딩"
   ]
  },
  {
   "cell_type": "code",
   "execution_count": 5,
   "id": "73cbd1fc",
   "metadata": {},
   "outputs": [],
   "source": [
    "# 학습 데이터\n",
    "X_train = pd.read_csv('X_train_preprocessed.csv').drop(columns='ID')\n",
    "y_train = pd.read_csv('y_train.csv').Salary\n",
    "\n",
    "# 평가 데이터\n",
    "X_test = pd.read_csv('X_test_preprocessed.csv')\n",
    "test_id = X_test.ID\n",
    "X_test = X_test.drop(columns='ID')"
   ]
  },
  {
   "cell_type": "code",
   "execution_count": 6,
   "id": "66e6b3f0",
   "metadata": {},
   "outputs": [],
   "source": [
    "# 학습 데이터를 다시 학습과 검증 데이터로 분할\n",
    "X_train, X_valid, y_train, y_valid = train_test_split(X_train, y_train, test_size=0.1, random_state=SEED)"
   ]
  },
  {
   "cell_type": "markdown",
   "id": "3806eb8c",
   "metadata": {},
   "source": [
    "<font color=\"blue\"><p>\n",
    "#### DNN 모형 생성"
   ]
  },
  {
   "cell_type": "markdown",
   "id": "e4635c86",
   "metadata": {},
   "source": [
    "<font color=\"blue\"><p>\n",
    "- 1단계: 하이퍼모델 정의하기"
   ]
  },
  {
   "cell_type": "code",
   "execution_count": 7,
   "id": "32085925",
   "metadata": {},
   "outputs": [],
   "source": [
    "# Hyperparameter 범위지정 함수: hp.Boolean(), hp.Choice(), hp.Float(), hp.Int()\n",
    "\n",
    "def model_fn(hp):\n",
    "    inputs = keras.Input(shape=(X_train.shape[1],))\n",
    "    x = inputs\n",
    "    x = keras.layers.Dense(hp.Choice('units', [32,64,128,256,512]),\n",
    "                           hp.Choice('activation', ['relu','elu','selu','tanh']))(x)\n",
    "    if hp.Boolean(\"dropout\"):\n",
    "        x = keras.layers.Dropout(0.2)(x)\n",
    "    outputs = keras.layers.Dense(1, activation='linear')(x)\n",
    "    model = keras.Model(inputs, outputs)\n",
    "    model.compile(loss='mse', \n",
    "                  optimizer=tf.keras.optimizers.Adam(hp.Choice('learning_rate', [1e-2, 1e-3, 1e-4])), \n",
    "                  metrics=[keras.metrics.RootMeanSquaredError(name='rmse')])\n",
    "    return model"
   ]
  },
  {
   "cell_type": "markdown",
   "id": "99835f67",
   "metadata": {},
   "source": [
    "<font color=\"blue\"><p>\n",
    "- 2단계: Tuner 설정 & 하이퍼튜닝 수행하기"
   ]
  },
  {
   "cell_type": "code",
   "execution_count": 8,
   "id": "899301d0",
   "metadata": {},
   "outputs": [],
   "source": [
    "# Tuner 설정\n",
    "tuner = kt.Hyperband(hypermodel=model_fn,\n",
    "                     objective=kt.Objective('val_rmse', direction=\"min\"), \n",
    "                     max_epochs=10,           # 하나의 모형을 훈련시키는 최대 에포크 수\n",
    "                     hyperband_iterations=1,  # 반복 횟수\n",
    "                     seed=SEED,\n",
    "                     overwrite=True,\n",
    "                     directory='dnn_tuning')"
   ]
  },
  {
   "cell_type": "code",
   "execution_count": 9,
   "id": "f7e42ac7",
   "metadata": {},
   "outputs": [
    {
     "name": "stdout",
     "output_type": "stream",
     "text": [
      "Trial 30 Complete [00h 00m 07s]\n",
      "val_rmse: 2896.3505859375\n",
      "\n",
      "Best val_rmse So Far: 848.4685668945312\n",
      "Total elapsed time: 00h 02m 09s\n",
      "INFO:tensorflow:Oracle triggered exit\n",
      "Results summary\n",
      "Results in dnn_tuning\\untitled_project\n",
      "Showing 1 best trials\n",
      "<keras_tuner.engine.objective.Objective object at 0x0000012F271337F0>\n",
      "Trial summary\n",
      "Hyperparameters:\n",
      "units: 128\n",
      "activation: relu\n",
      "dropout: True\n",
      "learning_rate: 0.01\n",
      "tuner/epochs: 10\n",
      "tuner/initial_epoch: 4\n",
      "tuner/bracket: 2\n",
      "tuner/round: 2\n",
      "tuner/trial_id: 0012\n",
      "Score: 848.4685668945312\n",
      "CPU times: total: 7min 5s\n",
      "Wall time: 2min 9s\n"
     ]
    }
   ],
   "source": [
    "%%time\n",
    "\n",
    "# 하이퍼튜닝 수행: tuner.search()의 파라미터는 Keras의 model.fit() 파라미터와 동일\n",
    "tuner.search(X_train, y_train, \n",
    "             validation_data=(X_valid, y_valid),\n",
    "             batch_size=BATCH_SIZE,\n",
    "             callbacks=[tf.keras.callbacks.EarlyStopping(monitor='val_loss', patience=1)], \n",
    "             verbose=1)\n",
    "\n",
    "# 튜닝결과 요약\n",
    "tuner.results_summary(num_trials=1)"
   ]
  },
  {
   "cell_type": "markdown",
   "id": "4fa9175e",
   "metadata": {},
   "source": [
    "<font color=\"blue\"><p>\n",
    "- 3단계: 최적의 하이퍼파라미터로 모델 재학습하기"
   ]
  },
  {
   "cell_type": "code",
   "execution_count": 10,
   "id": "51646577",
   "metadata": {},
   "outputs": [
    {
     "name": "stdout",
     "output_type": "stream",
     "text": [
      "259/259 - 1s - loss: 676681.6875 - rmse: 822.6066 - 774ms/epoch - 3ms/step\n"
     ]
    }
   ],
   "source": [
    "# 모델 재현시 Seed 고정 필요\n",
    "reset_seeds(SEED)\n",
    "\n",
    "# 베스트 모델 사용\n",
    "model = tuner.get_best_models(1)[0]\n",
    "# submission 화일명에 사용\n",
    "val_rmse = model.evaluate(X_valid, y_valid, verbose=0)[1]\n",
    "\n",
    "# 전체 데이터로 재학습\n",
    "hist = model.fit(\n",
    "    x=np.concatenate((X_train, X_valid)),\n",
    "    y=np.concatenate((y_train, y_valid)),\n",
    "    batch_size=BATCH_SIZE*2, # 튜닝할 때 사용한 값과 다른 값으로 설정하는 것이 좋을 수 있음 \n",
    "    epochs=1,                # 작은값으로 설정\n",
    "    shuffle=False,      \n",
    "    verbose=2,\n",
    ")"
   ]
  },
  {
   "cell_type": "markdown",
   "id": "34f2fbba",
   "metadata": {},
   "source": [
    "<font color=\"blue\"><p>\n",
    "- 4단계: 예측하기"
   ]
  },
  {
   "cell_type": "code",
   "execution_count": 11,
   "id": "9b91a1b1",
   "metadata": {},
   "outputs": [
    {
     "name": "stdout",
     "output_type": "stream",
     "text": [
      "346/346 [==============================] - 0s 1ms/step\n",
      "dnn_2.0_848.47.csv is ready to submit.\n"
     ]
    }
   ],
   "source": [
    "# 예측값 얻기\n",
    "pred = model.predict(X_test).flatten()\n",
    "\n",
    "# submission 화일 생성\n",
    "filename = f'dnn_{DNN_VERSION}_{val_rmse:.2f}.csv'\n",
    "pd.DataFrame({'ID':test_id, 'Salary':pred}).to_csv(filename, index=False)\n",
    "\n",
    "print(f'{filename} is ready to submit.')"
   ]
  },
  {
   "cell_type": "markdown",
   "id": "e79de56d",
   "metadata": {},
   "source": [
    "<font color=\"#CC3D3D\"><p>\n",
    "# End"
   ]
  }
 ],
 "metadata": {
  "kernelspec": {
   "display_name": "Python 3 (ipykernel)",
   "language": "python",
   "name": "python3"
  },
  "language_info": {
   "codemirror_mode": {
    "name": "ipython",
    "version": 3
   },
   "file_extension": ".py",
   "mimetype": "text/x-python",
   "name": "python",
   "nbconvert_exporter": "python",
   "pygments_lexer": "ipython3",
   "version": "3.8.16"
  }
 },
 "nbformat": 4,
 "nbformat_minor": 5
}
