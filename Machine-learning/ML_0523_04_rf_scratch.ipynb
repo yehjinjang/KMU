{
 "cells": [
  {
   "cell_type": "markdown",
   "id": "1a8b97f1",
   "metadata": {},
   "source": [
    "<font color=\"#CC3D3D\"><p>\n",
    "# Implementing RandomForestRegressor as a sklearn custom class"
   ]
  },
  {
   "cell_type": "code",
   "execution_count": null,
   "id": "7d2a2e1e",
   "metadata": {},
   "outputs": [],
   "source": [
    "import pandas as pd\n",
    "import numpy as np\n",
    "from sklearn.model_selection import train_test_split\n",
    "from sklearn.metrics import mean_squared_error\n",
    "from sklearn.tree import DecisionTreeRegressor\n",
    "from sklearn.base import BaseEstimator, RegressorMixin\n",
    "from sklearn.utils import resample"
   ]
  },
  {
   "cell_type": "code",
   "execution_count": null,
   "id": "0e900723",
   "metadata": {},
   "outputs": [],
   "source": [
    "# 데이터셋 로드\n",
    "X = pd.read_csv('X_train_preprocessed.csv').drop(columns='ID')\n",
    "y = pd.read_csv('y_train.csv').Salary\n",
    "\n",
    "# 학습 데이터와 테스트 데이터로 분리\n",
    "X_train, X_test, y_train, y_test = train_test_split(X, y, test_size=0.4, random_state=0)"
   ]
  },
  {
   "cell_type": "code",
   "execution_count": null,
   "id": "fab539c5",
   "metadata": {},
   "outputs": [],
   "source": [
    "# DecisionTreeRegressor 모델 학습 및 예측\n",
    "tree = DecisionTreeRegressor(random_state=0)\n",
    "tree.fit(X_train, y_train)\n",
    "tree_pred = tree.predict(X_test)\n",
    "\n",
    "# 회귀 평가 지표인 평균 제곱근 오차(RMSE) 계산\n",
    "rmse = np.sqrt(mean_squared_error(y_test, tree_pred))\n",
    "print(\"RMSE:\", rmse)"
   ]
  },
  {
   "cell_type": "code",
   "execution_count": null,
   "id": "8505f95f",
   "metadata": {},
   "outputs": [],
   "source": [
    "class MyRandomForestRegressor(BaseEstimator, RegressorMixin):\n",
    "    def __init__(self, n_estimators=10, max_features=1.0):\n",
    "        self.n_estimators = n_estimators\n",
    "        self.estimators = []\n",
    "        self.max_features = max_features  # Added\n",
    "\n",
    "    def fit(self, X, y):\n",
    "        self.estimators = []\n",
    "        X = X.values  # Added. X가 DF라고 가정\n",
    "        n_features = X.shape[1]  # Added\n",
    "        max_features = max(1, int(self.max_features * n_features))  # Added\n",
    "        for _ in range(self.n_estimators):\n",
    "            estimator = DecisionTreeRegressor()\n",
    "            X_resampled, y_resampled = resample(X, y)\n",
    "            random_feature_indices = np.random.choice(n_features, size=max_features, replace=False)  # Added\n",
    "            X_resampled = X_resampled[:, random_feature_indices]  # Added\n",
    "            estimator.fit(X_resampled, y_resampled)\n",
    "            self.estimators.append((estimator, random_feature_indices))  # Modified\n",
    "\n",
    "    def predict(self, X):\n",
    "        predictions = np.zeros((len(X), self.n_estimators))\n",
    "        X = X.values  # Added. X가 DF라고 가정\n",
    "        for i, (estimator, random_feature_indices) in enumerate(self.estimators):  # Modified\n",
    "            X_subset = X[:, random_feature_indices]  # Added\n",
    "            predictions[:, i] = estimator.predict(X_subset)   # Modified\n",
    "        return np.mean(predictions, axis=1)"
   ]
  },
  {
   "cell_type": "code",
   "execution_count": null,
   "id": "bc7366cb",
   "metadata": {},
   "outputs": [],
   "source": [
    "# RandomForestRegressor 모델 학습 및 예측\n",
    "rf = MyRandomForestRegressor(n_estimators=10)\n",
    "rf.fit(X_train, y_train)\n",
    "rf_pred = rf.predict(X_test)\n",
    "\n",
    "# 회귀 평가 지표인 평균 제곱근 오차(RMSE) 계산\n",
    "rmse = np.sqrt(mean_squared_error(y_test, rf_pred))\n",
    "print(\"RMSE:\", rmse)"
   ]
  },
  {
   "cell_type": "markdown",
   "id": "5606f0ec",
   "metadata": {},
   "source": [
    "<font color=\"#CC3D3D\"><p>\n",
    "# End"
   ]
  }
 ],
 "metadata": {
  "kernelspec": {
   "display_name": "Pytorch2.0, Tensorflow2.11 (kaggle 23.05/Python 3.10 Conda, CUDA 11.3) on Backend.AI",
   "language": "python",
   "name": "python3"
  },
  "language_info": {
   "codemirror_mode": {
    "name": "ipython",
    "version": 3
   },
   "file_extension": ".py",
   "mimetype": "text/x-python",
   "name": "python",
   "nbconvert_exporter": "python",
   "pygments_lexer": "ipython3",
   "version": "3.10.10"
  }
 },
 "nbformat": 4,
 "nbformat_minor": 5
}
