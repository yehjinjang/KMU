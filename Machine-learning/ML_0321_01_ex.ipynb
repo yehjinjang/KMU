{
 "cells": [
  {
   "cell_type": "markdown",
   "metadata": {
    "colab_type": "text",
    "id": "buEwh6a6-Xvz"
   },
   "source": [
    "## digits recognition"
   ]
  },
  {
   "cell_type": "markdown",
   "metadata": {
    "colab_type": "text",
    "id": "_lUO0rwa-Xv0"
   },
   "source": [
    "### Train/Test Split + Fit/Predict/Accuracy"
   ]
  },
  {
   "cell_type": "markdown",
   "metadata": {
    "colab_type": "text",
    "id": "BBP6Rzkt-Xv1"
   },
   "source": [
    "#### ____에 적절한 코드를 입력한 후 실행하세요."
   ]
  },
  {
   "cell_type": "code",
   "execution_count": 1,
   "metadata": {
    "colab": {
     "autoexec": {
      "startup": false,
      "wait_interval": 0
     }
    },
    "colab_type": "code",
    "id": "krn6f13D-Xv1"
   },
   "outputs": [],
   "source": [
    "# Import necessary modules\n",
    "from sklearn.datasets import load_digits \n",
    "import pandas as pd\n",
    "import numpy as np\n",
    "\n",
    "# Visualization\n",
    "import matplotlib.pylab as plt\n",
    "from matplotlib import font_manager, rc\n",
    "import seaborn as sns\n",
    "%matplotlib inline\n",
    "\n",
    "# Preprocessing\n",
    "from sklearn.model_selection import train_test_split\n",
    "\n",
    "# Modeling\n",
    "from sklearn.neighbors import KNeighborsClassifier"
   ]
  },
  {
   "cell_type": "code",
   "execution_count": 2,
   "metadata": {
    "colab": {
     "autoexec": {
      "startup": false,
      "wait_interval": 0
     }
    },
    "colab_type": "code",
    "id": "sM0sj0bm-Xv5"
   },
   "outputs": [],
   "source": [
    "# Load the digits dataset: digits\n",
    "\n",
    "digits = load_digits()"
   ]
  },
  {
   "cell_type": "code",
   "execution_count": 3,
   "metadata": {
    "colab": {
     "autoexec": {
      "startup": false,
      "wait_interval": 0
     }
    },
    "colab_type": "code",
    "id": "j443pijx-Xv7"
   },
   "outputs": [],
   "source": [
    "# Create feature and target arrays\n",
    "X = digits.data\n",
    "y = digits.target"
   ]
  },
  {
   "cell_type": "code",
   "execution_count": 4,
   "metadata": {
    "colab": {
     "autoexec": {
      "startup": false,
      "wait_interval": 0
     }
    },
    "colab_type": "code",
    "id": "kwUwZsTN-Xv9"
   },
   "outputs": [],
   "source": [
    "# Split X into training and test set\n",
    "from sklearn.model_selection import train_test_split\n",
    "\n",
    "X_train, X_test, y_train, y_test = train_test_split(X, y,test_size=0.4, random_state=123) \n",
    "#학습과 평가데이터를 랜덤하게 쪼개는게 randomstate\n",
    "#그 randomstate를 하나로 고정하면 계속 같은 값이 나오게 됨( 안하면 할때마다 다른 값나옴 )"
   ]
  },
  {
   "cell_type": "code",
   "execution_count": 5,
   "metadata": {
    "colab": {
     "autoexec": {
      "startup": false,
      "wait_interval": 0
     }
    },
    "colab_type": "code",
    "id": "Uu3JCBhF-XwA"
   },
   "outputs": [],
   "source": [
    "# Create a k-NN classifier with 7 neighbors: knn\n",
    "\n",
    "from sklearn.neighbors import KNeighborsClassifier\n",
    "\n",
    "knn = KNeighborsClassifier(n_neighbors=7)"
   ]
  },
  {
   "cell_type": "code",
   "execution_count": 6,
   "metadata": {
    "colab": {
     "autoexec": {
      "startup": false,
      "wait_interval": 0
     }
    },
    "colab_type": "code",
    "id": "8yenmO0_-XwC"
   },
   "outputs": [
    {
     "data": {
      "text/html": [
       "<style>#sk-container-id-1 {color: black;background-color: white;}#sk-container-id-1 pre{padding: 0;}#sk-container-id-1 div.sk-toggleable {background-color: white;}#sk-container-id-1 label.sk-toggleable__label {cursor: pointer;display: block;width: 100%;margin-bottom: 0;padding: 0.3em;box-sizing: border-box;text-align: center;}#sk-container-id-1 label.sk-toggleable__label-arrow:before {content: \"▸\";float: left;margin-right: 0.25em;color: #696969;}#sk-container-id-1 label.sk-toggleable__label-arrow:hover:before {color: black;}#sk-container-id-1 div.sk-estimator:hover label.sk-toggleable__label-arrow:before {color: black;}#sk-container-id-1 div.sk-toggleable__content {max-height: 0;max-width: 0;overflow: hidden;text-align: left;background-color: #f0f8ff;}#sk-container-id-1 div.sk-toggleable__content pre {margin: 0.2em;color: black;border-radius: 0.25em;background-color: #f0f8ff;}#sk-container-id-1 input.sk-toggleable__control:checked~div.sk-toggleable__content {max-height: 200px;max-width: 100%;overflow: auto;}#sk-container-id-1 input.sk-toggleable__control:checked~label.sk-toggleable__label-arrow:before {content: \"▾\";}#sk-container-id-1 div.sk-estimator input.sk-toggleable__control:checked~label.sk-toggleable__label {background-color: #d4ebff;}#sk-container-id-1 div.sk-label input.sk-toggleable__control:checked~label.sk-toggleable__label {background-color: #d4ebff;}#sk-container-id-1 input.sk-hidden--visually {border: 0;clip: rect(1px 1px 1px 1px);clip: rect(1px, 1px, 1px, 1px);height: 1px;margin: -1px;overflow: hidden;padding: 0;position: absolute;width: 1px;}#sk-container-id-1 div.sk-estimator {font-family: monospace;background-color: #f0f8ff;border: 1px dotted black;border-radius: 0.25em;box-sizing: border-box;margin-bottom: 0.5em;}#sk-container-id-1 div.sk-estimator:hover {background-color: #d4ebff;}#sk-container-id-1 div.sk-parallel-item::after {content: \"\";width: 100%;border-bottom: 1px solid gray;flex-grow: 1;}#sk-container-id-1 div.sk-label:hover label.sk-toggleable__label {background-color: #d4ebff;}#sk-container-id-1 div.sk-serial::before {content: \"\";position: absolute;border-left: 1px solid gray;box-sizing: border-box;top: 0;bottom: 0;left: 50%;z-index: 0;}#sk-container-id-1 div.sk-serial {display: flex;flex-direction: column;align-items: center;background-color: white;padding-right: 0.2em;padding-left: 0.2em;position: relative;}#sk-container-id-1 div.sk-item {position: relative;z-index: 1;}#sk-container-id-1 div.sk-parallel {display: flex;align-items: stretch;justify-content: center;background-color: white;position: relative;}#sk-container-id-1 div.sk-item::before, #sk-container-id-1 div.sk-parallel-item::before {content: \"\";position: absolute;border-left: 1px solid gray;box-sizing: border-box;top: 0;bottom: 0;left: 50%;z-index: -1;}#sk-container-id-1 div.sk-parallel-item {display: flex;flex-direction: column;z-index: 1;position: relative;background-color: white;}#sk-container-id-1 div.sk-parallel-item:first-child::after {align-self: flex-end;width: 50%;}#sk-container-id-1 div.sk-parallel-item:last-child::after {align-self: flex-start;width: 50%;}#sk-container-id-1 div.sk-parallel-item:only-child::after {width: 0;}#sk-container-id-1 div.sk-dashed-wrapped {border: 1px dashed gray;margin: 0 0.4em 0.5em 0.4em;box-sizing: border-box;padding-bottom: 0.4em;background-color: white;}#sk-container-id-1 div.sk-label label {font-family: monospace;font-weight: bold;display: inline-block;line-height: 1.2em;}#sk-container-id-1 div.sk-label-container {text-align: center;}#sk-container-id-1 div.sk-container {/* jupyter's `normalize.less` sets `[hidden] { display: none; }` but bootstrap.min.css set `[hidden] { display: none !important; }` so we also need the `!important` here to be able to override the default hidden behavior on the sphinx rendered scikit-learn.org. See: https://github.com/scikit-learn/scikit-learn/issues/21755 */display: inline-block !important;position: relative;}#sk-container-id-1 div.sk-text-repr-fallback {display: none;}</style><div id=\"sk-container-id-1\" class=\"sk-top-container\"><div class=\"sk-text-repr-fallback\"><pre>KNeighborsClassifier(n_neighbors=7)</pre><b>In a Jupyter environment, please rerun this cell to show the HTML representation or trust the notebook. <br />On GitHub, the HTML representation is unable to render, please try loading this page with nbviewer.org.</b></div><div class=\"sk-container\" hidden><div class=\"sk-item\"><div class=\"sk-estimator sk-toggleable\"><input class=\"sk-toggleable__control sk-hidden--visually\" id=\"sk-estimator-id-1\" type=\"checkbox\" checked><label for=\"sk-estimator-id-1\" class=\"sk-toggleable__label sk-toggleable__label-arrow\">KNeighborsClassifier</label><div class=\"sk-toggleable__content\"><pre>KNeighborsClassifier(n_neighbors=7)</pre></div></div></div></div></div>"
      ],
      "text/plain": [
       "KNeighborsClassifier(n_neighbors=7)"
      ]
     },
     "execution_count": 6,
     "metadata": {},
     "output_type": "execute_result"
    }
   ],
   "source": [
    "# Fit the classifier to the training data\n",
    "knn.fit(X_train, y_train)"
   ]
  },
  {
   "cell_type": "code",
   "execution_count": 7,
   "metadata": {
    "colab": {
     "autoexec": {
      "startup": false,
      "wait_interval": 0
     }
    },
    "colab_type": "code",
    "id": "Tsovcz_h-XwE"
   },
   "outputs": [
    {
     "name": "stdout",
     "output_type": "stream",
     "text": [
      "Accuracy of KNN: 0.9763560500695411\n"
     ]
    }
   ],
   "source": [
    "# Print the accuracy\n",
    "accuracy = knn.score(X_test,y_test)\n",
    "print(\"Accuracy of KNN:\", accuracy) #test데이터로 정확도 평가(train은 평가X)\n",
    "#k가 적을수록 과적합이 발생함, k값의 변화에 따라서 적합의 변화가 일어남"
   ]
  },
  {
   "cell_type": "code",
   "execution_count": 8,
   "metadata": {},
   "outputs": [
    {
     "data": {
      "text/plain": [
       "array([3, 3, 4, 4, 1, 3, 1, 0, 7, 4, 0, 0, 5, 1, 6, 0, 3, 1, 0, 6, 9, 7,\n",
       "       7, 5, 4, 5, 7, 0, 0, 9, 1, 6, 8, 6, 1, 4, 6, 2, 1, 6, 0, 6, 2, 0,\n",
       "       2, 3, 9, 8, 8, 1, 2, 8, 6, 5, 1, 6, 4, 6, 0, 4, 3, 5, 6, 2, 8, 8,\n",
       "       8, 2, 0, 1, 7, 9, 4, 7, 3, 9, 4, 3, 3, 8, 3, 5, 4, 6, 1, 2, 4, 2,\n",
       "       4, 5, 8, 4, 1, 7, 6, 7, 5, 5, 6, 3, 9, 4, 6, 6, 8, 1, 7, 5, 6, 4,\n",
       "       9, 8, 7, 0, 9, 0, 2, 9, 0, 5, 1, 4, 4, 2, 2, 0, 7, 3, 6, 8, 2, 5,\n",
       "       2, 3, 3, 9, 6, 7, 4, 0, 7, 3, 2, 2, 2, 3, 8, 1, 7, 1, 5, 7, 9, 1,\n",
       "       3, 2, 6, 0, 7, 9, 6, 0, 2, 6, 3, 1, 5, 5, 9, 6, 1, 8, 6, 1, 3, 4,\n",
       "       4, 2, 0, 5, 9, 0, 7, 0, 7, 5, 8, 4, 8, 8, 3, 7, 9, 8, 2, 0, 3, 4,\n",
       "       9, 4, 1, 8, 7, 0, 5, 4, 5, 2, 2, 1, 4, 2, 0, 8, 7, 3, 2, 9, 2, 3,\n",
       "       8, 0, 6, 0, 2, 8, 7, 5, 4, 8, 0, 1, 5, 5, 0, 9, 8, 7, 7, 1, 4, 2,\n",
       "       4, 7, 1, 3, 0, 8, 2, 8, 6, 6, 3, 5, 6, 4, 5, 4, 6, 5, 7, 7, 9, 9,\n",
       "       1, 0, 4, 6, 1, 7, 3, 9, 8, 1, 0, 4, 5, 6, 8, 2, 5, 8, 4, 0, 8, 3,\n",
       "       1, 6, 6, 4, 6, 1, 4, 6, 6, 4, 1, 5, 3, 0, 1, 6, 0, 2, 5, 5, 8, 8,\n",
       "       2, 6, 0, 1, 1, 5, 1, 6, 9, 2, 8, 2, 4, 9, 8, 3, 3, 3, 2, 4, 0, 9,\n",
       "       4, 3, 6, 0, 2, 1, 3, 3, 2, 5, 9, 0, 7, 5, 9, 7, 6, 4, 7, 9, 6, 7,\n",
       "       4, 1, 5, 9, 6, 5, 5, 0, 8, 9, 3, 2, 7, 4, 7, 5, 7, 1, 8, 7, 5, 5,\n",
       "       8, 4, 1, 0, 0, 8, 3, 0, 9, 2, 9, 1, 0, 0, 6, 9, 0, 7, 1, 4, 7, 1,\n",
       "       0, 4, 1, 4, 1, 0, 2, 5, 4, 2, 3, 9, 7, 0, 6, 7, 5, 0, 8, 5, 3, 4,\n",
       "       7, 6, 4, 1, 4, 3, 3, 8, 4, 3, 9, 6, 0, 3, 7, 5, 9, 4, 9, 9, 1, 9,\n",
       "       5, 7, 8, 6, 9, 1, 0, 5, 5, 9, 7, 3, 1, 8, 7, 7, 2, 8, 0, 2, 5, 0,\n",
       "       2, 4, 6, 1, 4, 0, 1, 7, 5, 2, 1, 0, 9, 1, 9, 3, 2, 3, 8, 7, 0, 2,\n",
       "       1, 1, 9, 7, 1, 6, 3, 5, 7, 4, 6, 0, 9, 0, 6, 6, 1, 5, 2, 6, 2, 9,\n",
       "       5, 3, 4, 2, 9, 2, 1, 2, 4, 1, 2, 9, 5, 4, 0, 9, 6, 7, 6, 1, 1, 9,\n",
       "       4, 5, 8, 5, 4, 3, 1, 7, 6, 9, 5, 4, 3, 2, 5, 5, 1, 0, 0, 0, 9, 9,\n",
       "       8, 4, 8, 6, 8, 3, 5, 1, 8, 2, 8, 9, 8, 2, 2, 6, 5, 7, 3, 7, 5, 7,\n",
       "       1, 9, 5, 6, 4, 9, 2, 9, 8, 4, 5, 4, 3, 7, 1, 5, 0, 5, 6, 2, 2, 6,\n",
       "       0, 8, 2, 1, 9, 6, 9, 7, 7, 8, 7, 8, 5, 2, 4, 9, 9, 2, 8, 5, 3, 4,\n",
       "       1, 7, 3, 6, 2, 1, 0, 9, 4, 1, 0, 1, 6, 1, 3, 7, 3, 8, 7, 4, 5, 5,\n",
       "       2, 0, 0, 6, 3, 5, 0, 6, 7, 0, 7, 0, 7, 9, 7, 2, 2, 8, 0, 0, 0, 5,\n",
       "       7, 4, 1, 7, 9, 6, 1, 4, 2, 4, 5, 3, 4, 3, 0, 4, 1, 0, 9, 9, 4, 4,\n",
       "       6, 3, 6, 7, 3, 5, 7, 5, 6, 9, 4, 9, 0, 1, 3, 0, 6, 5, 5, 6, 6, 8,\n",
       "       3, 5, 1, 4, 9, 5, 4, 2, 0, 0, 3, 4, 3, 4, 3])"
      ]
     },
     "execution_count": 8,
     "metadata": {},
     "output_type": "execute_result"
    }
   ],
   "source": [
    "knn.predict(X_test)#예측값"
   ]
  },
  {
   "cell_type": "code",
   "execution_count": 9,
   "metadata": {},
   "outputs": [
    {
     "data": {
      "text/plain": [
       "array([[0.        , 0.        , 0.        , ..., 0.        , 0.        ,\n",
       "        0.        ],\n",
       "       [0.        , 0.        , 0.        , ..., 0.        , 0.        ,\n",
       "        0.14285714],\n",
       "       [0.        , 0.        , 0.        , ..., 0.        , 0.        ,\n",
       "        0.        ],\n",
       "       ...,\n",
       "       [0.        , 0.        , 0.        , ..., 0.        , 0.        ,\n",
       "        0.        ],\n",
       "       [0.        , 0.        , 0.        , ..., 0.        , 0.        ,\n",
       "        0.        ],\n",
       "       [0.        , 0.        , 0.        , ..., 0.        , 0.14285714,\n",
       "        0.        ]])"
      ]
     },
     "execution_count": 9,
     "metadata": {},
     "output_type": "execute_result"
    }
   ],
   "source": [
    "knn.predict_proba(X_test)#0에서 9까지의 총 10개의 예측값 중에서 가장 높은걸 추출한 것이 predict "
   ]
  },
  {
   "cell_type": "markdown",
   "metadata": {
    "colab_type": "text",
    "id": "DpB9Wejs-XwH"
   },
   "source": [
    "### Overfitting and underfitting\n",
    "k 값에 따라 학습 및 평가 데이터의 정확도가 어떻게 달라지는지 관찰함으로써 overfitting과 underfitting에 직관을 갖을 수 있게 됩니다."
   ]
  },
  {
   "cell_type": "code",
   "execution_count": 10,
   "metadata": {
    "colab": {
     "autoexec": {
      "startup": false,
      "wait_interval": 0
     }
    },
    "colab_type": "code",
    "id": "F6cvIHJv-XwH"
   },
   "outputs": [],
   "source": [
    "# 이 셀의 코드는 수정하지 마세요 !\n",
    "# Setup arrays to store train and test accuracies\n",
    "neighbors = np.arange(1, 9)\n",
    "train_accuracy = np.empty(len(neighbors))\n",
    "test_accuracy = np.empty(len(neighbors))"
   ]
  },
  {
   "cell_type": "markdown",
   "metadata": {
    "colab_type": "text",
    "id": "q-XtEciX-XwK"
   },
   "source": [
    "#### ____에 적절한 코드를 입력한 후 실행하세요."
   ]
  },
  {
   "cell_type": "code",
   "execution_count": 11,
   "metadata": {
    "colab": {
     "autoexec": {
      "startup": false,
      "wait_interval": 0
     }
    },
    "colab_type": "code",
    "id": "xLkIu8VA-XwL"
   },
   "outputs": [],
   "source": [
    "# Loop over different values of k\n",
    "for i, k in enumerate(neighbors):\n",
    "    # Setup a k-NN Classifier with k neighbors: knn\n",
    "    knn = KNeighborsClassifier(n_neighbors=k)\n",
    "\n",
    "    # Fit the classifier to the training data\n",
    "    knn.fit(X_train, y_train)\n",
    "    \n",
    "    #Compute accuracy on the training set\n",
    "    train_accuracy[i] = knn.score(X_train, y_train) #train데이터의 정확성을 확인 \n",
    "\n",
    "    #Compute accuracy on the testing set\n",
    "    test_accuracy[i] = knn.score(X_test, y_test) #test데이터의 정확성을 확인 "
   ]
  },
  {
   "cell_type": "code",
   "execution_count": 12,
   "metadata": {
    "colab": {
     "autoexec": {
      "startup": false,
      "wait_interval": 0
     }
    },
    "colab_type": "code",
    "id": "LCtmGFde-XwN"
   },
   "outputs": [
    {
     "data": {
      "image/png": "[encoded data removed]",
      "text/plain": [
       "<Figure size 640x480 with 1 Axes>"
      ]
     },
     "metadata": {},
     "output_type": "display_data"
    }
   ],
   "source": [
    "# 이 셀의 코드는 수정하지 마세요 !\n",
    "# Generate plot\n",
    "plt.title('k-NN: Varying Number of Neighbors')\n",
    "plt.plot(neighbors, test_accuracy, label = 'Testing Accuracy')\n",
    "plt.plot(neighbors, train_accuracy, label = 'Training Accuracy')\n",
    "plt.legend()\n",
    "plt.xlabel('Number of Neighbors')\n",
    "plt.ylabel('Accuracy')\n",
    "plt.show()"
   ]
  },
  {
   "cell_type": "code",
   "execution_count": null,
   "metadata": {},
   "outputs": [],
   "source": [
    "#평가데이터와 학습 데이터의 차이 가 과대적합. 그래프를 보고 과적합이 있는지 확인가능함. \n",
    "#test_size 의 비중이 10%일때와 40%일때(0.1,0.4일때)의 차이, 왜 더 큰 과대적합이 발생했느냐? \n",
    "#학습 데이터가 바뀜에 따라서 학습할수 잇는 데이터가 적어지면 성능이 완전하게 달라지게됨. \n",
    "#(학습하는 데이터 자체의 양이 작기 때문_그러면 비율에따라 과적합이 훨신 많아지게 됨)"
   ]
  },
  {
   "cell_type": "markdown",
   "metadata": {},
   "source": [
    "1. import 모델\n",
    "2. 모델 명 호출(객체 생성): knn(parameter)\n",
    "    hyper parameter(모델의 성능 조절)\n",
    "    random state (난수 고정) ,knn은 파라미터 값에 따라서 달라짐\n",
    "3. 모델 학습: 이름 *knn.fit(x_train,y_train)    "
   ]
  },
  {
   "cell_type": "code",
   "execution_count": null,
   "metadata": {},
   "outputs": [],
   "source": []
  }
 ],
 "metadata": {
  "colab": {
   "default_view": {},
   "name": "혼자하기_0618_02.ipynb",
   "provenance": [],
   "version": "0.3.2",
   "views": {}
  },
  "kernelspec": {
   "display_name": "Python 3 (ipykernel)",
   "language": "python",
   "name": "python3"
  },
  "language_info": {
   "codemirror_mode": {
    "name": "ipython",
    "version": 3
   },
   "file_extension": ".py",
   "mimetype": "text/x-python",
   "name": "python",
   "nbconvert_exporter": "python",
   "pygments_lexer": "ipython3",
   "version": "3.10.9"
  }
 },
 "nbformat": 4,
 "nbformat_minor": 1
}
