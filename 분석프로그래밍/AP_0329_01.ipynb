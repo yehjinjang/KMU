{
 "cells": [
  {
   "cell_type": "markdown",
   "metadata": {},
   "source": [
    "<font color = \"#CC3D3D\"><p>\n",
    "# Flow Control (I)\n",
    " \n",
    "- **Conditional Execution**\n",
    "- **Loops and Iteration**"
   ]
  },
  {
   "cell_type": "markdown",
   "metadata": {},
   "source": [
    "# if 문"
   ]
  },
  {
   "cell_type": "markdown",
   "metadata": {},
   "source": [
    "- python에서 조건에 따라 다른 코드를 실행하고 싶을때, `if` 문을 사용한다.  \n",
    "- `if` 문은 기본적으로 조건문과 실행할 문장(들)으로 이루어져 있다.\n",
    "- `if` 문 안에 들어있는 문장(들)은 조건문이 참(True)일 경우에만 실행된다.\n",
    "```python\n",
    "if condition:\n",
    "    statements\n",
    "```    "
   ]
  },
  {
   "cell_type": "code",
   "execution_count": null,
   "metadata": {},
   "outputs": [],
   "source": [
    "a = 1\n",
    "if a > 5:\n",
    "    print('large')"
   ]
  },
  {
   "cell_type": "markdown",
   "metadata": {},
   "source": [
    "### if else"
   ]
  },
  {
   "cell_type": "markdown",
   "metadata": {},
   "source": [
    "만약 조건문이 충족되지 않았을 경우, 다른 코드를 실행시키고 싶다면, `else`를 사용하면 된다.\n",
    "```python\n",
    "if condition:\n",
    "    statements\n",
    "else:\n",
    "    statements\n",
    "```    "
   ]
  },
  {
   "cell_type": "code",
   "execution_count": null,
   "metadata": {},
   "outputs": [],
   "source": [
    "b = 10\n",
    "if b > 5:          # b가 5보다 크면, \n",
    "    print('large') # large를 출력하고, \n",
    "else:              # 크지 않으면, \n",
    "    print('small') # small을 출력한다."
   ]
  },
  {
   "cell_type": "markdown",
   "metadata": {},
   "source": [
    "### if elif else"
   ]
  },
  {
   "cell_type": "markdown",
   "metadata": {},
   "source": [
    "복수의 조건에 따라 실행을 달리하는 문장을 지정하고 싶다면, `elif` 문을 사용하면 된다 (elif는 else if의 줄임말)\n",
    "```python\n",
    "if condition-1:\n",
    "    statements \n",
    "elif condition-2:\n",
    "    statements\n",
    "else:\n",
    "    statements\n",
    "```"
   ]
  },
  {
   "cell_type": "code",
   "execution_count": null,
   "metadata": {},
   "outputs": [],
   "source": [
    "i = 3\n",
    "if i == 2:\n",
    "    print('two two') \n",
    "elif i == 3: \n",
    "    print('three three') \n",
    "else:\n",
    "    print('.')"
   ]
  },
  {
   "cell_type": "code",
   "execution_count": null,
   "metadata": {},
   "outputs": [],
   "source": [
    "age = 28\n",
    "\n",
    "if age < 20:\n",
    "    print('미성년') \n",
    "elif age < 40:\n",
    "    print('청년') \n",
    "elif age < 65: \n",
    "    print('중년')\n",
    "else:\n",
    "    print('노인')"
   ]
  },
  {
   "cell_type": "markdown",
   "metadata": {},
   "source": [
    "### if 문장 한 줄로 쓰기 (one-liner)"
   ]
  },
  {
   "cell_type": "code",
   "execution_count": 13,
   "metadata": {},
   "outputs": [
    {
     "ename": "NameError",
     "evalue": "name 'b' is not defined",
     "output_type": "error",
     "traceback": [
      "\u001b[1;31m---------------------------------------------------------------------------\u001b[0m",
      "\u001b[1;31mNameError\u001b[0m                                 Traceback (most recent call last)",
      "\u001b[1;32m<ipython-input-13-57de2811b981>\u001b[0m in \u001b[0;36m<module>\u001b[1;34m\u001b[0m\n\u001b[1;32m----> 1\u001b[1;33m \u001b[0mx\u001b[0m \u001b[1;33m=\u001b[0m \u001b[1;34m'large'\u001b[0m \u001b[1;32mif\u001b[0m \u001b[0mb\u001b[0m \u001b[1;33m>\u001b[0m \u001b[1;36m5\u001b[0m \u001b[1;32melse\u001b[0m \u001b[1;34m'small'\u001b[0m\u001b[1;33m\u001b[0m\u001b[1;33m\u001b[0m\u001b[0m\n\u001b[0m",
      "\u001b[1;31mNameError\u001b[0m: name 'b' is not defined"
     ]
    }
   ],
   "source": [
    "x = 'large' if b > 5 else 'small'"
   ]
  },
  {
   "cell_type": "code",
   "execution_count": 8,
   "metadata": {},
   "outputs": [],
   "source": [
    "y = {i == 2: 'two two', i == 3: 'three three'}.get(True, '.')"
   ]
  },
  {
   "cell_type": "code",
   "execution_count": 11,
   "metadata": {},
   "outputs": [
    {
     "data": {
      "text/plain": [
       "'two two'"
      ]
     },
     "execution_count": 11,
     "metadata": {},
     "output_type": "execute_result"
    }
   ],
   "source": [
    "i=2\n",
    "{i==2:'two two', i==3:'three three'}.get(True,'.')"
   ]
  },
  {
   "cell_type": "markdown",
   "metadata": {},
   "source": [
    "## x, y"
   ]
  },
  {
   "cell_type": "markdown",
   "metadata": {},
   "source": [
    "### Nested if\n",
    "`if` 문 안에 `if` 문을 중복해서 사용할 수 있다."
   ]
  },
  {
   "cell_type": "code",
   "execution_count": null,
   "metadata": {},
   "outputs": [],
   "source": [
    "# 이전과 같은 호칭을 지정하는 프로그램에서 성별 옵션도 추가하자.\n",
    "# 나이가 65세 이상인데, 남성이면 '할아버지', 여성이면 '할머니'로 결과를 출력하도록 하자.\n",
    "\n",
    "age = 67 \n",
    "gender = 'female'\n",
    "\n",
    "if age < 20:\n",
    "    print('미성년') \n",
    "elif age < 40:\n",
    "    print('청년') \n",
    "elif age < 65:\n",
    "    print('중년') \n",
    "elif gender == 'male':\n",
    "    print('할아버지')\n",
    "else:\n",
    "    print('할머니') "
   ]
  },
  {
   "cell_type": "markdown",
   "metadata": {},
   "source": [
    "# for 문"
   ]
  },
  {
   "cell_type": "markdown",
   "metadata": {},
   "source": [
    "`for` 문의 형식:\n",
    "***\n",
    "```python\n",
    "for variable in iterable:\n",
    "    repeated statement 1\n",
    "    repeated statement 2\n",
    "    ...\n",
    "```\n",
    "***\n",
    "iterable 객체(range, 리스트, 튜플, 사전, 집합, 문자열)의 첫 번째 요소부터 마지막 요소까지 차례로 variable(변수)에 대입되면서 같은 문장(repeated statement 1, 2, ...)를 반복해서 실행한다."
   ]
  },
  {
   "cell_type": "markdown",
   "metadata": {},
   "source": [
    "*Ranges as an iterable*"
   ]
  },
  {
   "cell_type": "code",
   "execution_count": 28,
   "metadata": {},
   "outputs": [
    {
     "name": "stdout",
     "output_type": "stream",
     "text": [
      "0\n",
      "1\n",
      "2\n",
      "3\n",
      "4\n"
     ]
    }
   ],
   "source": [
    "for x in range(5):\n",
    "    print(x)\n"
   ]
  },
  {
   "cell_type": "code",
   "execution_count": 30,
   "metadata": {},
   "outputs": [
    {
     "data": {
      "text/plain": [
       "[1, 2, 3, 4, 5, 6, 7, 8, 9]"
      ]
     },
     "execution_count": 30,
     "metadata": {},
     "output_type": "execute_result"
    }
   ],
   "source": [
    "list(range(1,10))"
   ]
  },
  {
   "cell_type": "markdown",
   "metadata": {},
   "source": [
    "*Lists as an iterable*"
   ]
  },
  {
   "cell_type": "code",
   "execution_count": null,
   "metadata": {},
   "outputs": [],
   "source": [
    "for x in ['hey', 5, 'd']:\n",
    "    print(x)"
   ]
  },
  {
   "cell_type": "code",
   "execution_count": null,
   "metadata": {},
   "outputs": [],
   "source": [
    "# 아래 for 문 안에 사용되는 age는 리스트 안의 항목을 지칭하기 위한 일시적인 변수 이름이다.\n",
    "# 만약 for문 전에 age = 100 이라고 변수를 지정해준다면, for문에서 사용되는 age에 의해 덮어쓰여진다.\n",
    "\n",
    "age = 100\n",
    "for age in [13, 17, 22]:\n",
    "    print(age + 1)\n",
    "print(age)"
   ]
  },
  {
   "cell_type": "markdown",
   "metadata": {},
   "source": [
    "*Strings as an iterable*"
   ]
  },
  {
   "cell_type": "code",
   "execution_count": 31,
   "metadata": {},
   "outputs": [
    {
     "name": "stdout",
     "output_type": "stream",
     "text": [
      "Hello World\n"
     ]
    }
   ],
   "source": [
    "for x in [\"Hello World\"]:\n",
    "    print(x)"
   ]
  },
  {
   "cell_type": "markdown",
   "metadata": {},
   "source": [
    "*Dictionaries as an iterable*"
   ]
  },
  {
   "cell_type": "code",
   "execution_count": 32,
   "metadata": {},
   "outputs": [
    {
     "name": "stdout",
     "output_type": "stream",
     "text": [
      "name\n",
      "age\n"
     ]
    }
   ],
   "source": [
    "for x in {'name': 'cho', 'age': 22}:\n",
    "    print(x)"
   ]
  },
  {
   "cell_type": "code",
   "execution_count": 33,
   "metadata": {},
   "outputs": [
    {
     "name": "stdout",
     "output_type": "stream",
     "text": [
      "cho\n",
      "22\n"
     ]
    }
   ],
   "source": [
    "for x in {'name': 'cho', 'age': 22}.values():\n",
    "    print(x)"
   ]
  },
  {
   "cell_type": "code",
   "execution_count": 34,
   "metadata": {},
   "outputs": [
    {
     "name": "stdout",
     "output_type": "stream",
     "text": [
      "('name', 'cho')\n",
      "('age', 22)\n"
     ]
    }
   ],
   "source": [
    "for x in {'name': 'cho', 'age': 22}.items():\n",
    "    print(x)"
   ]
  },
  {
   "cell_type": "markdown",
   "metadata": {},
   "source": [
    "### Loop over Lists of lists"
   ]
  },
  {
   "cell_type": "code",
   "execution_count": 35,
   "metadata": {},
   "outputs": [
    {
     "name": "stdout",
     "output_type": "stream",
     "text": [
      "[1, 2, 3]\n",
      "[4, 5, 6]\n",
      "[7, 8, 9]\n"
     ]
    }
   ],
   "source": [
    "list_of_lists = [[1, 2, 3], [4, 5, 6], [7, 8, 9]]\n",
    "for x in list_of_lists:\n",
    "    print(x)"
   ]
  },
  {
   "cell_type": "code",
   "execution_count": 36,
   "metadata": {},
   "outputs": [
    {
     "name": "stdout",
     "output_type": "stream",
     "text": [
      "1 2 3\n",
      "4 5 6\n",
      "7 8 9\n"
     ]
    }
   ],
   "source": [
    "list_of_lists = [[1, 2, 3], [4, 5, 6], [7, 8, 9]]\n",
    "for x in list_of_lists:\n",
    "    print(x[0],x[1],x[2])"
   ]
  },
  {
   "cell_type": "code",
   "execution_count": 37,
   "metadata": {},
   "outputs": [
    {
     "name": "stdout",
     "output_type": "stream",
     "text": [
      "1 2 3\n",
      "4 5 6\n",
      "7 8 9\n"
     ]
    }
   ],
   "source": [
    "list_of_lists = [[1, 2, 3], [4, 5, 6], [7, 8, 9]]\n",
    "for x,y,z in list_of_lists:\n",
    "    print(x,y,z)"
   ]
  },
  {
   "cell_type": "code",
   "execution_count": 38,
   "metadata": {},
   "outputs": [
    {
     "name": "stdout",
     "output_type": "stream",
     "text": [
      "1\n",
      "4\n",
      "7\n"
     ]
    }
   ],
   "source": [
    "list_of_lists = [[1, 2, 3], [4, 5, 6], [7, 8, 9]]\n",
    "for x,_,_ in list_of_lists:\n",
    "    print(x)"
   ]
  },
  {
   "cell_type": "markdown",
   "metadata": {},
   "source": [
    "### Enumerate"
   ]
  },
  {
   "cell_type": "markdown",
   "metadata": {},
   "source": [
    "`for` 문을 `enumerate()`와 같이 사용하면, 각 요소의 값과 인덱스 값을 동시에 얻을 수 있다."
   ]
  },
  {
   "cell_type": "code",
   "execution_count": 41,
   "metadata": {},
   "outputs": [
    {
     "data": {
      "text/plain": [
       "[(0, '사과'), (1, '포도'), (2, '딸기')]"
      ]
     },
     "execution_count": 41,
     "metadata": {},
     "output_type": "execute_result"
    }
   ],
   "source": [
    "list(enumerate(name))"
   ]
  },
  {
   "cell_type": "code",
   "execution_count": 39,
   "metadata": {
    "scrolled": true
   },
   "outputs": [
    {
     "name": "stdout",
     "output_type": "stream",
     "text": [
      "0 사과\n",
      "1 포도\n",
      "2 딸기\n"
     ]
    }
   ],
   "source": [
    "name = ['사과', '포도', '딸기']\n",
    "for i, j in enumerate(name):\n",
    "    print(i, j)"
   ]
  },
  {
   "cell_type": "code",
   "execution_count": 45,
   "metadata": {},
   "outputs": [
    {
     "name": "stdout",
     "output_type": "stream",
     "text": [
      "1 사과\n",
      "2 포도\n",
      "3 딸기\n"
     ]
    }
   ],
   "source": [
    "i=0\n",
    "for x in name:\n",
    "    i+=1\n",
    "    print(i,x)"
   ]
  },
  {
   "cell_type": "markdown",
   "metadata": {},
   "source": [
    "만약 인덱스의 시작값을 바꾸고 싶다면, 원하는 시작값을 넘겨줄 수 있다. 예시로 인덱스 값을 1로 시작하게 바꿔보자."
   ]
  },
  {
   "cell_type": "code",
   "execution_count": 46,
   "metadata": {},
   "outputs": [
    {
     "name": "stdout",
     "output_type": "stream",
     "text": [
      "1 사과\n",
      "2 포도\n",
      "3 딸기\n"
     ]
    }
   ],
   "source": [
    "name = ['사과', '포도', '딸기']\n",
    "for i, j in enumerate(name, 1):\n",
    "    print(i, j)"
   ]
  },
  {
   "cell_type": "markdown",
   "metadata": {},
   "source": [
    "### Zip\n",
    "같은 길이의 여러 리스트로부터 인덱스가 같은 값끼리 묶어서 리스트로 반환한다."
   ]
  },
  {
   "cell_type": "code",
   "execution_count": 47,
   "metadata": {},
   "outputs": [
    {
     "data": {
      "text/plain": [
       "[(34, 45, 5), (30, 48, 10), (26, 25, 8), (40, 50, 10)]"
      ]
     },
     "execution_count": 47,
     "metadata": {},
     "output_type": "execute_result"
    }
   ],
   "source": [
    "중간고사 = [34, 30, 26, 40]\n",
    "기말고사 = [45, 48, 25, 50]\n",
    "과제점수 = [5, 10, 8, 10]\n",
    "\n",
    "list(zip(중간고사, 기말고사, 과제점수))"
   ]
  },
  {
   "cell_type": "code",
   "execution_count": 48,
   "metadata": {},
   "outputs": [
    {
     "name": "stdout",
     "output_type": "stream",
     "text": [
      "[84, 88, 59, 100]\n"
     ]
    }
   ],
   "source": [
    "총점 = []\n",
    "\n",
    "for i, j, k in zip(중간고사, 기말고사, 과제점수):\n",
    "    총점.append(i + j + k)\n",
    "\n",
    "print(총점)"
   ]
  },
  {
   "cell_type": "markdown",
   "metadata": {},
   "source": [
    "### List Comprehension"
   ]
  },
  {
   "cell_type": "markdown",
   "metadata": {},
   "source": [
    "- 파이썬에서 보편적으로 사용되는 `for` 문을 이용한 효율적인 리스트 생성 방법  \n",
    "- 응용하면 다양한 조건으로 리스트를 생성할 수 있는 강력한 기능"
   ]
  },
  {
   "cell_type": "code",
   "execution_count": null,
   "metadata": {},
   "outputs": [],
   "source": [
    "# 0에서 19까지의 정수로 구성된 리스트\n",
    "\n",
    "[i for i in range(20)]"
   ]
  },
  {
   "cell_type": "code",
   "execution_count": null,
   "metadata": {},
   "outputs": [],
   "source": [
    "# sine(0)에서 sine(19)까지의 실수로 구성된 리스트\n",
    "\n",
    "import numpy as np\n",
    "\n",
    "[np.sin(i) for i in range(20)]"
   ]
  },
  {
   "cell_type": "code",
   "execution_count": null,
   "metadata": {},
   "outputs": [],
   "source": [
    "# 20 이하의 홀수로 만들어진 리스트\n",
    "\n",
    "[i for i in range(20) if i % 2 == 1]"
   ]
  },
  {
   "cell_type": "markdown",
   "metadata": {},
   "source": [
    "*List Comprehension을 사용하지 않을 경우, 같은 결과를 얻으려면 아래와 같은 보다 긴 코드가 요구된다.*"
   ]
  },
  {
   "cell_type": "code",
   "execution_count": null,
   "metadata": {},
   "outputs": [],
   "source": [
    "z = []\n",
    "for i in range(20):\n",
    "    if i % 2 == 1:\n",
    "        z.append(i)\n",
    "z"
   ]
  },
  {
   "cell_type": "code",
   "execution_count": null,
   "metadata": {},
   "outputs": [],
   "source": [
    "# 두 리스트의 원소들의 모든 조합\n",
    "\n",
    "epithets = ['sweet', 'annoying', 'cool', 'grey-eyed']\n",
    "names = ['john', 'alice', 'james']\n",
    "epithet_names = [(e, n) for e in epithets for n in names]\n",
    "epithet_names"
   ]
  },
  {
   "cell_type": "code",
   "execution_count": null,
   "metadata": {},
   "outputs": [],
   "source": [
    "# 행렬을 일차원화 시키는 List Comprehension\n",
    "matrix = [\n",
    "  [1, 2, 3, 4],\n",
    "  [5, 6, 7, 8],\n",
    "  [9, 10, 11, 12],\n",
    "]\n",
    "flatten = [e for r in matrix for e in r]\n",
    "flatten"
   ]
  },
  {
   "cell_type": "markdown",
   "metadata": {},
   "source": [
    "### Dict Comprehension\n",
    "List Comprehension과 동일하며 dict를 생성한다."
   ]
  },
  {
   "cell_type": "code",
   "execution_count": null,
   "metadata": {},
   "outputs": [],
   "source": [
    "{i: np.sin(i) for i in range(20)}"
   ]
  },
  {
   "cell_type": "markdown",
   "metadata": {},
   "source": [
    "# while 문\n",
    "`while` 문의 형식:\n",
    "***\n",
    "```python\n",
    "while condition:\n",
    "    repeated statement 1\n",
    "    repeated statement 2\n",
    "    ...\n",
    "```\n",
    "***\n",
    "`while` 문은 condition(조건)이 '참(True)'일 동안, 같은 문장(repeated statement 1, 2, ...)를 반복해서 실행한다.  \n",
    "따라서, `for` 문과 달리 무한 반복(Endless loop)에 빠지지 않도록 주의해야한다."
   ]
  },
  {
   "cell_type": "code",
   "execution_count": 61,
   "metadata": {},
   "outputs": [
    {
     "name": "stdout",
     "output_type": "stream",
     "text": [
      "5050\n"
     ]
    }
   ],
   "source": [
    "s=0 \n",
    "i=0\n",
    "while i<100:\n",
    "    i=i+1\n",
    "    s=s+i \n",
    "print(s)"
   ]
  },
  {
   "cell_type": "code",
   "execution_count": null,
   "metadata": {},
   "outputs": [],
   "source": [
    "# while 문을 이용해 0에서 4까지 더하는 코드\n",
    "\n",
    "total = 0  \n",
    "i = 0      \n",
    "while i < 5: \n",
    "    print(i, total) \n",
    "    i = i + 1"
   ]
  },
  {
   "cell_type": "markdown",
   "metadata": {},
   "source": [
    "`while` 조건에 True/False 이용하기"
   ]
  },
  {
   "cell_type": "code",
   "execution_count": null,
   "metadata": {},
   "outputs": [],
   "source": [
    "last = False \n",
    "alist = [1,2,4,8,16]\n",
    "\n",
    "while not last:\n",
    "    print(alist[0])\n",
    "    del alist[0]\n",
    "    if alist == []:\n",
    "        last = True"
   ]
  },
  {
   "cell_type": "markdown",
   "metadata": {},
   "source": [
    "While loop from 1 to infinity, therefore running forever."
   ]
  },
  {
   "cell_type": "code",
   "execution_count": null,
   "metadata": {},
   "outputs": [],
   "source": [
    "# x = 1\n",
    "# while True:\n",
    "#     print(\"To infinity and beyond! We're getting close, on %d now!\" % (x))\n",
    "#     x += 1"
   ]
  },
  {
   "cell_type": "markdown",
   "metadata": {},
   "source": [
    "# 루프 제어문"
   ]
  },
  {
   "cell_type": "markdown",
   "metadata": {},
   "source": [
    "### break\n",
    "`break` 문은 `for`나 `while` 문을 이용해 어떤 작업을 반복적으로 수행하다가 특정 조건일 때 반복문 자체를 빠져나와야 할 때 사용한다."
   ]
  },
  {
   "cell_type": "code",
   "execution_count": null,
   "metadata": {},
   "outputs": [],
   "source": [
    "for i in range(100):\n",
    "    print(i) \n",
    "    if i == 5:\n",
    "        continue"
   ]
  },
  {
   "cell_type": "markdown",
   "metadata": {},
   "source": [
    "### continue\n",
    "`while` 문이나 `for` 문을 사용하는 반복문에서 `break`를 사용하면 반복문 전체를 빠져나오게 된다.  \n",
    "그런데 반복문 전체를 빠져나오는 것이 아니라 해당 조건만 건너뛰고 싶을 때는 어떻게 하면 될까?  \n",
    "(Ex: 1부터 10까지 출력하는데 짝수인 경우는 출력하지 않음).  \n",
    "이럴 때 사용할 수 있는 것이 바로 `continue` 문이다."
   ]
  },
  {
   "cell_type": "code",
   "execution_count": null,
   "metadata": {},
   "outputs": [],
   "source": [
    "for i in range(10):\n",
    "    if i % 2 == 0:  # 짝수인 경우 continue 이하 코드가 실행되지 않고 다음 숫자로 넘어간다.\n",
    "        continue\n",
    "    print(i*100)"
   ]
  },
  {
   "cell_type": "markdown",
   "metadata": {},
   "source": [
    "# 연습문제"
   ]
  },
  {
   "cell_type": "markdown",
   "metadata": {},
   "source": [
    "### 문제 9)\n",
    "- Sales < 50 만원 이면 Incentive가 없다.\n",
    "- 50만원 ≤ Sales ≤ 500만원 이면 (Sales의 10%)를 Incentive로 지급한다.\n",
    "- Sales > 500만원 이면 (70만원 + Sales 중 500만원 초과된 액수의 8%)를 Incentive로 지급한다.  \n",
    "  \n",
    "총 판매액 sales가 주어졌을 때, 위의 결정규칙에 따라 Incentive를 계산하여 출력하는 프로그램을 작성하시오. \t"
   ]
  },
  {
   "cell_type": "code",
   "execution_count": 27,
   "metadata": {},
   "outputs": [
    {
     "name": "stdout",
     "output_type": "stream",
     "text": [
      "49\n",
      "incentive = 0 \n"
     ]
    }
   ],
   "source": [
    "sales=int(input())\n",
    "if sales < 50: \n",
    "    print(\"incentive = 0 \")\n",
    "elif sales<= 500: \n",
    "    print(\"incentive=\",sales*0.1)\n",
    "\n",
    "else:\n",
    "    print(\"incentive+\",70+(sales-500)*0.08)"
   ]
  },
  {
   "cell_type": "markdown",
   "metadata": {},
   "source": [
    "### 문제 10)\n",
    "What is the purpose of the following code?"
   ]
  },
  {
   "cell_type": "code",
   "execution_count": 49,
   "metadata": {},
   "outputs": [
    {
     "name": "stdout",
     "output_type": "stream",
     "text": [
      "-1\n"
     ]
    }
   ],
   "source": [
    "# case 1\n",
    "\n",
    "x = [-3,-8,-6,-4,-5,-1]\n",
    "y = x[0]\n",
    "for i in x :\n",
    "    if y < i : y = i\n",
    "print(y)"
   ]
  },
  {
   "cell_type": "code",
   "execution_count": null,
   "metadata": {},
   "outputs": [],
   "source": [
    "1)i=-3, y=-3 if x\n",
    "2)i=-8,y=-3 if x \n",
    "3)i=-6,y=-3 x\n",
    "...\n",
    "6)i=-1, y=-3 if o \n",
    "그렇기때문에 -1 출력 (복잡한 루프는 적으면서!)\n",
    "#what purpose? 리스트에서 가장 큰값을 찾는기 위하여 "
   ]
  },
  {
   "cell_type": "code",
   "execution_count": 53,
   "metadata": {},
   "outputs": [
    {
     "name": "stdout",
     "output_type": "stream",
     "text": [
      "Let\n"
     ]
    }
   ],
   "source": [
    "# case 2 \n",
    "\n",
    "s = \"Let's try, Mike.\"\n",
    "sd = \"\"\n",
    "for c in s :  # 문자열 s로부터 글자수만큼 반복하면서 한글자씩 가져옴\n",
    "    if c == \"'\" or c == \",\" or c == \".\" :\n",
    "        break\n",
    "    sd = sd + c\n",
    "\n",
    "print(sd) "
   ]
  },
  {
   "cell_type": "code",
   "execution_count": 51,
   "metadata": {},
   "outputs": [
    {
     "data": {
      "text/plain": [
       "16"
      ]
     },
     "execution_count": 51,
     "metadata": {},
     "output_type": "execute_result"
    }
   ],
   "source": [
    "len(\"Let's try, Mike.\")"
   ]
  },
  {
   "cell_type": "code",
   "execution_count": null,
   "metadata": {},
   "outputs": [],
   "source": [
    "1) c='L',sd= 'L' #break는 그 앞에 꺼에서 종료하라는 의미 \n",
    "2)c='e', sd='Le' #continue 다시 루프의 맨위로 올라가 값 출력"
   ]
  },
  {
   "cell_type": "markdown",
   "metadata": {},
   "source": [
    "### 문제 11)\n",
    "백 만원을 은행에 년 5.5%의 복리이자로 예금하면, 몇 년 후에 원리금이 초기 원금의 두 배가 넘게 되는지를 계산하는 프로그램을 작성하시오."
   ]
  },
  {
   "cell_type": "code",
   "execution_count": 63,
   "metadata": {},
   "outputs": [
    {
     "name": "stdout",
     "output_type": "stream",
     "text": [
      "13\n"
     ]
    }
   ],
   "source": [
    "money = 1000000\n",
    "interest = 0.055\n",
    "year = 0\n",
    "\n",
    "while True:\n",
    "    #년마다 돌아가는 루프:\n",
    "    year+=1 \n",
    "    #원리금: \n",
    "    money= money+money*interest\n",
    "    if money>2000000:\n",
    "        break\n",
    "\n",
    "print(year)"
   ]
  },
  {
   "cell_type": "markdown",
   "metadata": {},
   "source": [
    "### 문제 12)\n",
    "다음은 names라는 리스트에 들어있는 단어와 그것의 횟수를 출력하는 코드이다.\n",
    "```\n",
    "counts = dict()\n",
    "names = ['빅데이터', '경영', '통계', '경영', '경영', '정보']\n",
    "for name in names :\n",
    "    counts[name] = counts.get(name, 0) + 1\n",
    "print(counts)\n",
    "```\n",
    "위의 코드를 응용하여, 오바마 연설문에서 가장 자주 언급되는 단어와 그것의 횟수를 출력하는 프로그램을 작성하시오."
   ]
  },
  {
   "cell_type": "code",
   "execution_count": null,
   "metadata": {},
   "outputs": [],
   "source": [
    "# 텍스트 화일을 열고 words라는 변수에 저장\n",
    "with open('Obama_words.txt', 'r') as f:\n",
    "    words = f.read()\n",
    "    print(words)\n",
    "    f.close()\n",
    "    \n",
    "# words에서 단어를 구분\n",
    "# ...\n",
    "\n",
    "# 위 코드를 이용하여 각 단어와 그것의 횟수를 계산\n",
    "# ...\n",
    "\n",
    "# 가장 자주 언급되는 단어를 찾고 그것의 횟수를 출력\n",
    "# ..."
   ]
  },
  {
   "cell_type": "markdown",
   "metadata": {},
   "source": [
    "<font color = \"#CC3D3D\"><p>\n",
    "# End"
   ]
  }
 ],
 "metadata": {
  "kernelspec": {
   "display_name": "Python 3",
   "language": "python",
   "name": "python3"
  },
  "language_info": {
   "codemirror_mode": {
    "name": "ipython",
    "version": 3
   },
   "file_extension": ".py",
   "mimetype": "text/x-python",
   "name": "python",
   "nbconvert_exporter": "python",
   "pygments_lexer": "ipython3",
   "version": "3.8.5"
  }
 },
 "nbformat": 4,
 "nbformat_minor": 4
}
