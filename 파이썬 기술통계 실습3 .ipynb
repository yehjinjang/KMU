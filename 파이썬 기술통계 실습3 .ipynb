{
 "cells": [
  {
   "cell_type": "code",
   "execution_count": 2,
   "metadata": {},
   "outputs": [],
   "source": [
    "import pandas as pd \n",
    "import numpy as np \n",
    "import matplotlib.pyplot as plt "
   ]
  },
  {
   "cell_type": "code",
   "execution_count": 3,
   "metadata": {},
   "outputs": [
    {
     "data": {
      "text/html": [
       "<div>\n",
       "<style scoped>\n",
       "    .dataframe tbody tr th:only-of-type {\n",
       "        vertical-align: middle;\n",
       "    }\n",
       "\n",
       "    .dataframe tbody tr th {\n",
       "        vertical-align: top;\n",
       "    }\n",
       "\n",
       "    .dataframe thead th {\n",
       "        text-align: right;\n",
       "    }\n",
       "</style>\n",
       "<table border=\"1\" class=\"dataframe\">\n",
       "  <thead>\n",
       "    <tr style=\"text-align: right;\">\n",
       "      <th></th>\n",
       "      <th>Audit_Time</th>\n",
       "    </tr>\n",
       "  </thead>\n",
       "  <tbody>\n",
       "    <tr>\n",
       "      <th>0</th>\n",
       "      <td>12</td>\n",
       "    </tr>\n",
       "    <tr>\n",
       "      <th>1</th>\n",
       "      <td>15</td>\n",
       "    </tr>\n",
       "    <tr>\n",
       "      <th>2</th>\n",
       "      <td>20</td>\n",
       "    </tr>\n",
       "    <tr>\n",
       "      <th>3</th>\n",
       "      <td>22</td>\n",
       "    </tr>\n",
       "    <tr>\n",
       "      <th>4</th>\n",
       "      <td>14</td>\n",
       "    </tr>\n",
       "    <tr>\n",
       "      <th>5</th>\n",
       "      <td>14</td>\n",
       "    </tr>\n",
       "    <tr>\n",
       "      <th>6</th>\n",
       "      <td>15</td>\n",
       "    </tr>\n",
       "    <tr>\n",
       "      <th>7</th>\n",
       "      <td>27</td>\n",
       "    </tr>\n",
       "    <tr>\n",
       "      <th>8</th>\n",
       "      <td>21</td>\n",
       "    </tr>\n",
       "    <tr>\n",
       "      <th>9</th>\n",
       "      <td>18</td>\n",
       "    </tr>\n",
       "    <tr>\n",
       "      <th>10</th>\n",
       "      <td>19</td>\n",
       "    </tr>\n",
       "    <tr>\n",
       "      <th>11</th>\n",
       "      <td>18</td>\n",
       "    </tr>\n",
       "    <tr>\n",
       "      <th>12</th>\n",
       "      <td>22</td>\n",
       "    </tr>\n",
       "    <tr>\n",
       "      <th>13</th>\n",
       "      <td>33</td>\n",
       "    </tr>\n",
       "    <tr>\n",
       "      <th>14</th>\n",
       "      <td>16</td>\n",
       "    </tr>\n",
       "    <tr>\n",
       "      <th>15</th>\n",
       "      <td>18</td>\n",
       "    </tr>\n",
       "    <tr>\n",
       "      <th>16</th>\n",
       "      <td>17</td>\n",
       "    </tr>\n",
       "    <tr>\n",
       "      <th>17</th>\n",
       "      <td>23</td>\n",
       "    </tr>\n",
       "    <tr>\n",
       "      <th>18</th>\n",
       "      <td>28</td>\n",
       "    </tr>\n",
       "    <tr>\n",
       "      <th>19</th>\n",
       "      <td>13</td>\n",
       "    </tr>\n",
       "  </tbody>\n",
       "</table>\n",
       "</div>"
      ],
      "text/plain": [
       "    Audit_Time\n",
       "0           12\n",
       "1           15\n",
       "2           20\n",
       "3           22\n",
       "4           14\n",
       "5           14\n",
       "6           15\n",
       "7           27\n",
       "8           21\n",
       "9           18\n",
       "10          19\n",
       "11          18\n",
       "12          22\n",
       "13          33\n",
       "14          16\n",
       "15          18\n",
       "16          17\n",
       "17          23\n",
       "18          28\n",
       "19          13"
      ]
     },
     "execution_count": 3,
     "metadata": {},
     "output_type": "execute_result"
    }
   ],
   "source": [
    "Audit = pd.read_excel(\"./Audit.xlsx\",header=0, usecols=\"A\")\n",
    "Audit.columns = Audit.columns.str.replace(' ','_')\n",
    "Audit"
   ]
  },
  {
   "cell_type": "code",
   "execution_count": 4,
   "metadata": {},
   "outputs": [],
   "source": [
    "Audit_array = Audit['Audit_Time']"
   ]
  },
  {
   "cell_type": "code",
   "execution_count": 5,
   "metadata": {},
   "outputs": [
    {
     "data": {
      "text/plain": [
       "12"
      ]
     },
     "execution_count": 5,
     "metadata": {},
     "output_type": "execute_result"
    }
   ],
   "source": [
    "Audit_array.min()"
   ]
  },
  {
   "cell_type": "code",
   "execution_count": 6,
   "metadata": {},
   "outputs": [
    {
     "data": {
      "text/plain": [
       "33"
      ]
     },
     "execution_count": 6,
     "metadata": {},
     "output_type": "execute_result"
    }
   ],
   "source": [
    "Audit_array.max()"
   ]
  },
  {
   "cell_type": "code",
   "execution_count": 8,
   "metadata": {},
   "outputs": [
    {
     "data": {
      "text/plain": [
       "array(['14일 이하', '15일~19일', '20일~24일', '20일~24일', '14일 이하', '14일 이하',\n",
       "       '15일~19일', '25일~29일', '20일~24일', '15일~19일', '15일~19일', '15일~19일',\n",
       "       '20일~24일', '30일 이상', '15일~19일', '15일~19일', '15일~19일', '20일~24일',\n",
       "       '25일~29일', '14일 이하'], dtype='<U7')"
      ]
     },
     "execution_count": 8,
     "metadata": {},
     "output_type": "execute_result"
    }
   ],
   "source": [
    "Audit_group = np.where(Audit_array <=14, \"14일 이하\",\n",
    "                       np.where((Audit_array >14)&(Audit_array<= 19), \"15일~19일\",\n",
    "                        np.where((Audit_array>19)&(Audit_array<=24), \"20일~24일\",\n",
    "                         np.where((Audit_array >24)&(Audit_array <=29), \"25일~29일\",\"30일 이상\"))))\n",
    "\n",
    "Audit_group"
   ]
  },
  {
   "cell_type": "code",
   "execution_count": 12,
   "metadata": {},
   "outputs": [
    {
     "data": {
      "text/html": [
       "<div>\n",
       "<style scoped>\n",
       "    .dataframe tbody tr th:only-of-type {\n",
       "        vertical-align: middle;\n",
       "    }\n",
       "\n",
       "    .dataframe tbody tr th {\n",
       "        vertical-align: top;\n",
       "    }\n",
       "\n",
       "    .dataframe thead th {\n",
       "        text-align: right;\n",
       "    }\n",
       "</style>\n",
       "<table border=\"1\" class=\"dataframe\">\n",
       "  <thead>\n",
       "    <tr style=\"text-align: right;\">\n",
       "      <th></th>\n",
       "      <th>freq</th>\n",
       "    </tr>\n",
       "  </thead>\n",
       "  <tbody>\n",
       "    <tr>\n",
       "      <th>14일 이하</th>\n",
       "      <td>4</td>\n",
       "    </tr>\n",
       "    <tr>\n",
       "      <th>15일~19일</th>\n",
       "      <td>8</td>\n",
       "    </tr>\n",
       "    <tr>\n",
       "      <th>20일~24일</th>\n",
       "      <td>5</td>\n",
       "    </tr>\n",
       "    <tr>\n",
       "      <th>25일~29일</th>\n",
       "      <td>2</td>\n",
       "    </tr>\n",
       "    <tr>\n",
       "      <th>30일 이상</th>\n",
       "      <td>1</td>\n",
       "    </tr>\n",
       "  </tbody>\n",
       "</table>\n",
       "</div>"
      ],
      "text/plain": [
       "         freq\n",
       "14일 이하      4\n",
       "15일~19일     8\n",
       "20일~24일     5\n",
       "25일~29일     2\n",
       "30일 이상      1"
      ]
     },
     "execution_count": 12,
     "metadata": {},
     "output_type": "execute_result"
    }
   ],
   "source": [
    "Audit_Series = pd.Series(Audit_group)\n",
    "Audit_frequency = pd.DataFrame(Audit_Series.value_counts(),columns =[\"freq\"])\n",
    "Audit_frequency.sort_index(inplace=True)\n",
    "Audit_frequency"
   ]
  },
  {
   "cell_type": "code",
   "execution_count": 13,
   "metadata": {},
   "outputs": [
    {
     "data": {
      "text/html": [
       "<div>\n",
       "<style scoped>\n",
       "    .dataframe tbody tr th:only-of-type {\n",
       "        vertical-align: middle;\n",
       "    }\n",
       "\n",
       "    .dataframe tbody tr th {\n",
       "        vertical-align: top;\n",
       "    }\n",
       "\n",
       "    .dataframe thead th {\n",
       "        text-align: right;\n",
       "    }\n",
       "</style>\n",
       "<table border=\"1\" class=\"dataframe\">\n",
       "  <thead>\n",
       "    <tr style=\"text-align: right;\">\n",
       "      <th></th>\n",
       "      <th>freq</th>\n",
       "      <th>ratio</th>\n",
       "      <th>percentage</th>\n",
       "      <th>cum_freq</th>\n",
       "      <th>cum_ratio</th>\n",
       "      <th>cum_%</th>\n",
       "    </tr>\n",
       "  </thead>\n",
       "  <tbody>\n",
       "    <tr>\n",
       "      <th>14일 이하</th>\n",
       "      <td>4</td>\n",
       "      <td>0.20</td>\n",
       "      <td>20.0%</td>\n",
       "      <td>4</td>\n",
       "      <td>0.20</td>\n",
       "      <td>20.0%</td>\n",
       "    </tr>\n",
       "    <tr>\n",
       "      <th>15일~19일</th>\n",
       "      <td>8</td>\n",
       "      <td>0.40</td>\n",
       "      <td>40.0%</td>\n",
       "      <td>12</td>\n",
       "      <td>0.60</td>\n",
       "      <td>60.0%</td>\n",
       "    </tr>\n",
       "    <tr>\n",
       "      <th>20일~24일</th>\n",
       "      <td>5</td>\n",
       "      <td>0.25</td>\n",
       "      <td>25.0%</td>\n",
       "      <td>17</td>\n",
       "      <td>0.85</td>\n",
       "      <td>85.0%</td>\n",
       "    </tr>\n",
       "    <tr>\n",
       "      <th>25일~29일</th>\n",
       "      <td>2</td>\n",
       "      <td>0.10</td>\n",
       "      <td>10.0%</td>\n",
       "      <td>19</td>\n",
       "      <td>0.95</td>\n",
       "      <td>95.0%</td>\n",
       "    </tr>\n",
       "    <tr>\n",
       "      <th>30일 이상</th>\n",
       "      <td>1</td>\n",
       "      <td>0.05</td>\n",
       "      <td>5.0%</td>\n",
       "      <td>20</td>\n",
       "      <td>1.00</td>\n",
       "      <td>100.0%</td>\n",
       "    </tr>\n",
       "  </tbody>\n",
       "</table>\n",
       "</div>"
      ],
      "text/plain": [
       "         freq  ratio percentage  cum_freq  cum_ratio   cum_%\n",
       "14일 이하      4   0.20      20.0%         4       0.20   20.0%\n",
       "15일~19일     8   0.40      40.0%        12       0.60   60.0%\n",
       "20일~24일     5   0.25      25.0%        17       0.85   85.0%\n",
       "25일~29일     2   0.10      10.0%        19       0.95   95.0%\n",
       "30일 이상      1   0.05       5.0%        20       1.00  100.0%"
      ]
     },
     "execution_count": 13,
     "metadata": {},
     "output_type": "execute_result"
    }
   ],
   "source": [
    "Audit_frequency[\"ratio\"] = np.round(Audit_frequency.freq/sum(Audit_frequency.freq),2) #상대도수 도출가능  \n",
    "Audit_frequency[\"percentage\"]= np.round(Audit_frequency.freq/sum(Audit_frequency.freq)*100,2).astype(str) + '%' \n",
    "Audit_frequency[\"cum_freq\"] = np.cumsum(Audit_frequency.freq) #freq누적합계\n",
    "Audit_frequency[\"cum_ratio\"] = np.cumsum(Audit_frequency.ratio)\n",
    "Audit_frequency[\"cum_%\"] = np.round(Audit_frequency.cum_freq/sum(Audit_frequency.freq)*100,2).astype(str) + '%' #누적백분율도수\n",
    "\n",
    "Audit_frequency"
   ]
  },
  {
   "cell_type": "code",
   "execution_count": 15,
   "metadata": {},
   "outputs": [
    {
     "data": {
      "text/plain": [
       "Text(0, 0.5, 'frequency')"
      ]
     },
     "execution_count": 15,
     "metadata": {},
     "output_type": "execute_result"
    },
    {
     "data": {
      "image/png": "[encoded data removed]",
      "text/plain": [
       "<Figure size 432x288 with 1 Axes>"
      ]
     },
     "metadata": {
      "needs_background": "light"
     },
     "output_type": "display_data"
    }
   ],
   "source": [
    "plt.subplot(111)\n",
    "plt.hist(Audit['Audit_Time'],bins=[0,5,10,15,20,25,30,35])# bins는 계급을 구분해주는 것 \n",
    "plt.xlim(0,40)\n",
    "plt.xlabel('date')\n",
    "plt.ylabel('frequency')"
   ]
  },
  {
   "cell_type": "code",
   "execution_count": null,
   "metadata": {},
   "outputs": [],
   "source": []
  }
 ],
 "metadata": {
  "kernelspec": {
   "display_name": "Python 3",
   "language": "python",
   "name": "python3"
  },
  "language_info": {
   "codemirror_mode": {
    "name": "ipython",
    "version": 3
   },
   "file_extension": ".py",
   "mimetype": "text/x-python",
   "name": "python",
   "nbconvert_exporter": "python",
   "pygments_lexer": "ipython3",
   "version": "3.8.5"
  }
 },
 "nbformat": 4,
 "nbformat_minor": 4
}
