{
 "cells": [
  {
   "cell_type": "markdown",
   "metadata": {},
   "source": [
    "### Q1. 아래와같은 직각삼각형을 출력해보시오. [5점]\n",
    "```\n",
    "*****\n",
    "****\n",
    "***\n",
    "**\n",
    "*\n",
    "```"
   ]
  },
  {
   "cell_type": "markdown",
   "metadata": {},
   "source": [
    "(1) for문을 사용해보세요"
   ]
  },
  {
   "cell_type": "code",
   "execution_count": 28,
   "metadata": {},
   "outputs": [
    {
     "name": "stdout",
     "output_type": "stream",
     "text": [
      "*****\n",
      "****\n",
      "***\n",
      "**\n",
      "*\n",
      "\n"
     ]
    }
   ],
   "source": [
    "for i in range(0,6):\n",
    "    for j in range(5-i):\n",
    "        print(\"*\",end=\"\")\n",
    "\n",
    "    print()"
   ]
  },
  {
   "cell_type": "markdown",
   "metadata": {},
   "source": [
    "(2) while문을 사용해보세요"
   ]
  },
  {
   "cell_type": "code",
   "execution_count": 13,
   "metadata": {},
   "outputs": [
    {
     "name": "stdout",
     "output_type": "stream",
     "text": [
      "*****\n",
      "****\n",
      "***\n",
      "**\n",
      "*\n"
     ]
    }
   ],
   "source": [
    "i = 0\n",
    "\n",
    "while i < 5:\n",
    "    print(\"\"*i+\"*\"*(5-i))\n",
    "    i+=1"
   ]
  },
  {
   "cell_type": "markdown",
   "metadata": {},
   "source": [
    "### Q2. for문을 사용하여 1부터 486까지를 더한 값을 구해보세요"
   ]
  },
  {
   "cell_type": "code",
   "execution_count": 30,
   "metadata": {},
   "outputs": [
    {
     "data": {
      "text/plain": [
       "118341"
      ]
     },
     "execution_count": 30,
     "metadata": {},
     "output_type": "execute_result"
    }
   ],
   "source": [
    "#반복문 사용\n",
    "def sum(n):\n",
    "    total = 0\n",
    "    for i in range(1, n+1):\n",
    "             total += i\n",
    "    return total\n",
    "\n",
    "sum(486)"
   ]
  },
  {
   "cell_type": "markdown",
   "metadata": {},
   "source": [
    "### Q3. 적금에 1000만원을 저금했을 때 복리로 이자를 지급한다고 할 때 복리이자율이 연4%라면 2000만원이 되려면 몇 년이 걸리는지 구하세요\n",
    "\n",
    "(금액이 정확히 2000만원이 되는 것을 의미하는 것이 아니라 2000만원이 넘어가는 것을 의미함.)"
   ]
  },
  {
   "cell_type": "code",
   "execution_count": 15,
   "metadata": {},
   "outputs": [
    {
     "name": "stdout",
     "output_type": "stream",
     "text": [
      "18\n"
     ]
    }
   ],
   "source": [
    "money = 1000\n",
    "year = 0\n",
    "\n",
    "while money <= 2000 :\n",
    "    year += 1\n",
    "    money = money + money*0.04\n",
    "\n",
    "print(year)"
   ]
  },
  {
   "cell_type": "markdown",
   "metadata": {},
   "source": [
    "### Q4. 이름과 년생이 dictionary에 담겨있을 때 번호를 부여하고 다음과 같이 출력하세요"
   ]
  },
  {
   "cell_type": "markdown",
   "metadata": {},
   "source": [
    "출력결과\n",
    "```\n",
    "번호 : 1, 유아 : 96\n",
    "번호 : 2, 지호 : 97\n",
    "번호 : 3, 미미 : 96\n",
    "번호 : 4, 아린 : 99\n",
    "번호 : 5, 승희 : 96\n",
    "번호 : 6, 효정 : 95\n",
    "번호 : 7, 유빈 : 97\n",
    "```"
   ]
  },
  {
   "cell_type": "code",
   "execution_count": 61,
   "metadata": {},
   "outputs": [],
   "source": [
    "info = {\"유아\" : 95, \"지호\" : 97, \"미미\" : 95, \"아린\" : 99, \"승희\" : 96, \"효정\" : 94, \"유빈\" : 97}"
   ]
  },
  {
   "cell_type": "code",
   "execution_count": 85,
   "metadata": {},
   "outputs": [
    {
     "data": {
      "text/plain": [
       "dict_items([('유아', 95), ('지호', 97), ('미미', 95), ('아린', 99), ('승희', 96), ('효정', 94), ('유빈', 97)])"
      ]
     },
     "execution_count": 85,
     "metadata": {},
     "output_type": "execute_result"
    }
   ],
   "source": [
    "info.items()"
   ]
  },
  {
   "cell_type": "code",
   "execution_count": 87,
   "metadata": {},
   "outputs": [
    {
     "name": "stdout",
     "output_type": "stream",
     "text": [
      "번호: 0 , 유아 : 95\n",
      "번호: 1 , 지호 : 97\n",
      "번호: 2 , 미미 : 95\n",
      "번호: 3 , 아린 : 99\n",
      "번호: 4 , 승희 : 96\n",
      "번호: 5 , 효정 : 94\n",
      "번호: 6 , 유빈 : 97\n"
     ]
    }
   ],
   "source": [
    "for index,(name,birth)in enumerate(info.items()):\n",
    "    print(\"번호:\",index,\",\",name,\":\",birth)"
   ]
  },
  {
   "cell_type": "markdown",
   "metadata": {},
   "source": [
    "### Q5. 숫자를 입력받아 주어진 수가 1이 될때까지 다음 작업을 반복하고 반복한 횟수를 구하시오"
   ]
  },
  {
   "cell_type": "markdown",
   "metadata": {},
   "source": [
    "(단, 작업을 500번 반복해도 1이 되지 않는다면 –1을 출력하시오.)\n",
    "```\n",
    "1-1. 입력된 수가 짝수라면 2로 나눈다.\n",
    "1-2. 입력된 수가 홀수라면 3을 곱하고 1을 더한다.\n",
    "2. 결과로 나온 수에 같은 작업을 1이 될 때까지 반복한다.\n",
    "\n",
    "[ 입력예시 ] 6  \n",
    "[ 출력예시 ] 8 (6 -> 3 -> 10 -> 5 -> 16 -> 8 -> 4 -> 2 -> 1)\n",
    "```"
   ]
  },
  {
   "cell_type": "code",
   "execution_count": 126,
   "metadata": {},
   "outputs": [
    {
     "name": "stdout",
     "output_type": "stream",
     "text": [
      "[입력예시] 6\n",
      "[출력예시] 8\n"
     ]
    }
   ],
   "source": [
    "num = int(input('[입력예시] '))\n",
    "answer = 0\n",
    "\n",
    "while num != 1:\n",
    "    if num % 2 ==0 :\n",
    "        num = num/2\n",
    "    else :\n",
    "        num = num *3 +1\n",
    "    answer += 1\n",
    "    if answer >= 500:\n",
    "        print(-1)\n",
    "        \n",
    "print(\"[출력예시]\",answer)"
   ]
  },
  {
   "cell_type": "markdown",
   "metadata": {},
   "source": [
    "### Q6. list comprehension을 사용해 다음 문제를 푸시오"
   ]
  },
  {
   "cell_type": "code",
   "execution_count": 20,
   "metadata": {},
   "outputs": [],
   "source": [
    "names = [\"릴러말즈\", \"양홍원\", \"애쉬아일랜드\", \"성시경\", \"씨잼\", \"언에듀케이티드키드\", \"오왼\", \"아이유\",\n",
    "       \"DPR LIVE\", \"넬\", \"언오피셜보이\", \"김똥꼬발랄\", \"빅뱅컴백해요ㅎㅎ\", \"김승민\", \"지바노프\"]"
   ]
  },
  {
   "cell_type": "markdown",
   "metadata": {},
   "source": [
    "1) names 리스트에 담긴 이름 중 네 글자 이상인 이름만 새로운 리스트에 담아 출력해보세요"
   ]
  },
  {
   "cell_type": "code",
   "execution_count": 22,
   "metadata": {},
   "outputs": [
    {
     "name": "stdout",
     "output_type": "stream",
     "text": [
      "['릴러말즈', '애쉬아일랜드', '언에듀케이티드키드', 'DPR LIVE', '언오피셜보이', '김똥꼬발랄', '빅뱅컴백해요ㅎㅎ', '지바노프']\n"
     ]
    }
   ],
   "source": [
    "long_names = [ i for i in names if len(i)>=4]\n",
    "print(long_names) "
   ]
  },
  {
   "cell_type": "markdown",
   "metadata": {},
   "source": [
    "2) names의 이름 중 1)에서 만든 리스트에 없는 이름을 새 리스트에 담아 출력해보세요"
   ]
  },
  {
   "cell_type": "code",
   "execution_count": 23,
   "metadata": {},
   "outputs": [
    {
     "name": "stdout",
     "output_type": "stream",
     "text": [
      "['씨잼', '아이유', '양홍원', '성시경', '넬', '오왼', '김승민']\n"
     ]
    }
   ],
   "source": [
    "no_long_names = list(set(names)- set(long_names))\n",
    "print(no_long_names)"
   ]
  },
  {
   "cell_type": "markdown",
   "metadata": {},
   "source": [
    "### Q7. 다음 딕셔너리에서 items 메소드를 이용하여 딕셔너리에서 가장 큰 value를 가진 key를 출력해보시오"
   ]
  },
  {
   "cell_type": "code",
   "execution_count": 84,
   "metadata": {},
   "outputs": [
    {
     "name": "stdout",
     "output_type": "stream",
     "text": [
      "이것이 출력되야합니다\n"
     ]
    }
   ],
   "source": [
    "import operator \n",
    "\n",
    "my_dict = {'정답아님' : 20, '이것이 출력되야합니다' : 45, '이것도 아님' : 10, '이것도!' : 35}\n",
    "\n",
    "max_my_dict = max(my_dict.items(),key=operator.itemgetter(1))[0]\n",
    "print(max_my_dict)"
   ]
  },
  {
   "cell_type": "markdown",
   "metadata": {},
   "source": [
    "### Q8. 숫자를 입력받아 주어진 수가 1이 될때까지 다음 작업을 반복하고 반복한 횟수를 구하시오. [15점]\n",
    "\n",
    "(단, 작업을 500번 반복해도 1이 되지 않는다면 –1을 출력하시오.)\n",
    "```\n",
    "1-1. 입력된 수가 짝수라면 2로 나눈다.\n",
    "1-2. 입력된 수가 홀수라면 3을 곱하고 1을 더한다.\n",
    "2. 결과로 나온 수에 같은 작업을 1이 될 때까지 반복한다.\n",
    "\n",
    "[ 입력예시 ] 6  \n",
    "[ 출력예시 ] 8 (6 -> 3 -> 10 -> 5 -> 16 -> 8 -> 4 -> 2 -> 1)\n",
    "```"
   ]
  },
  {
   "cell_type": "code",
   "execution_count": null,
   "metadata": {},
   "outputs": [],
   "source": [
    "#5번과 동일 "
   ]
  },
  {
   "cell_type": "markdown",
   "metadata": {},
   "source": [
    "### Q9. 오바마 연설문을 가져와 가장 많이 언급되는 단어와 그것의 횟수를 출력하세요\n",
    "       (1) words 변수에 담긴 문자열을 띄어쓰기 기준으로 나눈다.\n",
    "       (2) words의 각 단어들을 key로, 각 단어의 횟수를 value로 하는 dictionary를 만든다.\n",
    "       (3) value가 가장 큰 key와 value를 출력한다!"
   ]
  },
  {
   "cell_type": "code",
   "execution_count": 31,
   "metadata": {},
   "outputs": [
    {
     "name": "stdout",
     "output_type": "stream",
     "text": [
      "Hello, Chicago.\n",
      "If there is anyone out there who still doubts that America is a place where all things are possible, who still wonders if the dream of our founders is alive in our time, who still questions the power of our democracy, tonight is your answer.\n",
      "\n",
      "It's the answer told by lines that stretched around schools and churches in numbers this nation has never seen, by people who waited three hours and four hours, many for the first time in their lives, because they believed that this time must be different, that their voices could be that difference.\n",
      "\n",
      "It's the answer spoken by young and old, rich and poor, Democrat and Republican, black, white, Hispanic, Asian, Native American, gay, straight, disabled and not disabled. Americans who sent a message to the world that we have never been just a collection of individuals or a collection of red states and blue states.\n",
      "\n",
      "We are, and always will be, the United States of America.\n",
      "\n",
      "It's the answer that led those who've been told for so long by so many to be cynical and fearful and doubtful about what we can achieve to put their hands on the arc of history and bend it on-ce more toward the hope of a better day.\n",
      "\n",
      "It's been a long time coming, but tonight, because of what we did on this date in this election at this defining moment change has come to America.\n",
      "\n",
      "A little bit earlier this evening, I received an extraordinarily gracious call from Sen. McCain.\n",
      "\n",
      "Don't Miss\n",
      "America votes for change\n",
      "Transcript of McCain's concession speech\n",
      "African-American centenarian votes\n",
      "Obama grandmother dies before election\n",
      "Presidential election results\n",
      "Sen. McCain fought long and hard in this campaign. And he's fought even longer and harder for the country that he loves. He has endured sacrifices for America that most of us cannot begin to imagine. We are better off for the service rendered by this brave and selfless leader.\n",
      "\n",
      "I congratulate him; I congratulate Gov. Palin for all that they've achieved. And I look forward to working with them to renew this nation's promise in the months ahead.\n",
      "\n",
      "I want to thank my partner in this journey, a man who campaigned from his heart, and spoke for the men and women he grew up with on the streets of Scranton and rode with on the train home to Delaware, the vice president-elect of the United States, Joe Biden.\n",
      "\n",
      "And I would not be standing here tonight without the unyielding support of my best friend for the last 16 years the rock of our family, the love of my life, the nation's next first lady Michelle Obama.\n",
      "\n",
      "Sasha and Malia I love you both more than you can imagine. And you have earned the new puppy that's coming with us to the new White House.\n",
      "\n",
      "And while she's no longer with us, I know my grandmother's watching, along with the family that made me who I am. I miss them tonight. I know that my debt to them is beyond measure.\n",
      "\n",
      "To my sister Maya, my sister Alma, all my other brothers and sisters, thank you so much for all the support that you've given me. I am grateful to them.\n",
      "\n",
      "And to my campaign manager, David Plouffe, the unsung hero of this campaign, who built the best -- the best political campaign, I think, in the history of the United States of America.\n",
      "\n",
      "To my chief strategist David Axelrod who's been a partner with me every step of the way.\n",
      "\n",
      "To the best campaign team ever assembled in the history of politics you made this happen, and I am forever grateful for what you've sacrificed to get it done.\n",
      "\n",
      "But above all, I will never forget who this victory truly belongs to. It belongs to you. It belongs to you.\n",
      "\n",
      "I was never the likeliest candidate for this office. We didn't start with much money or many endorsements. Our campaign was not hatched in the halls of Washington. It began in the backyards of Des Moines and the living rooms of Concord and the front porches of Charleston. It was built by working men and women who dug into what little savings they had to give $5 and $10 and $20 to the cause.\n",
      "\n",
      "It grew strength from the young people who rejected the myth of their generation's apathy who left their homes and their families for jobs that offered little pay and less sleep.\n",
      "\n",
      "It drew strength from the not-so-young people who braved the bitter cold and scorching heat to knock on doors of perfect strangers, and from the millions of Americans who volunteered and organized and proved that more than two centuries later a government of the people, by the people, and for the people has not perished from the Earth.\n",
      "\n",
      "This is your victory.\n",
      "And I know you didn't do this just to win an election. And I know you didn't do it for me.\n",
      "\n",
      "You did it because you understand the enormity of the task that lies ahead. For even as we celebrate tonight, we know the challenges that tomorrow will bring are the greatest of our lifetime -- two wars, a planet in peril, the worst financial crisis in a century.\n",
      "\n",
      "Even as we stand here tonight, we know there are brave Americans waking up in the deserts of Iraq and the mountains of Afghanistan to risk their lives for us.\n",
      "\n",
      "There are mothers and fathers who will lie awake after the children fall asleep and wonder how they'll make the mortgage or pay their doctors' bills or save enough for their child's college education.\n",
      "\n",
      "There's new energy to harness, new jobs to be created, new schools to build, and threats to meet, alliances to repair.\n",
      "\n",
      "The road ahead will be long. Our climb will be steep. We may not get there in on-e year or even in on-e term. But, America, I have never been more hopeful than I am tonight that we will get there.\n",
      "\n",
      "I promise you, we as a people will get there.\n",
      "There will be setbacks and false starts. There are many who won't agree with every decision or policy I make as president. And we know the government can't solve every problem.\n",
      "\n",
      "But I will always be honest with you about the challenges we face. I will listen to you, especially when we disagree. And, above all, I will ask you to join in the work of remaking this nation, the on-ly way it's been done in America for 221 years -- block by block, brick by brick, calloused hand by calloused hand.\n",
      "\n",
      "What began 21 months ago in the depths of winter cannot end on this autumn night.\n",
      "\n",
      "This victory alone is not the change we seek. It is on-ly the chance for us to make that change. And that cannot happen if we go back to the way things were.\n",
      "\n",
      "It can't happen without you, without a new spirit of service, a new spirit of sacrifice.\n",
      "\n",
      "So let us summon a new spirit of patriotism, of responsibility, where each of us resolves to pitch in and work harder and look after not on-ly ourselves but each other.\n",
      "\n",
      "Let us remember that, if this financial crisis taught us anything, it's that we cannot have a thriving Wall Street while Main Street suffers.\n",
      "\n",
      "In this country, we rise or fall as on-e nation, as on-e people. Let's resist the temptation to fall back on the same partisanship and pettiness and immaturity that has poisoned our politics for so long.\n",
      "\n",
      "Let's remember that it was a man from this state who first carried the banner of the Republican Party to the White House, a party founded on the values of self-reliance and individual liberty and national unity.\n",
      "\n",
      "Those are values that we all share. And while the Democratic Party has won a great victory tonight, we do so with a measure of humility and determination to heal the divides that have held back our progress.\n",
      "\n",
      "As Lincoln said to a nation far more divided than ours, we are not enemies but friends. Though passion may have strained, it must not break our bonds of affection.\n",
      "\n",
      "And to those Americans whose support I have yet to earn, I may not have won your vote tonight, but I hear your voices. I need your help. And I will be your president, too.\n",
      "\n",
      "And to all those watching tonight from beyond our shores, from parliaments and palaces, to those who are huddled around radios in the forgotten corners of the world, our stories are singular, but our destiny is shared, and a new dawn of American leadership is at hand.\n",
      "\n",
      "To those -- to those who would tear the world down: We will defeat you. To those who seek peace and security: We support you. And to all those who have wondered if America's beacon still burns as bright: Tonight we proved on-ce more that the true strength of our nation comes not from the might of our arms or the scale of our wealth, but from the enduring power of our ideals: democracy, liberty, opportunity and unyielding hope.\n",
      "\n",
      "That's the true genius of America: that America can change. Our union can be perfected. What we've already achieved gives us hope for what we can and must achieve tomorrow.\n",
      "\n",
      "This election had many firsts and many stories that will be told for generations. But on-e that's on my mind tonight's about a woman who cast her ballot in Atlanta. She's a lot like the millions of others who stood in line to make their voice heard in this election except for on-e thing: Ann Nixon Cooper is 106 years old.\n",
      "\n",
      "She was born just a generation past slavery; a time when there were no cars on the road or planes in the sky; when someone like her couldn't vote for two reasons -- because she was a woman and because of the color of her skin.\n",
      "\n",
      "And tonight, I think about all that she's seen throughout her century in America -- the heartache and the hope; the struggle and the progress; the times we were told that we can't, and the people who pressed on with that American creed: Yes we can.\n",
      "\n",
      "At a time when women's voices were silenced and their hopes dismissed, she lived to see them stand up and speak out and reach for the ballot. Yes we can.\n",
      "\n",
      "When there was despair in the dust bowl and depression across the land, she saw a nation conquer fear itself with a New Deal, new jobs, a new sense of common purpose. Yes we can.\n",
      "\n",
      "When the bombs fell on our harbor and tyranny threatened the world, she was there to witness a generation rise to greatness and a democracy was saved. Yes we can.\n",
      "\n",
      "She was there for the buses in Montgomery, the hoses in Birmingham, a bridge in Selma, and a preacher from Atlanta who told a people that \"We Shall Overcome.\" Yes we can.\n",
      "\n",
      "A man touched down on the moon, a wall came down in Berlin, a world was connected by our own science and imagination.\n",
      "\n",
      "And this year, in this election, she touched her finger to a screen, and cast her vote, because after 106 years in America, through the best of times and the darkest of hours, she knows how America can change.\n",
      "\n",
      "Yes we can.\n",
      "America, we have come so far. We have seen so much. But there is so much more to do. So tonight, let us ask ourselves -- if our children should live to see the next century; if my daughters should be so lucky to live as long as Ann Nixon Cooper, what change will they see? What progress will we have made?\n",
      "\n",
      "This is our chance to answer that call. This is our moment.\n",
      "\n",
      "This is our time, to put our people back to work and open doors of opportunity for our kids; to restore prosperity and promote the cause of peace; to reclaim the American dream and reaffirm that fundamental truth, that, out of many, we are on-e; that while we breathe, we hope. And where we are met with cynicism and doubts and those who tell us that we can't, we will respond with that timeless creed that sums up the spirit of a people: Yes, we can.\n",
      "\n",
      "Thank you. God bless you. And may God bless the United States of America.\n"
     ]
    }
   ],
   "source": [
    "# 텍스트 화일을 열고 words라는 변수에 저장\n",
    "with open('Obama_words.txt', 'r') as f:\n",
    "    words = f.read()\n",
    "    f.close()\n",
    "print(words)"
   ]
  },
  {
   "cell_type": "code",
   "execution_count": 36,
   "metadata": {},
   "outputs": [
    {
     "data": {
      "text/plain": [
       "{'the': 108}"
      ]
     },
     "execution_count": 36,
     "metadata": {},
     "output_type": "execute_result"
    }
   ],
   "source": [
    "# 이 셀에 문제를 푸세요!\n",
    "wordlist = words.split() #띄어쓰기기준 문자열나누기제\n",
    "count= {} \n",
    "\n",
    "for word in wordlist:\n",
    "    if word in count:\n",
    "        count[word] = count[word] +1 #중복키 value값 추가 \n",
    "    else: \n",
    "        count[word] = 1\n",
    "{a:b for a,b in count.items() if max(count.values())== b }"
   ]
  },
  {
   "cell_type": "markdown",
   "metadata": {},
   "source": [
    "### Q10. 다음 그림과 같이 밑변의 길이와 높이가 n인 삼각형에서 맨 위 꼭짓점부터 반시계 방향으로 숫자를 채워넣은 후, 첫 행부터 마지막 행까지 모두 순서대로 합친 새로운 배열을 출력하시오.\n",
    "```\n",
    "[ 입력예시 ] 4\n",
    "[ 출력예시 ] [1, 2, 9, 3, 10, 8, 4, 5, 6, 7]\n",
    "```"
   ]
  },
  {
   "cell_type": "markdown",
   "metadata": {},
   "source": [
    "<img src=\"triangle.png\" align=\"left\" width=\"650px\" height=\"500px\">"
   ]
  },
  {
   "cell_type": "code",
   "execution_count": 14,
   "metadata": {},
   "outputs": [
    {
     "name": "stdout",
     "output_type": "stream",
     "text": [
      "[입력예시] 4\n",
      "[출력예시] [[1, 0, 0, 0], [2, 9, 0, 0], [3, 10, 8, 0], [4, 5, 6, 7]]\n"
     ]
    }
   ],
   "source": [
    "n = int(input(\"[입력예시] \"))\n",
    "x = 0\n",
    "y = 0\n",
    "z = 0\n",
    "n_2 = int((n*(n+1))/2)\n",
    "lst = []\n",
    "for i in range(n):\n",
    "    lst.append([0]*n)\n",
    "\n",
    "for j in range(n):\n",
    "    lst[y][x] = j+1\n",
    "    y+=1\n",
    "for k in range(n):\n",
    "    lst[y-1][x] = k+y\n",
    "    x+=1\n",
    "z = x + y\n",
    "\n",
    "while z <= n_2:\n",
    "    if lst[y-2][x-2] == 0:\n",
    "        while lst[y-2][x-2] <= 0:\n",
    "            x=x-1\n",
    "            y=y-1\n",
    "            lst[y-1][x-1] = z\n",
    "            z=z+1\n",
    "    if lst[y][x-1] == 0:\n",
    "        while lst[y][x-1] <= 0:\n",
    "            y+=1\n",
    "            lst[y-1][x-1] = z\n",
    "            z+=1\n",
    "    if lst[y-1][x] == 0:\n",
    "        while lst[y-1][x] <= 0:\n",
    "            x+=1\n",
    "            lst[y-1][x-1] = z\n",
    "            z+=1\n",
    "print(\"[출력예시]\",lst)"
   ]
  },
  {
   "cell_type": "code",
   "execution_count": null,
   "metadata": {},
   "outputs": [],
   "source": []
  }
 ],
 "metadata": {
  "kernelspec": {
   "display_name": "Python 3",
   "language": "python",
   "name": "python3"
  },
  "language_info": {
   "codemirror_mode": {
    "name": "ipython",
    "version": 3
   },
   "file_extension": ".py",
   "mimetype": "text/x-python",
   "name": "python",
   "nbconvert_exporter": "python",
   "pygments_lexer": "ipython3",
   "version": "3.8.5"
  }
 },
 "nbformat": 4,
 "nbformat_minor": 5
}
